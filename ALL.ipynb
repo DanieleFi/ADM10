{
 "cells": [
  {
   "cell_type": "markdown",
   "metadata": {},
   "source": [
    "## RQ1"
   ]
  },
  {
   "cell_type": "markdown",
   "metadata": {},
   "source": [
    "Let's import the libraries"
   ]
  },
  {
   "cell_type": "code",
   "execution_count": 2,
   "metadata": {},
   "outputs": [],
   "source": [
    "import pandas as pd\n",
    "import numpy as np\n",
    "import scipy.stats as stats\n",
    "from matplotlib import pyplot\n",
    "import seaborn as sns\n",
    "import matplotlib.pyplot as plt\n",
    "pd.set_option(\"display.max_columns\",10)"
   ]
  },
  {
   "cell_type": "markdown",
   "metadata": {},
   "source": [
    "Let's read the data from the different months:"
   ]
  },
  {
   "cell_type": "code",
   "execution_count": 3,
   "metadata": {},
   "outputs": [],
   "source": [
    "Location_Jan = r\"/Users/daniele/Documents/yellow_tripdata_2018-01.csv\"\n",
    "Location_Feb = r\"/Users/daniele/Documents/yellow_tripdata_2018-02.csv\"\n",
    "Location_Mar = r\"/Users/daniele/Documents/yellow_tripdata_2018-03.csv\"\n",
    "Location_Apr = r\"/Users/daniele/Documents/yellow_tripdata_2018-04.csv\"\n",
    "Location_May = r\"/Users/daniele/Documents/yellow_tripdata_2018-05.csv\"\n",
    "Location_Jun = r\"/Users/daniele/Documents/yellow_tripdata_2018-06.csv\""
   ]
  },
  {
   "cell_type": "markdown",
   "metadata": {},
   "source": [
    "We start the analysis for the january month."
   ]
  },
  {
   "cell_type": "code",
   "execution_count": 4,
   "metadata": {},
   "outputs": [],
   "source": [
    "nytaxi = pd.read_csv(Location_Jan, usecols=[0,1,2,7]) "
   ]
  },
  {
   "cell_type": "code",
   "execution_count": 46,
   "metadata": {},
   "outputs": [
    {
     "data": {
      "text/html": [
       "<div>\n",
       "<style scoped>\n",
       "    .dataframe tbody tr th:only-of-type {\n",
       "        vertical-align: middle;\n",
       "    }\n",
       "\n",
       "    .dataframe tbody tr th {\n",
       "        vertical-align: top;\n",
       "    }\n",
       "\n",
       "    .dataframe thead th {\n",
       "        text-align: right;\n",
       "    }\n",
       "</style>\n",
       "<table border=\"1\" class=\"dataframe\">\n",
       "  <thead>\n",
       "    <tr style=\"text-align: right;\">\n",
       "      <th></th>\n",
       "      <th>VendorID</th>\n",
       "      <th>tpep_pickup_datetime</th>\n",
       "      <th>tpep_dropoff_datetime</th>\n",
       "      <th>PULocationID</th>\n",
       "    </tr>\n",
       "  </thead>\n",
       "  <tbody>\n",
       "    <tr>\n",
       "      <th>0</th>\n",
       "      <td>1</td>\n",
       "      <td>2018-01-01 00:21:05</td>\n",
       "      <td>2018-01-01 00:24:23</td>\n",
       "      <td>41</td>\n",
       "    </tr>\n",
       "    <tr>\n",
       "      <th>1</th>\n",
       "      <td>1</td>\n",
       "      <td>2018-01-01 00:44:55</td>\n",
       "      <td>2018-01-01 01:03:05</td>\n",
       "      <td>239</td>\n",
       "    </tr>\n",
       "    <tr>\n",
       "      <th>2</th>\n",
       "      <td>1</td>\n",
       "      <td>2018-01-01 00:08:26</td>\n",
       "      <td>2018-01-01 00:14:21</td>\n",
       "      <td>262</td>\n",
       "    </tr>\n",
       "    <tr>\n",
       "      <th>3</th>\n",
       "      <td>1</td>\n",
       "      <td>2018-01-01 00:20:22</td>\n",
       "      <td>2018-01-01 00:52:51</td>\n",
       "      <td>140</td>\n",
       "    </tr>\n",
       "    <tr>\n",
       "      <th>4</th>\n",
       "      <td>1</td>\n",
       "      <td>2018-01-01 00:09:18</td>\n",
       "      <td>2018-01-01 00:27:06</td>\n",
       "      <td>246</td>\n",
       "    </tr>\n",
       "  </tbody>\n",
       "</table>\n",
       "</div>"
      ],
      "text/plain": [
       "   VendorID tpep_pickup_datetime tpep_dropoff_datetime  PULocationID\n",
       "0         1  2018-01-01 00:21:05   2018-01-01 00:24:23            41\n",
       "1         1  2018-01-01 00:44:55   2018-01-01 01:03:05           239\n",
       "2         1  2018-01-01 00:08:26   2018-01-01 00:14:21           262\n",
       "3         1  2018-01-01 00:20:22   2018-01-01 00:52:51           140\n",
       "4         1  2018-01-01 00:09:18   2018-01-01 00:27:06           246"
      ]
     },
     "execution_count": 46,
     "metadata": {},
     "output_type": "execute_result"
    }
   ],
   "source": [
    "nytaxi.head()"
   ]
  },
  {
   "cell_type": "code",
   "execution_count": 5,
   "metadata": {},
   "outputs": [
    {
     "data": {
      "text/html": [
       "<div>\n",
       "<style scoped>\n",
       "    .dataframe tbody tr th:only-of-type {\n",
       "        vertical-align: middle;\n",
       "    }\n",
       "\n",
       "    .dataframe tbody tr th {\n",
       "        vertical-align: top;\n",
       "    }\n",
       "\n",
       "    .dataframe thead th {\n",
       "        text-align: right;\n",
       "    }\n",
       "</style>\n",
       "<table border=\"1\" class=\"dataframe\">\n",
       "  <thead>\n",
       "    <tr style=\"text-align: right;\">\n",
       "      <th></th>\n",
       "      <th>VendorID</th>\n",
       "      <th>tpep_pickup_datetime</th>\n",
       "      <th>tpep_dropoff_datetime</th>\n",
       "      <th>PULocationID</th>\n",
       "      <th>Borough</th>\n",
       "    </tr>\n",
       "  </thead>\n",
       "  <tbody>\n",
       "    <tr>\n",
       "      <th>0</th>\n",
       "      <td>1</td>\n",
       "      <td>2018-01-01 00:21:05</td>\n",
       "      <td>2018-01-01 00:24:23</td>\n",
       "      <td>41</td>\n",
       "      <td>Manhattan</td>\n",
       "    </tr>\n",
       "    <tr>\n",
       "      <th>1</th>\n",
       "      <td>1</td>\n",
       "      <td>2018-01-01 00:44:55</td>\n",
       "      <td>2018-01-01 01:03:05</td>\n",
       "      <td>239</td>\n",
       "      <td>Manhattan</td>\n",
       "    </tr>\n",
       "    <tr>\n",
       "      <th>2</th>\n",
       "      <td>1</td>\n",
       "      <td>2018-01-01 00:08:26</td>\n",
       "      <td>2018-01-01 00:14:21</td>\n",
       "      <td>262</td>\n",
       "      <td>Manhattan</td>\n",
       "    </tr>\n",
       "    <tr>\n",
       "      <th>3</th>\n",
       "      <td>1</td>\n",
       "      <td>2018-01-01 00:20:22</td>\n",
       "      <td>2018-01-01 00:52:51</td>\n",
       "      <td>140</td>\n",
       "      <td>Manhattan</td>\n",
       "    </tr>\n",
       "    <tr>\n",
       "      <th>4</th>\n",
       "      <td>1</td>\n",
       "      <td>2018-01-01 00:09:18</td>\n",
       "      <td>2018-01-01 00:27:06</td>\n",
       "      <td>246</td>\n",
       "      <td>Manhattan</td>\n",
       "    </tr>\n",
       "  </tbody>\n",
       "</table>\n",
       "</div>"
      ],
      "text/plain": [
       "   VendorID tpep_pickup_datetime tpep_dropoff_datetime  PULocationID  \\\n",
       "0         1  2018-01-01 00:21:05   2018-01-01 00:24:23            41   \n",
       "1         1  2018-01-01 00:44:55   2018-01-01 01:03:05           239   \n",
       "2         1  2018-01-01 00:08:26   2018-01-01 00:14:21           262   \n",
       "3         1  2018-01-01 00:20:22   2018-01-01 00:52:51           140   \n",
       "4         1  2018-01-01 00:09:18   2018-01-01 00:27:06           246   \n",
       "\n",
       "     Borough  \n",
       "0  Manhattan  \n",
       "1  Manhattan  \n",
       "2  Manhattan  \n",
       "3  Manhattan  \n",
       "4  Manhattan  "
      ]
     },
     "execution_count": 5,
     "metadata": {},
     "output_type": "execute_result"
    }
   ],
   "source": [
    "Location_2 =r\"/Users/daniele/Documents/taxi_zone_lookup .csv\"\n",
    "nyBorough =pd.read_csv(Location_2, usecols=[0,1], sep = ';')\n",
    "df_full = nytaxi.join(nyBorough.set_index('LocationID'), on='PULocationID')\n",
    "df_full.head()"
   ]
  },
  {
   "cell_type": "markdown",
   "metadata": {},
   "source": [
    "For each of the borough in NY, without considering the Unknown borough, we compute the average numbers of trips. To do this we select the number of rows (each row is a trip) for the specific borough and considering the variable tpep_pickup_datetime when takes value in 2018-01 and then we divide for the number of days in each month."
   ]
  },
  {
   "cell_type": "markdown",
   "metadata": {},
   "source": []
  },
  {
   "cell_type": "code",
   "execution_count": 48,
   "metadata": {},
   "outputs": [],
   "source": [
    "df = df_full"
   ]
  },
  {
   "cell_type": "code",
   "execution_count": 49,
   "metadata": {},
   "outputs": [],
   "source": [
    "df_Man_Jan = df.loc[(df['Borough']=='Manhattan')  & (df['tpep_pickup_datetime'].str.startswith('2018-01'))]\n",
    "av_Man_Jan = len(df_Man_Jan)/31\n",
    "df_Bro_Jan = df.loc[(df['Borough']=='Bronx')  & (df['tpep_pickup_datetime'].str.startswith('2018-01'))]\n",
    "av_Bro_Jan = len(df_Bro_Jan)/31\n",
    "df_Bru_Jan = df.loc[(df['Borough']=='Brooklyn')  & (df['tpep_pickup_datetime'].str.startswith('2018-01'))]\n",
    "av_Bru_Jan = len(df_Bru_Jan)/31\n",
    "df_EWR_Jan = df.loc[(df['Borough']=='EWR')  & (df['tpep_pickup_datetime'].str.startswith('2018-01'))]\n",
    "av_EWR_Jan = len(df_EWR_Jan)/31\n",
    "df_Queens_Jan = df.loc[(df['Borough']=='Queens')  & (df['tpep_pickup_datetime'].str.startswith('2018-01'))]\n",
    "av_Queens_Jan = len(df_Queens_Jan)/31\n",
    "df_Staten_Jan = df.loc[(df['Borough']=='Staten Island')  & (df['tpep_pickup_datetime'].str.startswith('2018-01'))]\n",
    "av_Staten_Jan = len(df_Staten_Jan)/31"
   ]
  },
  {
   "cell_type": "markdown",
   "metadata": {},
   "source": [
    "Let's do the same for February..."
   ]
  },
  {
   "cell_type": "code",
   "execution_count": 50,
   "metadata": {},
   "outputs": [],
   "source": [
    "Location_Feb = r\"/Users/daniele/Documents/yellow_tripdata_2018-02.csv\"\n",
    "nytaxi = pd.read_csv(Location_Feb, usecols=[0,1,2,7]) \n",
    "df_full = nytaxi.join(nyBorough.set_index('LocationID'), on='PULocationID')\n",
    "df = df_full"
   ]
  },
  {
   "cell_type": "code",
   "execution_count": 51,
   "metadata": {},
   "outputs": [
    {
     "data": {
      "text/html": [
       "<div>\n",
       "<style scoped>\n",
       "    .dataframe tbody tr th:only-of-type {\n",
       "        vertical-align: middle;\n",
       "    }\n",
       "\n",
       "    .dataframe tbody tr th {\n",
       "        vertical-align: top;\n",
       "    }\n",
       "\n",
       "    .dataframe thead th {\n",
       "        text-align: right;\n",
       "    }\n",
       "</style>\n",
       "<table border=\"1\" class=\"dataframe\">\n",
       "  <thead>\n",
       "    <tr style=\"text-align: right;\">\n",
       "      <th></th>\n",
       "      <th>VendorID</th>\n",
       "      <th>tpep_pickup_datetime</th>\n",
       "      <th>tpep_dropoff_datetime</th>\n",
       "      <th>PULocationID</th>\n",
       "      <th>Borough</th>\n",
       "    </tr>\n",
       "  </thead>\n",
       "  <tbody>\n",
       "    <tr>\n",
       "      <th>0</th>\n",
       "      <td>1</td>\n",
       "      <td>2018-02-01 00:01:58</td>\n",
       "      <td>2018-02-01 00:04:03</td>\n",
       "      <td>145</td>\n",
       "      <td>Queens</td>\n",
       "    </tr>\n",
       "    <tr>\n",
       "      <th>1</th>\n",
       "      <td>1</td>\n",
       "      <td>2018-02-01 00:56:48</td>\n",
       "      <td>2018-02-01 00:57:42</td>\n",
       "      <td>145</td>\n",
       "      <td>Queens</td>\n",
       "    </tr>\n",
       "    <tr>\n",
       "      <th>2</th>\n",
       "      <td>1</td>\n",
       "      <td>2018-02-01 00:04:42</td>\n",
       "      <td>2018-02-01 00:19:32</td>\n",
       "      <td>236</td>\n",
       "      <td>Manhattan</td>\n",
       "    </tr>\n",
       "    <tr>\n",
       "      <th>3</th>\n",
       "      <td>1</td>\n",
       "      <td>2018-02-01 00:38:10</td>\n",
       "      <td>2018-02-01 00:40:16</td>\n",
       "      <td>82</td>\n",
       "      <td>Queens</td>\n",
       "    </tr>\n",
       "    <tr>\n",
       "      <th>4</th>\n",
       "      <td>1</td>\n",
       "      <td>2018-02-01 00:43:03</td>\n",
       "      <td>2018-02-01 00:59:26</td>\n",
       "      <td>82</td>\n",
       "      <td>Queens</td>\n",
       "    </tr>\n",
       "  </tbody>\n",
       "</table>\n",
       "</div>"
      ],
      "text/plain": [
       "   VendorID tpep_pickup_datetime tpep_dropoff_datetime  PULocationID  \\\n",
       "0         1  2018-02-01 00:01:58   2018-02-01 00:04:03           145   \n",
       "1         1  2018-02-01 00:56:48   2018-02-01 00:57:42           145   \n",
       "2         1  2018-02-01 00:04:42   2018-02-01 00:19:32           236   \n",
       "3         1  2018-02-01 00:38:10   2018-02-01 00:40:16            82   \n",
       "4         1  2018-02-01 00:43:03   2018-02-01 00:59:26            82   \n",
       "\n",
       "     Borough  \n",
       "0     Queens  \n",
       "1     Queens  \n",
       "2  Manhattan  \n",
       "3     Queens  \n",
       "4     Queens  "
      ]
     },
     "execution_count": 51,
     "metadata": {},
     "output_type": "execute_result"
    }
   ],
   "source": [
    "df.head()"
   ]
  },
  {
   "cell_type": "code",
   "execution_count": 53,
   "metadata": {},
   "outputs": [],
   "source": [
    "df_Man = df.loc[(df['Borough']=='Manhattan')  & (df['tpep_pickup_datetime'].str.startswith('2018-02'))]\n",
    "av_Man_Feb = len(df_Man)/28\n",
    "df_Bro = df.loc[(df['Borough']=='Bronx')  & (df['tpep_pickup_datetime'].str.startswith('2018-02'))]\n",
    "av_Bro_Feb = len(df_Bro)/28\n",
    "df_Bru = df.loc[(df['Borough']=='Brooklyn')  & (df['tpep_pickup_datetime'].str.startswith('2018-02'))]\n",
    "av_Bru_Feb = len(df_Bru)/28\n",
    "df_EWR = df.loc[(df['Borough']=='EWR')  & (df['tpep_pickup_datetime'].str.startswith('2018-02'))]\n",
    "av_EWR_Feb = len(df_EWR)/28\n",
    "df_Queens = df.loc[(df['Borough']=='Queens')  & (df['tpep_pickup_datetime'].str.startswith('2018-02'))]\n",
    "av_Queens_Feb = len(df_Queens)/28\n",
    "df_Staten = df.loc[(df['Borough']=='Staten Island')  & (df['tpep_pickup_datetime'].str.startswith('2018-02'))]\n",
    "av_Staten_Feb = len(df_Staten)/28"
   ]
  },
  {
   "cell_type": "markdown",
   "metadata": {},
   "source": [
    "Now March and so on..."
   ]
  },
  {
   "cell_type": "code",
   "execution_count": 54,
   "metadata": {},
   "outputs": [],
   "source": [
    "Location_March = r\"/Users/daniele/Documents/yellow_tripdata_2018-03.csv\"\n",
    "nytaxi = pd.read_csv(Location_March, usecols=[0,1,2,7]) \n",
    "df_full = nytaxi.join(nyBorough.set_index('LocationID'), on='PULocationID')\n",
    "df = df_full"
   ]
  },
  {
   "cell_type": "code",
   "execution_count": 56,
   "metadata": {},
   "outputs": [],
   "source": [
    "df_Man = df.loc[(df['Borough']=='Manhattan')  & (df['tpep_pickup_datetime'].str.startswith('2018-03'))]\n",
    "av_Man_March = len(df_Man)/31\n",
    "df_Bro = df.loc[(df['Borough']=='Bronx')  & (df['tpep_pickup_datetime'].str.startswith('2018-03'))]\n",
    "av_Bro_March = len(df_Bro)/31\n",
    "df_Bru = df.loc[(df['Borough']=='Brooklyn')  & (df['tpep_pickup_datetime'].str.startswith('2018-03'))]\n",
    "av_Bru_March = len(df_Bru)/31\n",
    "df_EWR = df.loc[(df['Borough']=='EWR')  & (df['tpep_pickup_datetime'].str.startswith('2018-03'))]\n",
    "av_EWR_March = len(df_EWR)/31\n",
    "df_Queens = df.loc[(df['Borough']=='Queens')  & (df['tpep_pickup_datetime'].str.startswith('2018-03'))]\n",
    "av_Queens_March = len(df_Queens)/31\n",
    "df_Staten = df.loc[(df['Borough']=='Staten Island')  & (df['tpep_pickup_datetime'].str.startswith('2018-03'))]\n",
    "av_Staten_March = len(df_Staten)/31"
   ]
  },
  {
   "cell_type": "code",
   "execution_count": 57,
   "metadata": {},
   "outputs": [],
   "source": [
    "Location_April = r\"/Users/daniele/Documents/yellow_tripdata_2018-04.csv\"\n",
    "nytaxi = pd.read_csv(Location_April, usecols=[0,1,2,7]) \n",
    "df_full = nytaxi.join(nyBorough.set_index('LocationID'), on='PULocationID')\n",
    "df = df_full"
   ]
  },
  {
   "cell_type": "code",
   "execution_count": 58,
   "metadata": {},
   "outputs": [],
   "source": [
    "df_Man = df.loc[(df['Borough']=='Manhattan')  & (df['tpep_pickup_datetime'].str.startswith('2018-04'))]\n",
    "av_Man_April = len(df_Man)/30\n",
    "df_Bro = df.loc[(df['Borough']=='Bronx')  & (df['tpep_pickup_datetime'].str.startswith('2018-04'))]\n",
    "av_Bro_April = len(df_Bro)/30\n",
    "df_Bru = df.loc[(df['Borough']=='Brooklyn')  & (df['tpep_pickup_datetime'].str.startswith('2018-04'))]\n",
    "av_Bru_April = len(df_Bru)/30\n",
    "df_EWR = df.loc[(df['Borough']=='EWR')  & (df['tpep_pickup_datetime'].str.startswith('2018-04'))]\n",
    "av_EWR_April = len(df_EWR)/30\n",
    "df_Queens = df.loc[(df['Borough']=='Queens')  & (df['tpep_pickup_datetime'].str.startswith('2018-04'))]\n",
    "av_Queens_April = len(df_Queens)/30\n",
    "df_Staten = df.loc[(df['Borough']=='Staten Island')  & (df['tpep_pickup_datetime'].str.startswith('2018-04'))]\n",
    "av_Staten_April = len(df_Staten)/30"
   ]
  },
  {
   "cell_type": "code",
   "execution_count": 59,
   "metadata": {},
   "outputs": [],
   "source": [
    "Location_May = r\"/Users/daniele/Documents/yellow_tripdata_2018-05.csv\"\n",
    "nytaxi = pd.read_csv(Location_May, usecols=[0,1,2,7]) \n",
    "df_full = nytaxi.join(nyBorough.set_index('LocationID'), on='PULocationID')\n",
    "df = df_full"
   ]
  },
  {
   "cell_type": "code",
   "execution_count": 60,
   "metadata": {},
   "outputs": [],
   "source": [
    "df_Man = df.loc[(df['Borough']=='Manhattan')  & (df['tpep_pickup_datetime'].str.startswith('2018-05'))]\n",
    "av_Man_May = len(df_Man)/31\n",
    "df_Bro = df.loc[(df['Borough']=='Bronx')  & (df['tpep_pickup_datetime'].str.startswith('2018-05'))]\n",
    "av_Bro_May = len(df_Bro)/31\n",
    "df_Bru = df.loc[(df['Borough']=='Brooklyn')  & (df['tpep_pickup_datetime'].str.startswith('2018-05'))]\n",
    "av_Bru_May = len(df_Bru)/31\n",
    "df_EWR = df.loc[(df['Borough']=='EWR')  & (df['tpep_pickup_datetime'].str.startswith('2018-05'))]\n",
    "av_EWR_May = len(df_EWR)/31\n",
    "df_Queens = df.loc[(df['Borough']=='Queens')  & (df['tpep_pickup_datetime'].str.startswith('2018-05'))]\n",
    "av_Queens_May = len(df_Queens)/31\n",
    "df_Staten = df.loc[(df['Borough']=='Staten Island')  & (df['tpep_pickup_datetime'].str.startswith('2018-05'))]\n",
    "av_Staten_May = len(df_Staten)/31"
   ]
  },
  {
   "cell_type": "code",
   "execution_count": 61,
   "metadata": {},
   "outputs": [],
   "source": [
    "Location_June = r\"/Users/daniele/Documents/yellow_tripdata_2018-06.csv\"\n",
    "nytaxi = pd.read_csv(Location_June, usecols=[0,1,2,7]) \n",
    "df_full = nytaxi.join(nyBorough.set_index('LocationID'), on='PULocationID')\n",
    "df = df_full"
   ]
  },
  {
   "cell_type": "code",
   "execution_count": 62,
   "metadata": {},
   "outputs": [],
   "source": [
    "df_Man = df.loc[(df['Borough']=='Manhattan')  & (df['tpep_pickup_datetime'].str.startswith('2018-06'))]\n",
    "av_Man_June = len(df_Man)/30\n",
    "df_Bro = df.loc[(df['Borough']=='Bronx')  & (df['tpep_pickup_datetime'].str.startswith('2018-06'))]\n",
    "av_Bro_June = len(df_Bro)/30\n",
    "df_Bru = df.loc[(df['Borough']=='Brooklyn')  & (df['tpep_pickup_datetime'].str.startswith('2018-06'))]\n",
    "av_Bru_June = len(df_Bru)/30\n",
    "df_EWR = df.loc[(df['Borough']=='EWR')  & (df['tpep_pickup_datetime'].str.startswith('2018-06'))]\n",
    "av_EWR_June = len(df_EWR)/30\n",
    "df_Queens = df.loc[(df['Borough']=='Queens')  & (df['tpep_pickup_datetime'].str.startswith('2018-06'))]\n",
    "av_Queens_June = len(df_Queens)/30\n",
    "df_Staten = df.loc[(df['Borough']=='Staten Island')  & (df['tpep_pickup_datetime'].str.startswith('2018-06'))]\n",
    "av_Staten_June = len(df_Staten)/30"
   ]
  },
  {
   "cell_type": "markdown",
   "metadata": {},
   "source": [
    "Now we collect all the averages together and then we plot them in order to have a time series of averages for each borough considered."
   ]
  },
  {
   "cell_type": "code",
   "execution_count": 63,
   "metadata": {},
   "outputs": [],
   "source": [
    "average_Man = [av_Man_Jan, av_Man_Feb, av_Man_March, av_Man_April, av_Man_May, av_Man_June]\n",
    "average_Bronx = [av_Bro_Jan, av_Bro_Feb, av_Bro_March, av_Bro_April, av_Bro_May, av_Bro_June]\n",
    "average_Bru = [av_Bru_Jan, av_Bru_Feb, av_Bru_March, av_Bru_April, av_Bru_May, av_Bru_June]\n",
    "average_EWR = [av_EWR_Jan, av_EWR_Feb, av_EWR_March, av_EWR_April, av_EWR_May, av_EWR_June]\n",
    "average_Queens = [av_Queens_Jan, av_Queens_Feb, av_Queens_March, av_Queens_April, av_Queens_May, av_Queens_June]\n",
    "average_Staten = [av_Staten_Jan, av_Staten_Feb, av_Staten_March, av_Staten_April, av_Staten_May, av_Staten_June]\n",
    "months = ['Jan', 'Feb', 'March', 'April', 'May', 'June']"
   ]
  },
  {
   "cell_type": "code",
   "execution_count": 80,
   "metadata": {},
   "outputs": [
    {
     "data": {
      "text/plain": [
       "Text(0,0.5,'Averages')"
      ]
     },
     "execution_count": 80,
     "metadata": {},
     "output_type": "execute_result"
    },
    {
     "data": {
      "image/png": "[encoded data removed]",
      "text/plain": [
       "<Figure size 432x288 with 1 Axes>"
      ]
     },
     "metadata": {
      "needs_background": "light"
     },
     "output_type": "display_data"
    }
   ],
   "source": [
    "plt.plot(months,average_Man)\n",
    "plt.title('TS for Man')\n",
    "plt.xlabel('Months')\n",
    "plt.ylabel('Averages')"
   ]
  },
  {
   "cell_type": "code",
   "execution_count": 81,
   "metadata": {},
   "outputs": [
    {
     "data": {
      "text/plain": [
       "Text(0,0.5,'Averages')"
      ]
     },
     "execution_count": 81,
     "metadata": {},
     "output_type": "execute_result"
    },
    {
     "data": {
      "image/png": "[encoded data removed]",
      "text/plain": [
       "<Figure size 432x288 with 1 Axes>"
      ]
     },
     "metadata": {
      "needs_background": "light"
     },
     "output_type": "display_data"
    }
   ],
   "source": [
    "plt.plot(months,average_Bronx)\n",
    "plt.title('TS for Bronx')\n",
    "plt.xlabel('Months')\n",
    "plt.ylabel('Averages')"
   ]
  },
  {
   "cell_type": "code",
   "execution_count": 82,
   "metadata": {},
   "outputs": [
    {
     "data": {
      "text/plain": [
       "Text(0,0.5,'Averages')"
      ]
     },
     "execution_count": 82,
     "metadata": {},
     "output_type": "execute_result"
    },
    {
     "data": {
      "image/png": "[encoded data removed]",
      "text/plain": [
       "<Figure size 432x288 with 1 Axes>"
      ]
     },
     "metadata": {
      "needs_background": "light"
     },
     "output_type": "display_data"
    }
   ],
   "source": [
    "plt.plot(months,average_Bru)\n",
    "plt.title('TS for Brooklyn')\n",
    "plt.xlabel('Months')\n",
    "plt.ylabel('Averages')"
   ]
  },
  {
   "cell_type": "code",
   "execution_count": 83,
   "metadata": {},
   "outputs": [
    {
     "data": {
      "text/plain": [
       "Text(0,0.5,'Averages')"
      ]
     },
     "execution_count": 83,
     "metadata": {},
     "output_type": "execute_result"
    },
    {
     "data": {
      "image/png": "[encoded data removed]",
      "text/plain": [
       "<Figure size 432x288 with 1 Axes>"
      ]
     },
     "metadata": {
      "needs_background": "light"
     },
     "output_type": "display_data"
    }
   ],
   "source": [
    "plt.plot(months,average_Queens)\n",
    "plt.title('TS for Queens')\n",
    "plt.xlabel('Months')\n",
    "plt.ylabel('Averages')"
   ]
  },
  {
   "cell_type": "code",
   "execution_count": 76,
   "metadata": {},
   "outputs": [
    {
     "data": {
      "text/plain": [
       "Text(0,0.5,'Averages')"
      ]
     },
     "execution_count": 76,
     "metadata": {},
     "output_type": "execute_result"
    },
    {
     "data": {
      "image/png": "[encoded data removed]",
      "text/plain": [
       "<Figure size 432x288 with 1 Axes>"
      ]
     },
     "metadata": {
      "needs_background": "light"
     },
     "output_type": "display_data"
    }
   ],
   "source": [
    "plt.plot(months,average_EWR)\n",
    "plt.title('TS for EWR')\n",
    "plt.xlabel('Months')\n",
    "plt.ylabel('Averages')"
   ]
  },
  {
   "cell_type": "code",
   "execution_count": 84,
   "metadata": {},
   "outputs": [
    {
     "data": {
      "text/plain": [
       "Text(0,0.5,'Averages')"
      ]
     },
     "execution_count": 84,
     "metadata": {},
     "output_type": "execute_result"
    },
    {
     "data": {
      "image/png": "[encoded data removed]",
      "text/plain": [
       "<Figure size 432x288 with 1 Axes>"
      ]
     },
     "metadata": {
      "needs_background": "light"
     },
     "output_type": "display_data"
    }
   ],
   "source": [
    "plt.plot(months,average_Staten)\n",
    "plt.title('TS for Staten Island')\n",
    "plt.xlabel('Months')\n",
    "plt.ylabel('Averages')"
   ]
  },
  {
   "cell_type": "markdown",
   "metadata": {},
   "source": [
    "From this analisys we can see that there is a huge increment of trips from January to Febrary in each borough. After the number of trips tends to stay around a certain value."
   ]
  },
  {
   "cell_type": "markdown",
   "metadata": {},
   "source": [
    "## RQ2"
   ]
  },
  {
   "cell_type": "markdown",
   "metadata": {},
   "source": [
    "Let's start the analisys for the month January. Than we repeat the same for each month."
   ]
  },
  {
   "cell_type": "code",
   "execution_count": 85,
   "metadata": {},
   "outputs": [
    {
     "data": {
      "text/html": [
       "<div>\n",
       "<style scoped>\n",
       "    .dataframe tbody tr th:only-of-type {\n",
       "        vertical-align: middle;\n",
       "    }\n",
       "\n",
       "    .dataframe tbody tr th {\n",
       "        vertical-align: top;\n",
       "    }\n",
       "\n",
       "    .dataframe thead th {\n",
       "        text-align: right;\n",
       "    }\n",
       "</style>\n",
       "<table border=\"1\" class=\"dataframe\">\n",
       "  <thead>\n",
       "    <tr style=\"text-align: right;\">\n",
       "      <th></th>\n",
       "      <th>tpep_pickup_datetime</th>\n",
       "      <th>tpep_dropoff_datetime</th>\n",
       "      <th>passenger_count</th>\n",
       "      <th>PULocationID</th>\n",
       "      <th>Borough</th>\n",
       "    </tr>\n",
       "  </thead>\n",
       "  <tbody>\n",
       "    <tr>\n",
       "      <th>0</th>\n",
       "      <td>2018-01-01 00:21:05</td>\n",
       "      <td>2018-01-01 00:24:23</td>\n",
       "      <td>1</td>\n",
       "      <td>41</td>\n",
       "      <td>Manhattan</td>\n",
       "    </tr>\n",
       "    <tr>\n",
       "      <th>1</th>\n",
       "      <td>2018-01-01 00:44:55</td>\n",
       "      <td>2018-01-01 01:03:05</td>\n",
       "      <td>1</td>\n",
       "      <td>239</td>\n",
       "      <td>Manhattan</td>\n",
       "    </tr>\n",
       "    <tr>\n",
       "      <th>2</th>\n",
       "      <td>2018-01-01 00:08:26</td>\n",
       "      <td>2018-01-01 00:14:21</td>\n",
       "      <td>2</td>\n",
       "      <td>262</td>\n",
       "      <td>Manhattan</td>\n",
       "    </tr>\n",
       "    <tr>\n",
       "      <th>3</th>\n",
       "      <td>2018-01-01 00:20:22</td>\n",
       "      <td>2018-01-01 00:52:51</td>\n",
       "      <td>1</td>\n",
       "      <td>140</td>\n",
       "      <td>Manhattan</td>\n",
       "    </tr>\n",
       "    <tr>\n",
       "      <th>4</th>\n",
       "      <td>2018-01-01 00:09:18</td>\n",
       "      <td>2018-01-01 00:27:06</td>\n",
       "      <td>2</td>\n",
       "      <td>246</td>\n",
       "      <td>Manhattan</td>\n",
       "    </tr>\n",
       "  </tbody>\n",
       "</table>\n",
       "</div>"
      ],
      "text/plain": [
       "  tpep_pickup_datetime tpep_dropoff_datetime  passenger_count  PULocationID  \\\n",
       "0  2018-01-01 00:21:05   2018-01-01 00:24:23                1            41   \n",
       "1  2018-01-01 00:44:55   2018-01-01 01:03:05                1           239   \n",
       "2  2018-01-01 00:08:26   2018-01-01 00:14:21                2           262   \n",
       "3  2018-01-01 00:20:22   2018-01-01 00:52:51                1           140   \n",
       "4  2018-01-01 00:09:18   2018-01-01 00:27:06                2           246   \n",
       "\n",
       "     Borough  \n",
       "0  Manhattan  \n",
       "1  Manhattan  \n",
       "2  Manhattan  \n",
       "3  Manhattan  \n",
       "4  Manhattan  "
      ]
     },
     "execution_count": 85,
     "metadata": {},
     "output_type": "execute_result"
    }
   ],
   "source": [
    "nytaxi = pd.read_csv(Location_Jan, usecols=[1,2,3,7])  \n",
    "df_full = nytaxi.join(nyBorough.set_index('LocationID'), on='PULocationID')\n",
    "df = df_full\n",
    "df.head()"
   ]
  },
  {
   "cell_type": "markdown",
   "metadata": {},
   "source": [
    "We choose a time slot of six hours. So, each day is divided in 4 slots. Then, for all the days in the month we count the number of passengers for the trips in this slot."
   ]
  },
  {
   "cell_type": "code",
   "execution_count": 86,
   "metadata": {},
   "outputs": [
    {
     "name": "stderr",
     "output_type": "stream",
     "text": [
      "/Users/daniele/anaconda3/lib/python3.7/site-packages/ipykernel_launcher.py:2: SettingWithCopyWarning: \n",
      "A value is trying to be set on a copy of a slice from a DataFrame.\n",
      "Try using .loc[row_indexer,col_indexer] = value instead\n",
      "\n",
      "See the caveats in the documentation: http://pandas.pydata.org/pandas-docs/stable/indexing.html#indexing-view-versus-copy\n",
      "  \n",
      "/Users/daniele/anaconda3/lib/python3.7/site-packages/ipykernel_launcher.py:4: SettingWithCopyWarning: \n",
      "A value is trying to be set on a copy of a slice from a DataFrame.\n",
      "Try using .loc[row_indexer,col_indexer] = value instead\n",
      "\n",
      "See the caveats in the documentation: http://pandas.pydata.org/pandas-docs/stable/indexing.html#indexing-view-versus-copy\n",
      "  after removing the cwd from sys.path.\n"
     ]
    }
   ],
   "source": [
    "df_Man = df.loc[(df['Borough'] == \"Manhattan\") & (df['tpep_pickup_datetime'].str.startswith('2018-01'))]\n",
    "df_Man['tpep_pickup_datetime'] = pd.to_datetime(df_Man['tpep_pickup_datetime'])\n",
    "hours = df_Man['tpep_pickup_datetime'].apply(lambda x: x.hour)\n",
    "df_Man['hours'] = hours"
   ]
  },
  {
   "cell_type": "markdown",
   "metadata": {},
   "source": [
    "We divide the days in slot and count the number of passengers for the trips in each slot."
   ]
  },
  {
   "cell_type": "code",
   "execution_count": 87,
   "metadata": {},
   "outputs": [
    {
     "name": "stdout",
     "output_type": "stream",
     "text": [
      "189212\n",
      "411099\n",
      "547834\n",
      "389335\n"
     ]
    }
   ],
   "source": [
    "df_Man_slot1 = df_Man[(df_Man['hours'] >= 0) & (df_Man['hours'] < 6)]\n",
    "df_Man_slot2 = df_Man[(df_Man['hours'] >= 6) & (df_Man['hours'] < 12)]\n",
    "df_Man_slot3 = df_Man[(df_Man['hours'] >= 12) & (df_Man['hours'] < 18)]\n",
    "df_Man_slot4 = df_Man[(df_Man['hours'] >= 18) & (df_Man['hours'] < 24)]\n",
    "Total_Man_1 = df_Man_slot1['passenger_count'].sum()\n",
    "print(Total_Man_1)\n",
    "Total_Man_2 = df_Man_slot2['passenger_count'].sum()\n",
    "print(Total_Man_2)\n",
    "Total_Man_3 = df_Man_slot3['passenger_count'].sum()\n",
    "print(Total_Man_3)\n",
    "Total_Man_4 = df_Man_slot4['passenger_count'].sum()\n",
    "print(Total_Man_4)"
   ]
  },
  {
   "cell_type": "code",
   "execution_count": 88,
   "metadata": {},
   "outputs": [
    {
     "name": "stderr",
     "output_type": "stream",
     "text": [
      "/Users/daniele/anaconda3/lib/python3.7/site-packages/ipykernel_launcher.py:2: SettingWithCopyWarning: \n",
      "A value is trying to be set on a copy of a slice from a DataFrame.\n",
      "Try using .loc[row_indexer,col_indexer] = value instead\n",
      "\n",
      "See the caveats in the documentation: http://pandas.pydata.org/pandas-docs/stable/indexing.html#indexing-view-versus-copy\n",
      "  \n",
      "/Users/daniele/anaconda3/lib/python3.7/site-packages/ipykernel_launcher.py:4: SettingWithCopyWarning: \n",
      "A value is trying to be set on a copy of a slice from a DataFrame.\n",
      "Try using .loc[row_indexer,col_indexer] = value instead\n",
      "\n",
      "See the caveats in the documentation: http://pandas.pydata.org/pandas-docs/stable/indexing.html#indexing-view-versus-copy\n",
      "  after removing the cwd from sys.path.\n"
     ]
    }
   ],
   "source": [
    "df_Bronx = df.loc[(df['Borough'] == \"Bronx\") & (df['tpep_pickup_datetime'].str.startswith('2018-01'))]\n",
    "df_Bronx['tpep_pickup_datetime'] = pd.to_datetime(df_Bronx['tpep_pickup_datetime'])\n",
    "hours = df_Bronx['tpep_pickup_datetime'].apply(lambda x: x.hour)\n",
    "df_Bronx['hours'] = hours"
   ]
  },
  {
   "cell_type": "code",
   "execution_count": 89,
   "metadata": {},
   "outputs": [
    {
     "name": "stdout",
     "output_type": "stream",
     "text": [
      "693\n",
      "604\n",
      "492\n",
      "243\n"
     ]
    }
   ],
   "source": [
    "df_Bronx_slot1 = df_Bronx[(df_Bronx['hours'] >= 0) & (df_Bronx['hours'] < 6)]\n",
    "df_Bronx_slot2 = df_Bronx[(df_Bronx['hours'] >= 6) & (df_Bronx['hours'] < 12)]\n",
    "df_Bronx_slot3 = df_Bronx[(df_Bronx['hours'] >= 12) & (df_Bronx['hours'] < 18)]\n",
    "df_Bronx_slot4 = df_Bronx[(df_Bronx['hours'] >= 18) & (df_Bronx['hours'] < 24)]\n",
    "Total_Bronx_1 = df_Bronx_slot1['passenger_count'].sum()\n",
    "print(Total_Bronx_1)\n",
    "Total_Bronx_2 = df_Bronx_slot2['passenger_count'].sum()\n",
    "print(Total_Bronx_2)\n",
    "Total_Bronx_3 = df_Bronx_slot3['passenger_count'].sum()\n",
    "print(Total_Bronx_3)\n",
    "Total_Bronx_4 = df_Bronx_slot4['passenger_count'].sum()\n",
    "print(Total_Bronx_4)"
   ]
  },
  {
   "cell_type": "code",
   "execution_count": 90,
   "metadata": {},
   "outputs": [
    {
     "name": "stderr",
     "output_type": "stream",
     "text": [
      "/Users/daniele/anaconda3/lib/python3.7/site-packages/ipykernel_launcher.py:2: SettingWithCopyWarning: \n",
      "A value is trying to be set on a copy of a slice from a DataFrame.\n",
      "Try using .loc[row_indexer,col_indexer] = value instead\n",
      "\n",
      "See the caveats in the documentation: http://pandas.pydata.org/pandas-docs/stable/indexing.html#indexing-view-versus-copy\n",
      "  \n",
      "/Users/daniele/anaconda3/lib/python3.7/site-packages/ipykernel_launcher.py:4: SettingWithCopyWarning: \n",
      "A value is trying to be set on a copy of a slice from a DataFrame.\n",
      "Try using .loc[row_indexer,col_indexer] = value instead\n",
      "\n",
      "See the caveats in the documentation: http://pandas.pydata.org/pandas-docs/stable/indexing.html#indexing-view-versus-copy\n",
      "  after removing the cwd from sys.path.\n"
     ]
    }
   ],
   "source": [
    "df_Bru = df.loc[(df['Borough'] == \"Brooklyn\") & (df['tpep_pickup_datetime'].str.startswith('2018-01'))]\n",
    "df_Bru['tpep_pickup_datetime'] = pd.to_datetime(df_Bru['tpep_pickup_datetime'])\n",
    "hours = df_Bru['tpep_pickup_datetime'].apply(lambda x: x.hour)\n",
    "df_Bru['hours'] = hours"
   ]
  },
  {
   "cell_type": "code",
   "execution_count": 91,
   "metadata": {},
   "outputs": [
    {
     "name": "stdout",
     "output_type": "stream",
     "text": [
      "7341\n",
      "5001\n",
      "4802\n",
      "4861\n"
     ]
    }
   ],
   "source": [
    "df_Bru_slot1 = df_Bru[(df_Bru['hours'] >= 0) & (df_Bru['hours'] < 6)]\n",
    "df_Bru_slot2 = df_Bru[(df_Bru['hours'] >= 6) & (df_Bru['hours'] < 12)]\n",
    "df_Bru_slot3 = df_Bru[(df_Bru['hours'] >= 12) & (df_Bru['hours'] < 18)]\n",
    "df_Bru_slot4 = df_Bru[(df_Bru['hours'] >= 18) & (df_Bru['hours'] < 24)]\n",
    "Total_Bru_1 = df_Bru_slot1['passenger_count'].sum()\n",
    "print(Total_Bru_1)\n",
    "Total_Bru_2 = df_Bru_slot2['passenger_count'].sum()\n",
    "print(Total_Bru_2)\n",
    "Total_Bru_3 = df_Bru_slot3['passenger_count'].sum()\n",
    "print(Total_Bru_3)\n",
    "Total_Bru_4 = df_Bru_slot4['passenger_count'].sum()\n",
    "print(Total_Bru_4)"
   ]
  },
  {
   "cell_type": "code",
   "execution_count": 92,
   "metadata": {},
   "outputs": [
    {
     "name": "stderr",
     "output_type": "stream",
     "text": [
      "/Users/daniele/anaconda3/lib/python3.7/site-packages/ipykernel_launcher.py:2: SettingWithCopyWarning: \n",
      "A value is trying to be set on a copy of a slice from a DataFrame.\n",
      "Try using .loc[row_indexer,col_indexer] = value instead\n",
      "\n",
      "See the caveats in the documentation: http://pandas.pydata.org/pandas-docs/stable/indexing.html#indexing-view-versus-copy\n",
      "  \n",
      "/Users/daniele/anaconda3/lib/python3.7/site-packages/ipykernel_launcher.py:4: SettingWithCopyWarning: \n",
      "A value is trying to be set on a copy of a slice from a DataFrame.\n",
      "Try using .loc[row_indexer,col_indexer] = value instead\n",
      "\n",
      "See the caveats in the documentation: http://pandas.pydata.org/pandas-docs/stable/indexing.html#indexing-view-versus-copy\n",
      "  after removing the cwd from sys.path.\n"
     ]
    }
   ],
   "source": [
    "df_EWR = df.loc[(df['Borough'] == \"EWR\") & (df['tpep_pickup_datetime'].str.startswith('2018-01'))]\n",
    "df_EWR['tpep_pickup_datetime'] = pd.to_datetime(df_EWR['tpep_pickup_datetime'])\n",
    "hours = df_EWR['tpep_pickup_datetime'].apply(lambda x: x.hour)\n",
    "df_EWR['hours'] = hours"
   ]
  },
  {
   "cell_type": "code",
   "execution_count": 93,
   "metadata": {},
   "outputs": [
    {
     "name": "stdout",
     "output_type": "stream",
     "text": [
      "22\n",
      "42\n",
      "104\n",
      "38\n"
     ]
    }
   ],
   "source": [
    "df_EWR_slot1 = df_EWR[(df_EWR['hours'] >= 0) & (df_EWR['hours'] < 6)]\n",
    "df_EWR_slot2 = df_EWR[(df_EWR['hours'] >= 6) & (df_EWR['hours'] < 12)]\n",
    "df_EWR_slot3 = df_EWR[(df_EWR['hours'] >= 12) & (df_EWR['hours'] < 18)]\n",
    "df_EWR_slot4 = df_EWR[(df_EWR['hours'] >= 18) & (df_EWR['hours'] < 24)]\n",
    "Total_EWR_1 = df_EWR_slot1['passenger_count'].sum()\n",
    "print(Total_EWR_1)\n",
    "Total_EWR_2 = df_EWR_slot2['passenger_count'].sum()\n",
    "print(Total_EWR_2)\n",
    "Total_EWR_3 = df_EWR_slot3['passenger_count'].sum()\n",
    "print(Total_EWR_3)\n",
    "Total_EWR_4 = df_EWR_slot4['passenger_count'].sum()\n",
    "print(Total_EWR_4)"
   ]
  },
  {
   "cell_type": "code",
   "execution_count": 94,
   "metadata": {},
   "outputs": [
    {
     "name": "stderr",
     "output_type": "stream",
     "text": [
      "/Users/daniele/anaconda3/lib/python3.7/site-packages/ipykernel_launcher.py:2: SettingWithCopyWarning: \n",
      "A value is trying to be set on a copy of a slice from a DataFrame.\n",
      "Try using .loc[row_indexer,col_indexer] = value instead\n",
      "\n",
      "See the caveats in the documentation: http://pandas.pydata.org/pandas-docs/stable/indexing.html#indexing-view-versus-copy\n",
      "  \n",
      "/Users/daniele/anaconda3/lib/python3.7/site-packages/ipykernel_launcher.py:4: SettingWithCopyWarning: \n",
      "A value is trying to be set on a copy of a slice from a DataFrame.\n",
      "Try using .loc[row_indexer,col_indexer] = value instead\n",
      "\n",
      "See the caveats in the documentation: http://pandas.pydata.org/pandas-docs/stable/indexing.html#indexing-view-versus-copy\n",
      "  after removing the cwd from sys.path.\n"
     ]
    }
   ],
   "source": [
    "df_Queens = df.loc[(df['Borough'] == \"Queens\") & (df['tpep_pickup_datetime'].str.startswith('2018-01'))]\n",
    "df_Queens['tpep_pickup_datetime'] = pd.to_datetime(df_Queens['tpep_pickup_datetime'])\n",
    "hours = df_Queens['tpep_pickup_datetime'].apply(lambda x: x.hour)\n",
    "df_Queens['hours'] = hours"
   ]
  },
  {
   "cell_type": "code",
   "execution_count": 95,
   "metadata": {},
   "outputs": [
    {
     "name": "stdout",
     "output_type": "stream",
     "text": [
      "14649\n",
      "27584\n",
      "42391\n",
      "38347\n"
     ]
    }
   ],
   "source": [
    "df_Queens_slot1 = df_Queens[(df_Queens['hours'] >= 0) & (df_Queens['hours'] < 6)]\n",
    "df_Queens_slot2 = df_Queens[(df_Queens['hours'] >= 6) & (df_Queens['hours'] < 12)]\n",
    "df_Queens_slot3 = df_Queens[(df_Queens['hours'] >= 12) & (df_Queens['hours'] < 18)]\n",
    "df_Queens_slot4 = df_Queens[(df_Queens['hours'] >= 18) & (df_Queens['hours'] < 24)]\n",
    "Total_Queens_1 = df_Queens_slot1['passenger_count'].sum()\n",
    "print(Total_Queens_1)\n",
    "Total_Queens_2 = df_Queens_slot2['passenger_count'].sum()\n",
    "print(Total_Queens_2)\n",
    "Total_Queens_3 = df_Queens_slot3['passenger_count'].sum()\n",
    "print(Total_Queens_3)\n",
    "Total_Queens_4 = df_Queens_slot4['passenger_count'].sum()\n",
    "print(Total_Queens_4)"
   ]
  },
  {
   "cell_type": "code",
   "execution_count": 96,
   "metadata": {},
   "outputs": [
    {
     "name": "stderr",
     "output_type": "stream",
     "text": [
      "/Users/daniele/anaconda3/lib/python3.7/site-packages/ipykernel_launcher.py:2: SettingWithCopyWarning: \n",
      "A value is trying to be set on a copy of a slice from a DataFrame.\n",
      "Try using .loc[row_indexer,col_indexer] = value instead\n",
      "\n",
      "See the caveats in the documentation: http://pandas.pydata.org/pandas-docs/stable/indexing.html#indexing-view-versus-copy\n",
      "  \n",
      "/Users/daniele/anaconda3/lib/python3.7/site-packages/ipykernel_launcher.py:4: SettingWithCopyWarning: \n",
      "A value is trying to be set on a copy of a slice from a DataFrame.\n",
      "Try using .loc[row_indexer,col_indexer] = value instead\n",
      "\n",
      "See the caveats in the documentation: http://pandas.pydata.org/pandas-docs/stable/indexing.html#indexing-view-versus-copy\n",
      "  after removing the cwd from sys.path.\n"
     ]
    }
   ],
   "source": [
    "df_Stat = df.loc[(df['Borough'] == \"Staten Island\") & (df['tpep_pickup_datetime'].str.startswith('2018-01'))]\n",
    "df_Stat['tpep_pickup_datetime'] = pd.to_datetime(df_Stat['tpep_pickup_datetime'])\n",
    "hours = df_Stat['tpep_pickup_datetime'].apply(lambda x: x.hour)\n",
    "df_Stat['hours'] = hours"
   ]
  },
  {
   "cell_type": "code",
   "execution_count": 97,
   "metadata": {},
   "outputs": [
    {
     "name": "stdout",
     "output_type": "stream",
     "text": [
      "9\n",
      "1\n",
      "2\n",
      "1\n"
     ]
    }
   ],
   "source": [
    "df_Stat_slot1 = df_Stat[(df_Stat['hours'] >= 0) & (df_Stat['hours'] < 6)]\n",
    "df_Stat_slot2 = df_Stat[(df_Stat['hours'] >= 6) & (df_Stat['hours'] < 12)]\n",
    "df_Stat_slot3 = df_Stat[(df_Stat['hours'] >= 12) & (df_Stat['hours'] < 18)]\n",
    "df_Stat_slot4 = df_Stat[(df_Stat['hours'] >= 18) & (df_Stat['hours'] < 24)]\n",
    "Total_Stat_1 = df_Stat_slot1['passenger_count'].sum()\n",
    "print(Total_Stat_1)\n",
    "Total_Stat_2 = df_Stat_slot2['passenger_count'].sum()\n",
    "print(Total_Stat_2)\n",
    "Total_Stat_3 = df_Stat_slot3['passenger_count'].sum()\n",
    "print(Total_Stat_3)\n",
    "Total_Stat_4 = df_Stat_slot4['passenger_count'].sum()\n",
    "print(Total_Stat_4)"
   ]
  },
  {
   "cell_type": "code",
   "execution_count": 69,
   "metadata": {},
   "outputs": [],
   "source": [
    "Man1 = 189212\n",
    "Man2 = 411099\n",
    "Man3 = 547834\n",
    "Man4 = 389335\n",
    "Bron1 = 693\n",
    "Bron2 = 604\n",
    "Bron3 = 492\n",
    "Bron4 = 243\n",
    "Bru1 = 7341\n",
    "Bru2 = 5001\n",
    "Bru3 = 4802\n",
    "Bru4 = 4861\n",
    "EWR1 = 22\n",
    "EWR2 = 42\n",
    "EWR3 = 104\n",
    "EWR4 = 38\n",
    "Q1 = 14649\n",
    "Q2 = 27584\n",
    "Q3 = 42391\n",
    "Q4 = 38347\n",
    "St1 = 9\n",
    "St2 = 1\n",
    "St3 = 2\n",
    "St4 = 1\n",
    "Man = [Man1, Man2, Man3, Man4]\n",
    "Bro = [Bron1, Bron2, Bron3, Bron4]\n",
    "Bru = [Bru1, Bru2, Bru3, Bru4]\n",
    "EWR = [EWR1, EWR2, EWR3, EWR4]\n",
    "Q = [Q1, Q2, Q3, Q4]\n",
    "S = [St1, St2, St3, St4]\n",
    "\n"
   ]
  },
  {
   "cell_type": "markdown",
   "metadata": {},
   "source": [
    "In January the boroughs wichi resultd to be with the biggest number of passengers were Manhattan, Brooklyn and Queen."
   ]
  },
  {
   "cell_type": "code",
   "execution_count": 98,
   "metadata": {},
   "outputs": [
    {
     "data": {
      "text/html": [
       "<div>\n",
       "<style scoped>\n",
       "    .dataframe tbody tr th:only-of-type {\n",
       "        vertical-align: middle;\n",
       "    }\n",
       "\n",
       "    .dataframe tbody tr th {\n",
       "        vertical-align: top;\n",
       "    }\n",
       "\n",
       "    .dataframe thead th {\n",
       "        text-align: right;\n",
       "    }\n",
       "</style>\n",
       "<table border=\"1\" class=\"dataframe\">\n",
       "  <thead>\n",
       "    <tr style=\"text-align: right;\">\n",
       "      <th></th>\n",
       "      <th>tpep_pickup_datetime</th>\n",
       "      <th>tpep_dropoff_datetime</th>\n",
       "      <th>passenger_count</th>\n",
       "      <th>PULocationID</th>\n",
       "      <th>Borough</th>\n",
       "    </tr>\n",
       "  </thead>\n",
       "  <tbody>\n",
       "    <tr>\n",
       "      <th>0</th>\n",
       "      <td>2018-02-01 00:01:58</td>\n",
       "      <td>2018-02-01 00:04:03</td>\n",
       "      <td>1</td>\n",
       "      <td>145</td>\n",
       "      <td>Queens</td>\n",
       "    </tr>\n",
       "    <tr>\n",
       "      <th>1</th>\n",
       "      <td>2018-02-01 00:56:48</td>\n",
       "      <td>2018-02-01 00:57:42</td>\n",
       "      <td>1</td>\n",
       "      <td>145</td>\n",
       "      <td>Queens</td>\n",
       "    </tr>\n",
       "    <tr>\n",
       "      <th>2</th>\n",
       "      <td>2018-02-01 00:04:42</td>\n",
       "      <td>2018-02-01 00:19:32</td>\n",
       "      <td>1</td>\n",
       "      <td>236</td>\n",
       "      <td>Manhattan</td>\n",
       "    </tr>\n",
       "    <tr>\n",
       "      <th>3</th>\n",
       "      <td>2018-02-01 00:38:10</td>\n",
       "      <td>2018-02-01 00:40:16</td>\n",
       "      <td>1</td>\n",
       "      <td>82</td>\n",
       "      <td>Queens</td>\n",
       "    </tr>\n",
       "    <tr>\n",
       "      <th>4</th>\n",
       "      <td>2018-02-01 00:43:03</td>\n",
       "      <td>2018-02-01 00:59:26</td>\n",
       "      <td>2</td>\n",
       "      <td>82</td>\n",
       "      <td>Queens</td>\n",
       "    </tr>\n",
       "  </tbody>\n",
       "</table>\n",
       "</div>"
      ],
      "text/plain": [
       "  tpep_pickup_datetime tpep_dropoff_datetime  passenger_count  PULocationID  \\\n",
       "0  2018-02-01 00:01:58   2018-02-01 00:04:03                1           145   \n",
       "1  2018-02-01 00:56:48   2018-02-01 00:57:42                1           145   \n",
       "2  2018-02-01 00:04:42   2018-02-01 00:19:32                1           236   \n",
       "3  2018-02-01 00:38:10   2018-02-01 00:40:16                1            82   \n",
       "4  2018-02-01 00:43:03   2018-02-01 00:59:26                2            82   \n",
       "\n",
       "     Borough  \n",
       "0     Queens  \n",
       "1     Queens  \n",
       "2  Manhattan  \n",
       "3     Queens  \n",
       "4     Queens  "
      ]
     },
     "execution_count": 98,
     "metadata": {},
     "output_type": "execute_result"
    }
   ],
   "source": [
    "nytaxi = pd.read_csv(Location_Feb, usecols=[1,2,3,7])  \n",
    "df_full = nytaxi.join(nyBorough.set_index('LocationID'), on='PULocationID')\n",
    "df = df_full\n",
    "df.head()"
   ]
  },
  {
   "cell_type": "code",
   "execution_count": null,
   "metadata": {},
   "outputs": [],
   "source": []
  },
  {
   "cell_type": "code",
   "execution_count": 99,
   "metadata": {},
   "outputs": [
    {
     "name": "stderr",
     "output_type": "stream",
     "text": [
      "/Users/daniele/anaconda3/lib/python3.7/site-packages/ipykernel_launcher.py:2: SettingWithCopyWarning: \n",
      "A value is trying to be set on a copy of a slice from a DataFrame.\n",
      "Try using .loc[row_indexer,col_indexer] = value instead\n",
      "\n",
      "See the caveats in the documentation: http://pandas.pydata.org/pandas-docs/stable/indexing.html#indexing-view-versus-copy\n",
      "  \n",
      "/Users/daniele/anaconda3/lib/python3.7/site-packages/ipykernel_launcher.py:4: SettingWithCopyWarning: \n",
      "A value is trying to be set on a copy of a slice from a DataFrame.\n",
      "Try using .loc[row_indexer,col_indexer] = value instead\n",
      "\n",
      "See the caveats in the documentation: http://pandas.pydata.org/pandas-docs/stable/indexing.html#indexing-view-versus-copy\n",
      "  after removing the cwd from sys.path.\n"
     ]
    }
   ],
   "source": [
    "df_Man = df.loc[(df['Borough'] == \"Manhattan\") & (df['tpep_pickup_datetime'].str.startswith('2018-02'))]\n",
    "df_Man['tpep_pickup_datetime'] = pd.to_datetime(df_Man['tpep_pickup_datetime'])\n",
    "hours = df_Man['tpep_pickup_datetime'].apply(lambda x: x.hour)\n",
    "df_Man['hours'] = hours"
   ]
  },
  {
   "cell_type": "code",
   "execution_count": 100,
   "metadata": {},
   "outputs": [
    {
     "name": "stdout",
     "output_type": "stream",
     "text": [
      "1182638\n",
      "3023205\n",
      "4044059\n",
      "4170443\n"
     ]
    }
   ],
   "source": [
    "df_Man_slot1 = df_Man[(df_Man['hours'] >= 0) & (df_Man['hours'] < 6)]\n",
    "df_Man_slot2 = df_Man[(df_Man['hours'] >= 6) & (df_Man['hours'] < 12)]\n",
    "df_Man_slot3 = df_Man[(df_Man['hours'] >= 12) & (df_Man['hours'] < 18)]\n",
    "df_Man_slot4 = df_Man[(df_Man['hours'] >= 18) & (df_Man['hours'] < 24)]\n",
    "Total_Man_1 = df_Man_slot1['passenger_count'].sum()\n",
    "print(Total_Man_1)\n",
    "Total_Man_2 = df_Man_slot2['passenger_count'].sum()\n",
    "print(Total_Man_2)\n",
    "Total_Man_3 = df_Man_slot3['passenger_count'].sum()\n",
    "print(Total_Man_3)\n",
    "Total_Man_4 = df_Man_slot4['passenger_count'].sum()\n",
    "print(Total_Man_4)"
   ]
  },
  {
   "cell_type": "code",
   "execution_count": 101,
   "metadata": {},
   "outputs": [
    {
     "name": "stderr",
     "output_type": "stream",
     "text": [
      "/Users/daniele/anaconda3/lib/python3.7/site-packages/ipykernel_launcher.py:2: SettingWithCopyWarning: \n",
      "A value is trying to be set on a copy of a slice from a DataFrame.\n",
      "Try using .loc[row_indexer,col_indexer] = value instead\n",
      "\n",
      "See the caveats in the documentation: http://pandas.pydata.org/pandas-docs/stable/indexing.html#indexing-view-versus-copy\n",
      "  \n",
      "/Users/daniele/anaconda3/lib/python3.7/site-packages/ipykernel_launcher.py:4: SettingWithCopyWarning: \n",
      "A value is trying to be set on a copy of a slice from a DataFrame.\n",
      "Try using .loc[row_indexer,col_indexer] = value instead\n",
      "\n",
      "See the caveats in the documentation: http://pandas.pydata.org/pandas-docs/stable/indexing.html#indexing-view-versus-copy\n",
      "  after removing the cwd from sys.path.\n"
     ]
    }
   ],
   "source": [
    "df_Bronx = df.loc[(df['Borough'] == \"Bronx\") & (df['tpep_pickup_datetime'].str.startswith('2018-02'))]\n",
    "df_Bronx['tpep_pickup_datetime'] = pd.to_datetime(df_Bronx['tpep_pickup_datetime'])\n",
    "hours = df_Bronx['tpep_pickup_datetime'].apply(lambda x: x.hour)\n",
    "df_Bronx['hours'] = hours"
   ]
  },
  {
   "cell_type": "code",
   "execution_count": 102,
   "metadata": {},
   "outputs": [
    {
     "name": "stdout",
     "output_type": "stream",
     "text": [
      "1900\n",
      "3028\n",
      "2733\n",
      "2357\n"
     ]
    }
   ],
   "source": [
    "df_Bronx_slot1 = df_Bronx[(df_Bronx['hours'] >= 0) & (df_Bronx['hours'] < 6)]\n",
    "df_Bronx_slot2 = df_Bronx[(df_Bronx['hours'] >= 6) & (df_Bronx['hours'] < 12)]\n",
    "df_Bronx_slot3 = df_Bronx[(df_Bronx['hours'] >= 12) & (df_Bronx['hours'] < 18)]\n",
    "df_Bronx_slot4 = df_Bronx[(df_Bronx['hours'] >= 18) & (df_Bronx['hours'] < 24)]\n",
    "Total_Bronx_1 = df_Bronx_slot1['passenger_count'].sum()\n",
    "print(Total_Bronx_1)\n",
    "Total_Bronx_2 = df_Bronx_slot2['passenger_count'].sum()\n",
    "print(Total_Bronx_2)\n",
    "Total_Bronx_3 = df_Bronx_slot3['passenger_count'].sum()\n",
    "print(Total_Bronx_3)\n",
    "Total_Bronx_4 = df_Bronx_slot4['passenger_count'].sum()\n",
    "print(Total_Bronx_4)"
   ]
  },
  {
   "cell_type": "code",
   "execution_count": 103,
   "metadata": {},
   "outputs": [
    {
     "name": "stderr",
     "output_type": "stream",
     "text": [
      "/Users/daniele/anaconda3/lib/python3.7/site-packages/ipykernel_launcher.py:2: SettingWithCopyWarning: \n",
      "A value is trying to be set on a copy of a slice from a DataFrame.\n",
      "Try using .loc[row_indexer,col_indexer] = value instead\n",
      "\n",
      "See the caveats in the documentation: http://pandas.pydata.org/pandas-docs/stable/indexing.html#indexing-view-versus-copy\n",
      "  \n",
      "/Users/daniele/anaconda3/lib/python3.7/site-packages/ipykernel_launcher.py:4: SettingWithCopyWarning: \n",
      "A value is trying to be set on a copy of a slice from a DataFrame.\n",
      "Try using .loc[row_indexer,col_indexer] = value instead\n",
      "\n",
      "See the caveats in the documentation: http://pandas.pydata.org/pandas-docs/stable/indexing.html#indexing-view-versus-copy\n",
      "  after removing the cwd from sys.path.\n"
     ]
    }
   ],
   "source": [
    "df_Bru = df.loc[(df['Borough'] == \"Brooklyn\") & (df['tpep_pickup_datetime'].str.startswith('2018-02'))]\n",
    "df_Bru['tpep_pickup_datetime'] = pd.to_datetime(df_Bru['tpep_pickup_datetime'])\n",
    "hours = df_Bru['tpep_pickup_datetime'].apply(lambda x: x.hour)\n",
    "df_Bru['hours'] = hours"
   ]
  },
  {
   "cell_type": "code",
   "execution_count": 104,
   "metadata": {},
   "outputs": [
    {
     "name": "stdout",
     "output_type": "stream",
     "text": [
      "33901\n",
      "34173\n",
      "28933\n",
      "53705\n"
     ]
    }
   ],
   "source": [
    "df_Bru_slot1 = df_Bru[(df_Bru['hours'] >= 0) & (df_Bru['hours'] < 6)]\n",
    "df_Bru_slot2 = df_Bru[(df_Bru['hours'] >= 6) & (df_Bru['hours'] < 12)]\n",
    "df_Bru_slot3 = df_Bru[(df_Bru['hours'] >= 12) & (df_Bru['hours'] < 18)]\n",
    "df_Bru_slot4 = df_Bru[(df_Bru['hours'] >= 18) & (df_Bru['hours'] < 24)]\n",
    "Total_Bru_1 = df_Bru_slot1['passenger_count'].sum()\n",
    "print(Total_Bru_1)\n",
    "Total_Bru_2 = df_Bru_slot2['passenger_count'].sum()\n",
    "print(Total_Bru_2)\n",
    "Total_Bru_3 = df_Bru_slot3['passenger_count'].sum()\n",
    "print(Total_Bru_3)\n",
    "Total_Bru_4 = df_Bru_slot4['passenger_count'].sum()\n",
    "print(Total_Bru_4)"
   ]
  },
  {
   "cell_type": "code",
   "execution_count": 105,
   "metadata": {},
   "outputs": [
    {
     "name": "stderr",
     "output_type": "stream",
     "text": [
      "/Users/daniele/anaconda3/lib/python3.7/site-packages/ipykernel_launcher.py:2: SettingWithCopyWarning: \n",
      "A value is trying to be set on a copy of a slice from a DataFrame.\n",
      "Try using .loc[row_indexer,col_indexer] = value instead\n",
      "\n",
      "See the caveats in the documentation: http://pandas.pydata.org/pandas-docs/stable/indexing.html#indexing-view-versus-copy\n",
      "  \n",
      "/Users/daniele/anaconda3/lib/python3.7/site-packages/ipykernel_launcher.py:4: SettingWithCopyWarning: \n",
      "A value is trying to be set on a copy of a slice from a DataFrame.\n",
      "Try using .loc[row_indexer,col_indexer] = value instead\n",
      "\n",
      "See the caveats in the documentation: http://pandas.pydata.org/pandas-docs/stable/indexing.html#indexing-view-versus-copy\n",
      "  after removing the cwd from sys.path.\n"
     ]
    }
   ],
   "source": [
    "df_EWR = df.loc[(df['Borough'] == \"EWR\") & (df['tpep_pickup_datetime'].str.startswith('2018-02'))]\n",
    "df_EWR['tpep_pickup_datetime'] = pd.to_datetime(df_EWR['tpep_pickup_datetime'])\n",
    "hours = df_EWR['tpep_pickup_datetime'].apply(lambda x: x.hour)\n",
    "df_EWR['hours'] = hours"
   ]
  },
  {
   "cell_type": "code",
   "execution_count": 106,
   "metadata": {},
   "outputs": [
    {
     "name": "stdout",
     "output_type": "stream",
     "text": [
      "50\n",
      "180\n",
      "375\n",
      "106\n"
     ]
    }
   ],
   "source": [
    "df_EWR_slot1 = df_EWR[(df_EWR['hours'] >= 0) & (df_EWR['hours'] < 6)]\n",
    "df_EWR_slot2 = df_EWR[(df_EWR['hours'] >= 6) & (df_EWR['hours'] < 12)]\n",
    "df_EWR_slot3 = df_EWR[(df_EWR['hours'] >= 12) & (df_EWR['hours'] < 18)]\n",
    "df_EWR_slot4 = df_EWR[(df_EWR['hours'] >= 18) & (df_EWR['hours'] < 24)]\n",
    "Total_EWR_1 = df_EWR_slot1['passenger_count'].sum()\n",
    "print(Total_EWR_1)\n",
    "Total_EWR_2 = df_EWR_slot2['passenger_count'].sum()\n",
    "print(Total_EWR_2)\n",
    "Total_EWR_3 = df_EWR_slot3['passenger_count'].sum()\n",
    "print(Total_EWR_3)\n",
    "Total_EWR_4 = df_EWR_slot4['passenger_count'].sum()\n",
    "print(Total_EWR_4)"
   ]
  },
  {
   "cell_type": "code",
   "execution_count": 107,
   "metadata": {},
   "outputs": [
    {
     "name": "stderr",
     "output_type": "stream",
     "text": [
      "/Users/daniele/anaconda3/lib/python3.7/site-packages/ipykernel_launcher.py:2: SettingWithCopyWarning: \n",
      "A value is trying to be set on a copy of a slice from a DataFrame.\n",
      "Try using .loc[row_indexer,col_indexer] = value instead\n",
      "\n",
      "See the caveats in the documentation: http://pandas.pydata.org/pandas-docs/stable/indexing.html#indexing-view-versus-copy\n",
      "  \n",
      "/Users/daniele/anaconda3/lib/python3.7/site-packages/ipykernel_launcher.py:4: SettingWithCopyWarning: \n",
      "A value is trying to be set on a copy of a slice from a DataFrame.\n",
      "Try using .loc[row_indexer,col_indexer] = value instead\n",
      "\n",
      "See the caveats in the documentation: http://pandas.pydata.org/pandas-docs/stable/indexing.html#indexing-view-versus-copy\n",
      "  after removing the cwd from sys.path.\n"
     ]
    }
   ],
   "source": [
    "df_Queens = df.loc[(df['Borough'] == \"Queens\") & (df['tpep_pickup_datetime'].str.startswith('2018-02'))]\n",
    "df_Queens['tpep_pickup_datetime'] = pd.to_datetime(df_Queens['tpep_pickup_datetime'])\n",
    "hours = df_Queens['tpep_pickup_datetime'].apply(lambda x: x.hour)\n",
    "df_Queens['hours'] = hours"
   ]
  },
  {
   "cell_type": "code",
   "execution_count": 108,
   "metadata": {},
   "outputs": [
    {
     "name": "stdout",
     "output_type": "stream",
     "text": [
      "65686\n",
      "172474\n",
      "265371\n",
      "277200\n"
     ]
    }
   ],
   "source": [
    "df_Queens_slot1 = df_Queens[(df_Queens['hours'] >= 0) & (df_Queens['hours'] < 6)]\n",
    "df_Queens_slot2 = df_Queens[(df_Queens['hours'] >= 6) & (df_Queens['hours'] < 12)]\n",
    "df_Queens_slot3 = df_Queens[(df_Queens['hours'] >= 12) & (df_Queens['hours'] < 18)]\n",
    "df_Queens_slot4 = df_Queens[(df_Queens['hours'] >= 18) & (df_Queens['hours'] < 24)]\n",
    "Total_Queens_1 = df_Queens_slot1['passenger_count'].sum()\n",
    "print(Total_Queens_1)\n",
    "Total_Queens_2 = df_Queens_slot2['passenger_count'].sum()\n",
    "print(Total_Queens_2)\n",
    "Total_Queens_3 = df_Queens_slot3['passenger_count'].sum()\n",
    "print(Total_Queens_3)\n",
    "Total_Queens_4 = df_Queens_slot4['passenger_count'].sum()\n",
    "print(Total_Queens_4)"
   ]
  },
  {
   "cell_type": "code",
   "execution_count": 109,
   "metadata": {},
   "outputs": [
    {
     "name": "stderr",
     "output_type": "stream",
     "text": [
      "/Users/daniele/anaconda3/lib/python3.7/site-packages/ipykernel_launcher.py:2: SettingWithCopyWarning: \n",
      "A value is trying to be set on a copy of a slice from a DataFrame.\n",
      "Try using .loc[row_indexer,col_indexer] = value instead\n",
      "\n",
      "See the caveats in the documentation: http://pandas.pydata.org/pandas-docs/stable/indexing.html#indexing-view-versus-copy\n",
      "  \n",
      "/Users/daniele/anaconda3/lib/python3.7/site-packages/ipykernel_launcher.py:4: SettingWithCopyWarning: \n",
      "A value is trying to be set on a copy of a slice from a DataFrame.\n",
      "Try using .loc[row_indexer,col_indexer] = value instead\n",
      "\n",
      "See the caveats in the documentation: http://pandas.pydata.org/pandas-docs/stable/indexing.html#indexing-view-versus-copy\n",
      "  after removing the cwd from sys.path.\n"
     ]
    }
   ],
   "source": [
    "df_Stat = df.loc[(df['Borough'] == \"Staten Island\") & (df['tpep_pickup_datetime'].str.startswith('2018-02'))]\n",
    "df_Stat['tpep_pickup_datetime'] = pd.to_datetime(df_Stat['tpep_pickup_datetime'])\n",
    "hours = df_Stat['tpep_pickup_datetime'].apply(lambda x: x.hour)\n",
    "df_Stat['hours'] = hours"
   ]
  },
  {
   "cell_type": "code",
   "execution_count": 110,
   "metadata": {},
   "outputs": [
    {
     "name": "stdout",
     "output_type": "stream",
     "text": [
      "40\n",
      "19\n",
      "69\n",
      "37\n"
     ]
    }
   ],
   "source": [
    "df_Stat_slot1 = df_Stat[(df_Stat['hours'] >= 0) & (df_Stat['hours'] < 6)]\n",
    "df_Stat_slot2 = df_Stat[(df_Stat['hours'] >= 6) & (df_Stat['hours'] < 12)]\n",
    "df_Stat_slot3 = df_Stat[(df_Stat['hours'] >= 12) & (df_Stat['hours'] < 18)]\n",
    "df_Stat_slot4 = df_Stat[(df_Stat['hours'] >= 18) & (df_Stat['hours'] < 24)]\n",
    "Total_Stat_1 = df_Stat_slot1['passenger_count'].sum()\n",
    "print(Total_Stat_1)\n",
    "Total_Stat_2 = df_Stat_slot2['passenger_count'].sum()\n",
    "print(Total_Stat_2)\n",
    "Total_Stat_3 = df_Stat_slot3['passenger_count'].sum()\n",
    "print(Total_Stat_3)\n",
    "Total_Stat_4 = df_Stat_slot4['passenger_count'].sum()\n",
    "print(Total_Stat_4)"
   ]
  },
  {
   "cell_type": "code",
   "execution_count": 111,
   "metadata": {},
   "outputs": [],
   "source": [
    "############## March\n",
    "nytaxi = pd.read_csv(Location_March, usecols=[1,2,3,7])  \n",
    "df_full = nytaxi.join(nyBorough.set_index('LocationID'), on='PULocationID')\n",
    "df = df_full"
   ]
  },
  {
   "cell_type": "code",
   "execution_count": 112,
   "metadata": {},
   "outputs": [
    {
     "name": "stderr",
     "output_type": "stream",
     "text": [
      "/Users/daniele/anaconda3/lib/python3.7/site-packages/ipykernel_launcher.py:2: SettingWithCopyWarning: \n",
      "A value is trying to be set on a copy of a slice from a DataFrame.\n",
      "Try using .loc[row_indexer,col_indexer] = value instead\n",
      "\n",
      "See the caveats in the documentation: http://pandas.pydata.org/pandas-docs/stable/indexing.html#indexing-view-versus-copy\n",
      "  \n",
      "/Users/daniele/anaconda3/lib/python3.7/site-packages/ipykernel_launcher.py:4: SettingWithCopyWarning: \n",
      "A value is trying to be set on a copy of a slice from a DataFrame.\n",
      "Try using .loc[row_indexer,col_indexer] = value instead\n",
      "\n",
      "See the caveats in the documentation: http://pandas.pydata.org/pandas-docs/stable/indexing.html#indexing-view-versus-copy\n",
      "  after removing the cwd from sys.path.\n"
     ]
    }
   ],
   "source": [
    "df_Man = df.loc[(df['Borough'] == \"Manhattan\") & (df['tpep_pickup_datetime'].str.startswith('2018-03'))]\n",
    "df_Man['tpep_pickup_datetime'] = pd.to_datetime(df_Man['tpep_pickup_datetime'])\n",
    "hours = df_Man['tpep_pickup_datetime'].apply(lambda x: x.hour)\n",
    "df_Man['hours'] = hours"
   ]
  },
  {
   "cell_type": "code",
   "execution_count": 113,
   "metadata": {},
   "outputs": [
    {
     "name": "stdout",
     "output_type": "stream",
     "text": [
      "1361840\n",
      "3363899\n",
      "4343225\n",
      "4669115\n"
     ]
    }
   ],
   "source": [
    "df_Man_slot1 = df_Man[(df_Man['hours'] >= 0) & (df_Man['hours'] < 6)]\n",
    "df_Man_slot2 = df_Man[(df_Man['hours'] >= 6) & (df_Man['hours'] < 12)]\n",
    "df_Man_slot3 = df_Man[(df_Man['hours'] >= 12) & (df_Man['hours'] < 18)]\n",
    "df_Man_slot4 = df_Man[(df_Man['hours'] >= 18) & (df_Man['hours'] < 24)]\n",
    "Total_Man_1 = df_Man_slot1['passenger_count'].sum()\n",
    "print(Total_Man_1)\n",
    "Total_Man_2 = df_Man_slot2['passenger_count'].sum()\n",
    "print(Total_Man_2)\n",
    "Total_Man_3 = df_Man_slot3['passenger_count'].sum()\n",
    "print(Total_Man_3)\n",
    "Total_Man_4 = df_Man_slot4['passenger_count'].sum()\n",
    "print(Total_Man_4)"
   ]
  },
  {
   "cell_type": "code",
   "execution_count": 115,
   "metadata": {},
   "outputs": [
    {
     "name": "stderr",
     "output_type": "stream",
     "text": [
      "/Users/daniele/anaconda3/lib/python3.7/site-packages/ipykernel_launcher.py:2: SettingWithCopyWarning: \n",
      "A value is trying to be set on a copy of a slice from a DataFrame.\n",
      "Try using .loc[row_indexer,col_indexer] = value instead\n",
      "\n",
      "See the caveats in the documentation: http://pandas.pydata.org/pandas-docs/stable/indexing.html#indexing-view-versus-copy\n",
      "  \n",
      "/Users/daniele/anaconda3/lib/python3.7/site-packages/ipykernel_launcher.py:4: SettingWithCopyWarning: \n",
      "A value is trying to be set on a copy of a slice from a DataFrame.\n",
      "Try using .loc[row_indexer,col_indexer] = value instead\n",
      "\n",
      "See the caveats in the documentation: http://pandas.pydata.org/pandas-docs/stable/indexing.html#indexing-view-versus-copy\n",
      "  after removing the cwd from sys.path.\n"
     ]
    }
   ],
   "source": [
    "df_Bronx = df.loc[(df['Borough'] == \"Bronx\") & (df['tpep_pickup_datetime'].str.startswith('2018-03'))]\n",
    "df_Bronx['tpep_pickup_datetime'] = pd.to_datetime(df_Bronx['tpep_pickup_datetime'])\n",
    "hours = df_Bronx['tpep_pickup_datetime'].apply(lambda x: x.hour)\n",
    "df_Bronx['hours'] = hours"
   ]
  },
  {
   "cell_type": "code",
   "execution_count": 116,
   "metadata": {},
   "outputs": [
    {
     "name": "stdout",
     "output_type": "stream",
     "text": [
      "2766\n",
      "6201\n",
      "4346\n",
      "3490\n"
     ]
    }
   ],
   "source": [
    "df_Bronx_slot1 = df_Bronx[(df_Bronx['hours'] >= 0) & (df_Bronx['hours'] < 6)]\n",
    "df_Bronx_slot2 = df_Bronx[(df_Bronx['hours'] >= 6) & (df_Bronx['hours'] < 12)]\n",
    "df_Bronx_slot3 = df_Bronx[(df_Bronx['hours'] >= 12) & (df_Bronx['hours'] < 18)]\n",
    "df_Bronx_slot4 = df_Bronx[(df_Bronx['hours'] >= 18) & (df_Bronx['hours'] < 24)]\n",
    "Total_Bronx_1 = df_Bronx_slot1['passenger_count'].sum()\n",
    "print(Total_Bronx_1)\n",
    "Total_Bronx_2 = df_Bronx_slot2['passenger_count'].sum()\n",
    "print(Total_Bronx_2)\n",
    "Total_Bronx_3 = df_Bronx_slot3['passenger_count'].sum()\n",
    "print(Total_Bronx_3)\n",
    "Total_Bronx_4 = df_Bronx_slot4['passenger_count'].sum()\n",
    "print(Total_Bronx_4)"
   ]
  },
  {
   "cell_type": "code",
   "execution_count": 117,
   "metadata": {},
   "outputs": [
    {
     "name": "stderr",
     "output_type": "stream",
     "text": [
      "/Users/daniele/anaconda3/lib/python3.7/site-packages/ipykernel_launcher.py:2: SettingWithCopyWarning: \n",
      "A value is trying to be set on a copy of a slice from a DataFrame.\n",
      "Try using .loc[row_indexer,col_indexer] = value instead\n",
      "\n",
      "See the caveats in the documentation: http://pandas.pydata.org/pandas-docs/stable/indexing.html#indexing-view-versus-copy\n",
      "  \n",
      "/Users/daniele/anaconda3/lib/python3.7/site-packages/ipykernel_launcher.py:4: SettingWithCopyWarning: \n",
      "A value is trying to be set on a copy of a slice from a DataFrame.\n",
      "Try using .loc[row_indexer,col_indexer] = value instead\n",
      "\n",
      "See the caveats in the documentation: http://pandas.pydata.org/pandas-docs/stable/indexing.html#indexing-view-versus-copy\n",
      "  after removing the cwd from sys.path.\n"
     ]
    }
   ],
   "source": [
    "df_Bru = df.loc[(df['Borough'] == \"Brooklyn\") & (df['tpep_pickup_datetime'].str.startswith('2018-03'))]\n",
    "df_Bru['tpep_pickup_datetime'] = pd.to_datetime(df_Bru['tpep_pickup_datetime'])\n",
    "hours = df_Bru['tpep_pickup_datetime'].apply(lambda x: x.hour)\n",
    "df_Bru['hours'] = hours"
   ]
  },
  {
   "cell_type": "code",
   "execution_count": 118,
   "metadata": {},
   "outputs": [
    {
     "name": "stdout",
     "output_type": "stream",
     "text": [
      "44532\n",
      "43767\n",
      "38532\n",
      "70066\n"
     ]
    }
   ],
   "source": [
    "df_Bru_slot1 = df_Bru[(df_Bru['hours'] >= 0) & (df_Bru['hours'] < 6)]\n",
    "df_Bru_slot2 = df_Bru[(df_Bru['hours'] >= 6) & (df_Bru['hours'] < 12)]\n",
    "df_Bru_slot3 = df_Bru[(df_Bru['hours'] >= 12) & (df_Bru['hours'] < 18)]\n",
    "df_Bru_slot4 = df_Bru[(df_Bru['hours'] >= 18) & (df_Bru['hours'] < 24)]\n",
    "Total_Bru_1 = df_Bru_slot1['passenger_count'].sum()\n",
    "print(Total_Bru_1)\n",
    "Total_Bru_2 = df_Bru_slot2['passenger_count'].sum()\n",
    "print(Total_Bru_2)\n",
    "Total_Bru_3 = df_Bru_slot3['passenger_count'].sum()\n",
    "print(Total_Bru_3)\n",
    "Total_Bru_4 = df_Bru_slot4['passenger_count'].sum()\n",
    "print(Total_Bru_4)"
   ]
  },
  {
   "cell_type": "code",
   "execution_count": 119,
   "metadata": {},
   "outputs": [
    {
     "name": "stderr",
     "output_type": "stream",
     "text": [
      "/Users/daniele/anaconda3/lib/python3.7/site-packages/ipykernel_launcher.py:2: SettingWithCopyWarning: \n",
      "A value is trying to be set on a copy of a slice from a DataFrame.\n",
      "Try using .loc[row_indexer,col_indexer] = value instead\n",
      "\n",
      "See the caveats in the documentation: http://pandas.pydata.org/pandas-docs/stable/indexing.html#indexing-view-versus-copy\n",
      "  \n",
      "/Users/daniele/anaconda3/lib/python3.7/site-packages/ipykernel_launcher.py:4: SettingWithCopyWarning: \n",
      "A value is trying to be set on a copy of a slice from a DataFrame.\n",
      "Try using .loc[row_indexer,col_indexer] = value instead\n",
      "\n",
      "See the caveats in the documentation: http://pandas.pydata.org/pandas-docs/stable/indexing.html#indexing-view-versus-copy\n",
      "  after removing the cwd from sys.path.\n"
     ]
    }
   ],
   "source": [
    "df_EWR = df.loc[(df['Borough'] == \"EWR\") & (df['tpep_pickup_datetime'].str.startswith('2018-03'))]\n",
    "df_EWR['tpep_pickup_datetime'] = pd.to_datetime(df_EWR['tpep_pickup_datetime'])\n",
    "hours = df_EWR['tpep_pickup_datetime'].apply(lambda x: x.hour)\n",
    "df_EWR['hours'] = hours"
   ]
  },
  {
   "cell_type": "code",
   "execution_count": 120,
   "metadata": {},
   "outputs": [
    {
     "name": "stdout",
     "output_type": "stream",
     "text": [
      "104\n",
      "214\n",
      "503\n",
      "147\n"
     ]
    }
   ],
   "source": [
    "df_EWR_slot1 = df_EWR[(df_EWR['hours'] >= 0) & (df_EWR['hours'] < 6)]\n",
    "df_EWR_slot2 = df_EWR[(df_EWR['hours'] >= 6) & (df_EWR['hours'] < 12)]\n",
    "df_EWR_slot3 = df_EWR[(df_EWR['hours'] >= 12) & (df_EWR['hours'] < 18)]\n",
    "df_EWR_slot4 = df_EWR[(df_EWR['hours'] >= 18) & (df_EWR['hours'] < 24)]\n",
    "Total_EWR_1 = df_EWR_slot1['passenger_count'].sum()\n",
    "print(Total_EWR_1)\n",
    "Total_EWR_2 = df_EWR_slot2['passenger_count'].sum()\n",
    "print(Total_EWR_2)\n",
    "Total_EWR_3 = df_EWR_slot3['passenger_count'].sum()\n",
    "print(Total_EWR_3)\n",
    "Total_EWR_4 = df_EWR_slot4['passenger_count'].sum()\n",
    "print(Total_EWR_4)"
   ]
  },
  {
   "cell_type": "code",
   "execution_count": 122,
   "metadata": {},
   "outputs": [
    {
     "name": "stderr",
     "output_type": "stream",
     "text": [
      "/Users/daniele/anaconda3/lib/python3.7/site-packages/ipykernel_launcher.py:2: SettingWithCopyWarning: \n",
      "A value is trying to be set on a copy of a slice from a DataFrame.\n",
      "Try using .loc[row_indexer,col_indexer] = value instead\n",
      "\n",
      "See the caveats in the documentation: http://pandas.pydata.org/pandas-docs/stable/indexing.html#indexing-view-versus-copy\n",
      "  \n",
      "/Users/daniele/anaconda3/lib/python3.7/site-packages/ipykernel_launcher.py:4: SettingWithCopyWarning: \n",
      "A value is trying to be set on a copy of a slice from a DataFrame.\n",
      "Try using .loc[row_indexer,col_indexer] = value instead\n",
      "\n",
      "See the caveats in the documentation: http://pandas.pydata.org/pandas-docs/stable/indexing.html#indexing-view-versus-copy\n",
      "  after removing the cwd from sys.path.\n"
     ]
    }
   ],
   "source": [
    "df_Queens = df.loc[(df['Borough'] == \"Queens\") & (df['tpep_pickup_datetime'].str.startswith('2018-03'))]\n",
    "df_Queens['tpep_pickup_datetime'] = pd.to_datetime(df_Queens['tpep_pickup_datetime'])\n",
    "hours = df_Queens['tpep_pickup_datetime'].apply(lambda x: x.hour)\n",
    "df_Queens['hours'] = hours"
   ]
  },
  {
   "cell_type": "code",
   "execution_count": 123,
   "metadata": {},
   "outputs": [
    {
     "name": "stdout",
     "output_type": "stream",
     "text": [
      "80247\n",
      "208376\n",
      "306091\n",
      "322370\n"
     ]
    }
   ],
   "source": [
    "df_Queens_slot1 = df_Queens[(df_Queens['hours'] >= 0) & (df_Queens['hours'] < 6)]\n",
    "df_Queens_slot2 = df_Queens[(df_Queens['hours'] >= 6) & (df_Queens['hours'] < 12)]\n",
    "df_Queens_slot3 = df_Queens[(df_Queens['hours'] >= 12) & (df_Queens['hours'] < 18)]\n",
    "df_Queens_slot4 = df_Queens[(df_Queens['hours'] >= 18) & (df_Queens['hours'] < 24)]\n",
    "Total_Queens_1 = df_Queens_slot1['passenger_count'].sum()\n",
    "print(Total_Queens_1)\n",
    "Total_Queens_2 = df_Queens_slot2['passenger_count'].sum()\n",
    "print(Total_Queens_2)\n",
    "Total_Queens_3 = df_Queens_slot3['passenger_count'].sum()\n",
    "print(Total_Queens_3)\n",
    "Total_Queens_4 = df_Queens_slot4['passenger_count'].sum()\n",
    "print(Total_Queens_4)"
   ]
  },
  {
   "cell_type": "code",
   "execution_count": 124,
   "metadata": {},
   "outputs": [
    {
     "name": "stderr",
     "output_type": "stream",
     "text": [
      "/Users/daniele/anaconda3/lib/python3.7/site-packages/ipykernel_launcher.py:2: SettingWithCopyWarning: \n",
      "A value is trying to be set on a copy of a slice from a DataFrame.\n",
      "Try using .loc[row_indexer,col_indexer] = value instead\n",
      "\n",
      "See the caveats in the documentation: http://pandas.pydata.org/pandas-docs/stable/indexing.html#indexing-view-versus-copy\n",
      "  \n",
      "/Users/daniele/anaconda3/lib/python3.7/site-packages/ipykernel_launcher.py:4: SettingWithCopyWarning: \n",
      "A value is trying to be set on a copy of a slice from a DataFrame.\n",
      "Try using .loc[row_indexer,col_indexer] = value instead\n",
      "\n",
      "See the caveats in the documentation: http://pandas.pydata.org/pandas-docs/stable/indexing.html#indexing-view-versus-copy\n",
      "  after removing the cwd from sys.path.\n"
     ]
    }
   ],
   "source": [
    "df_Stat = df.loc[(df['Borough'] == \"Staten Island\") & (df['tpep_pickup_datetime'].str.startswith('2018-03'))]\n",
    "df_Stat['tpep_pickup_datetime'] = pd.to_datetime(df_Stat['tpep_pickup_datetime'])\n",
    "hours = df_Stat['tpep_pickup_datetime'].apply(lambda x: x.hour)\n",
    "df_Stat['hours'] = hours"
   ]
  },
  {
   "cell_type": "code",
   "execution_count": 125,
   "metadata": {},
   "outputs": [
    {
     "name": "stdout",
     "output_type": "stream",
     "text": [
      "73\n",
      "34\n",
      "56\n",
      "39\n"
     ]
    }
   ],
   "source": [
    "df_Stat_slot1 = df_Stat[(df_Stat['hours'] >= 0) & (df_Stat['hours'] < 6)]\n",
    "df_Stat_slot2 = df_Stat[(df_Stat['hours'] >= 6) & (df_Stat['hours'] < 12)]\n",
    "df_Stat_slot3 = df_Stat[(df_Stat['hours'] >= 12) & (df_Stat['hours'] < 18)]\n",
    "df_Stat_slot4 = df_Stat[(df_Stat['hours'] >= 18) & (df_Stat['hours'] < 24)]\n",
    "Total_Stat_1 = df_Stat_slot1['passenger_count'].sum()\n",
    "print(Total_Stat_1)\n",
    "Total_Stat_2 = df_Stat_slot2['passenger_count'].sum()\n",
    "print(Total_Stat_2)\n",
    "Total_Stat_3 = df_Stat_slot3['passenger_count'].sum()\n",
    "print(Total_Stat_3)\n",
    "Total_Stat_4 = df_Stat_slot4['passenger_count'].sum()\n",
    "print(Total_Stat_4)"
   ]
  },
  {
   "cell_type": "code",
   "execution_count": 126,
   "metadata": {},
   "outputs": [],
   "source": [
    "######## April\n",
    "nytaxi = pd.read_csv(Location_April, usecols=[1,2,3,7])  \n",
    "df_full = nytaxi.join(nyBorough.set_index('LocationID'), on='PULocationID')\n",
    "df = df_full"
   ]
  },
  {
   "cell_type": "code",
   "execution_count": 127,
   "metadata": {},
   "outputs": [
    {
     "name": "stderr",
     "output_type": "stream",
     "text": [
      "/Users/daniele/anaconda3/lib/python3.7/site-packages/ipykernel_launcher.py:2: SettingWithCopyWarning: \n",
      "A value is trying to be set on a copy of a slice from a DataFrame.\n",
      "Try using .loc[row_indexer,col_indexer] = value instead\n",
      "\n",
      "See the caveats in the documentation: http://pandas.pydata.org/pandas-docs/stable/indexing.html#indexing-view-versus-copy\n",
      "  \n",
      "/Users/daniele/anaconda3/lib/python3.7/site-packages/ipykernel_launcher.py:4: SettingWithCopyWarning: \n",
      "A value is trying to be set on a copy of a slice from a DataFrame.\n",
      "Try using .loc[row_indexer,col_indexer] = value instead\n",
      "\n",
      "See the caveats in the documentation: http://pandas.pydata.org/pandas-docs/stable/indexing.html#indexing-view-versus-copy\n",
      "  after removing the cwd from sys.path.\n"
     ]
    }
   ],
   "source": [
    "df_Man = df.loc[(df['Borough'] == \"Manhattan\") & (df['tpep_pickup_datetime'].str.startswith('2018-04'))]\n",
    "df_Man['tpep_pickup_datetime'] = pd.to_datetime(df_Man['tpep_pickup_datetime'])\n",
    "hours = df_Man['tpep_pickup_datetime'].apply(lambda x: x.hour)\n",
    "df_Man['hours'] = hours"
   ]
  },
  {
   "cell_type": "code",
   "execution_count": 128,
   "metadata": {},
   "outputs": [
    {
     "name": "stdout",
     "output_type": "stream",
     "text": [
      "1303723\n",
      "3311975\n",
      "4273825\n",
      "4611982\n"
     ]
    }
   ],
   "source": [
    "df_Man_slot1 = df_Man[(df_Man['hours'] >= 0) & (df_Man['hours'] < 6)]\n",
    "df_Man_slot2 = df_Man[(df_Man['hours'] >= 6) & (df_Man['hours'] < 12)]\n",
    "df_Man_slot3 = df_Man[(df_Man['hours'] >= 12) & (df_Man['hours'] < 18)]\n",
    "df_Man_slot4 = df_Man[(df_Man['hours'] >= 18) & (df_Man['hours'] < 24)]\n",
    "Total_Man_1 = df_Man_slot1['passenger_count'].sum()\n",
    "print(Total_Man_1)\n",
    "Total_Man_2 = df_Man_slot2['passenger_count'].sum()\n",
    "print(Total_Man_2)\n",
    "Total_Man_3 = df_Man_slot3['passenger_count'].sum()\n",
    "print(Total_Man_3)\n",
    "Total_Man_4 = df_Man_slot4['passenger_count'].sum()\n",
    "print(Total_Man_4)"
   ]
  },
  {
   "cell_type": "code",
   "execution_count": 129,
   "metadata": {},
   "outputs": [
    {
     "name": "stderr",
     "output_type": "stream",
     "text": [
      "/Users/daniele/anaconda3/lib/python3.7/site-packages/ipykernel_launcher.py:2: SettingWithCopyWarning: \n",
      "A value is trying to be set on a copy of a slice from a DataFrame.\n",
      "Try using .loc[row_indexer,col_indexer] = value instead\n",
      "\n",
      "See the caveats in the documentation: http://pandas.pydata.org/pandas-docs/stable/indexing.html#indexing-view-versus-copy\n",
      "  \n",
      "/Users/daniele/anaconda3/lib/python3.7/site-packages/ipykernel_launcher.py:4: SettingWithCopyWarning: \n",
      "A value is trying to be set on a copy of a slice from a DataFrame.\n",
      "Try using .loc[row_indexer,col_indexer] = value instead\n",
      "\n",
      "See the caveats in the documentation: http://pandas.pydata.org/pandas-docs/stable/indexing.html#indexing-view-versus-copy\n",
      "  after removing the cwd from sys.path.\n"
     ]
    }
   ],
   "source": [
    "df_Bronx = df.loc[(df['Borough'] == \"Bronx\") & (df['tpep_pickup_datetime'].str.startswith('2018-04'))]\n",
    "df_Bronx['tpep_pickup_datetime'] = pd.to_datetime(df_Bronx['tpep_pickup_datetime'])\n",
    "hours = df_Bronx['tpep_pickup_datetime'].apply(lambda x: x.hour)\n",
    "df_Bronx['hours'] = hours"
   ]
  },
  {
   "cell_type": "code",
   "execution_count": 130,
   "metadata": {},
   "outputs": [
    {
     "name": "stdout",
     "output_type": "stream",
     "text": [
      "2694\n",
      "6015\n",
      "4669\n",
      "3514\n"
     ]
    }
   ],
   "source": [
    "df_Bronx_slot1 = df_Bronx[(df_Bronx['hours'] >= 0) & (df_Bronx['hours'] < 6)]\n",
    "df_Bronx_slot2 = df_Bronx[(df_Bronx['hours'] >= 6) & (df_Bronx['hours'] < 12)]\n",
    "df_Bronx_slot3 = df_Bronx[(df_Bronx['hours'] >= 12) & (df_Bronx['hours'] < 18)]\n",
    "df_Bronx_slot4 = df_Bronx[(df_Bronx['hours'] >= 18) & (df_Bronx['hours'] < 24)]\n",
    "Total_Bronx_1 = df_Bronx_slot1['passenger_count'].sum()\n",
    "print(Total_Bronx_1)\n",
    "Total_Bronx_2 = df_Bronx_slot2['passenger_count'].sum()\n",
    "print(Total_Bronx_2)\n",
    "Total_Bronx_3 = df_Bronx_slot3['passenger_count'].sum()\n",
    "print(Total_Bronx_3)\n",
    "Total_Bronx_4 = df_Bronx_slot4['passenger_count'].sum()\n",
    "print(Total_Bronx_4)"
   ]
  },
  {
   "cell_type": "code",
   "execution_count": 131,
   "metadata": {},
   "outputs": [
    {
     "name": "stderr",
     "output_type": "stream",
     "text": [
      "/Users/daniele/anaconda3/lib/python3.7/site-packages/ipykernel_launcher.py:2: SettingWithCopyWarning: \n",
      "A value is trying to be set on a copy of a slice from a DataFrame.\n",
      "Try using .loc[row_indexer,col_indexer] = value instead\n",
      "\n",
      "See the caveats in the documentation: http://pandas.pydata.org/pandas-docs/stable/indexing.html#indexing-view-versus-copy\n",
      "  \n",
      "/Users/daniele/anaconda3/lib/python3.7/site-packages/ipykernel_launcher.py:4: SettingWithCopyWarning: \n",
      "A value is trying to be set on a copy of a slice from a DataFrame.\n",
      "Try using .loc[row_indexer,col_indexer] = value instead\n",
      "\n",
      "See the caveats in the documentation: http://pandas.pydata.org/pandas-docs/stable/indexing.html#indexing-view-versus-copy\n",
      "  after removing the cwd from sys.path.\n"
     ]
    }
   ],
   "source": [
    "df_Bru = df.loc[(df['Borough'] == \"Brooklyn\") & (df['tpep_pickup_datetime'].str.startswith('2018-04'))]\n",
    "df_Bru['tpep_pickup_datetime'] = pd.to_datetime(df_Bru['tpep_pickup_datetime'])\n",
    "hours = df_Bru['tpep_pickup_datetime'].apply(lambda x: x.hour)\n",
    "df_Bru['hours'] = hours"
   ]
  },
  {
   "cell_type": "code",
   "execution_count": 132,
   "metadata": {},
   "outputs": [
    {
     "name": "stdout",
     "output_type": "stream",
     "text": [
      "42240\n",
      "43693\n",
      "39088\n",
      "65235\n"
     ]
    }
   ],
   "source": [
    "df_Bru_slot1 = df_Bru[(df_Bru['hours'] >= 0) & (df_Bru['hours'] < 6)]\n",
    "df_Bru_slot2 = df_Bru[(df_Bru['hours'] >= 6) & (df_Bru['hours'] < 12)]\n",
    "df_Bru_slot3 = df_Bru[(df_Bru['hours'] >= 12) & (df_Bru['hours'] < 18)]\n",
    "df_Bru_slot4 = df_Bru[(df_Bru['hours'] >= 18) & (df_Bru['hours'] < 24)]\n",
    "Total_Bru_1 = df_Bru_slot1['passenger_count'].sum()\n",
    "print(Total_Bru_1)\n",
    "Total_Bru_2 = df_Bru_slot2['passenger_count'].sum()\n",
    "print(Total_Bru_2)\n",
    "Total_Bru_3 = df_Bru_slot3['passenger_count'].sum()\n",
    "print(Total_Bru_3)\n",
    "Total_Bru_4 = df_Bru_slot4['passenger_count'].sum()\n",
    "print(Total_Bru_4)"
   ]
  },
  {
   "cell_type": "code",
   "execution_count": 133,
   "metadata": {},
   "outputs": [
    {
     "name": "stderr",
     "output_type": "stream",
     "text": [
      "/Users/daniele/anaconda3/lib/python3.7/site-packages/ipykernel_launcher.py:2: SettingWithCopyWarning: \n",
      "A value is trying to be set on a copy of a slice from a DataFrame.\n",
      "Try using .loc[row_indexer,col_indexer] = value instead\n",
      "\n",
      "See the caveats in the documentation: http://pandas.pydata.org/pandas-docs/stable/indexing.html#indexing-view-versus-copy\n",
      "  \n",
      "/Users/daniele/anaconda3/lib/python3.7/site-packages/ipykernel_launcher.py:4: SettingWithCopyWarning: \n",
      "A value is trying to be set on a copy of a slice from a DataFrame.\n",
      "Try using .loc[row_indexer,col_indexer] = value instead\n",
      "\n",
      "See the caveats in the documentation: http://pandas.pydata.org/pandas-docs/stable/indexing.html#indexing-view-versus-copy\n",
      "  after removing the cwd from sys.path.\n"
     ]
    }
   ],
   "source": [
    "df_EWR = df.loc[(df['Borough'] == \"EWR\") & (df['tpep_pickup_datetime'].str.startswith('2018-04'))]\n",
    "df_EWR['tpep_pickup_datetime'] = pd.to_datetime(df_EWR['tpep_pickup_datetime'])\n",
    "hours = df_EWR['tpep_pickup_datetime'].apply(lambda x: x.hour)\n",
    "df_EWR['hours'] = hours"
   ]
  },
  {
   "cell_type": "code",
   "execution_count": 134,
   "metadata": {},
   "outputs": [
    {
     "name": "stdout",
     "output_type": "stream",
     "text": [
      "57\n",
      "211\n",
      "580\n",
      "192\n"
     ]
    }
   ],
   "source": [
    "df_EWR_slot1 = df_EWR[(df_EWR['hours'] >= 0) & (df_EWR['hours'] < 6)]\n",
    "df_EWR_slot2 = df_EWR[(df_EWR['hours'] >= 6) & (df_EWR['hours'] < 12)]\n",
    "df_EWR_slot3 = df_EWR[(df_EWR['hours'] >= 12) & (df_EWR['hours'] < 18)]\n",
    "df_EWR_slot4 = df_EWR[(df_EWR['hours'] >= 18) & (df_EWR['hours'] < 24)]\n",
    "Total_EWR_1 = df_EWR_slot1['passenger_count'].sum()\n",
    "print(Total_EWR_1)\n",
    "Total_EWR_2 = df_EWR_slot2['passenger_count'].sum()\n",
    "print(Total_EWR_2)\n",
    "Total_EWR_3 = df_EWR_slot3['passenger_count'].sum()\n",
    "print(Total_EWR_3)\n",
    "Total_EWR_4 = df_EWR_slot4['passenger_count'].sum()\n",
    "print(Total_EWR_4)"
   ]
  },
  {
   "cell_type": "code",
   "execution_count": 135,
   "metadata": {},
   "outputs": [
    {
     "name": "stderr",
     "output_type": "stream",
     "text": [
      "/Users/daniele/anaconda3/lib/python3.7/site-packages/ipykernel_launcher.py:2: SettingWithCopyWarning: \n",
      "A value is trying to be set on a copy of a slice from a DataFrame.\n",
      "Try using .loc[row_indexer,col_indexer] = value instead\n",
      "\n",
      "See the caveats in the documentation: http://pandas.pydata.org/pandas-docs/stable/indexing.html#indexing-view-versus-copy\n",
      "  \n",
      "/Users/daniele/anaconda3/lib/python3.7/site-packages/ipykernel_launcher.py:4: SettingWithCopyWarning: \n",
      "A value is trying to be set on a copy of a slice from a DataFrame.\n",
      "Try using .loc[row_indexer,col_indexer] = value instead\n",
      "\n",
      "See the caveats in the documentation: http://pandas.pydata.org/pandas-docs/stable/indexing.html#indexing-view-versus-copy\n",
      "  after removing the cwd from sys.path.\n"
     ]
    }
   ],
   "source": [
    "df_Queens = df.loc[(df['Borough'] == \"Queens\") & (df['tpep_pickup_datetime'].str.startswith('2018-04'))]\n",
    "df_Queens['tpep_pickup_datetime'] = pd.to_datetime(df_Queens['tpep_pickup_datetime'])\n",
    "hours = df_Queens['tpep_pickup_datetime'].apply(lambda x: x.hour)\n",
    "df_Queens['hours'] = hours"
   ]
  },
  {
   "cell_type": "code",
   "execution_count": 136,
   "metadata": {},
   "outputs": [
    {
     "name": "stdout",
     "output_type": "stream",
     "text": [
      "80132\n",
      "210467\n",
      "335116\n",
      "344687\n"
     ]
    }
   ],
   "source": [
    "df_Queens_slot1 = df_Queens[(df_Queens['hours'] >= 0) & (df_Queens['hours'] < 6)]\n",
    "df_Queens_slot2 = df_Queens[(df_Queens['hours'] >= 6) & (df_Queens['hours'] < 12)]\n",
    "df_Queens_slot3 = df_Queens[(df_Queens['hours'] >= 12) & (df_Queens['hours'] < 18)]\n",
    "df_Queens_slot4 = df_Queens[(df_Queens['hours'] >= 18) & (df_Queens['hours'] < 24)]\n",
    "Total_Queens_1 = df_Queens_slot1['passenger_count'].sum()\n",
    "print(Total_Queens_1)\n",
    "Total_Queens_2 = df_Queens_slot2['passenger_count'].sum()\n",
    "print(Total_Queens_2)\n",
    "Total_Queens_3 = df_Queens_slot3['passenger_count'].sum()\n",
    "print(Total_Queens_3)\n",
    "Total_Queens_4 = df_Queens_slot4['passenger_count'].sum()\n",
    "print(Total_Queens_4)"
   ]
  },
  {
   "cell_type": "code",
   "execution_count": 137,
   "metadata": {},
   "outputs": [
    {
     "name": "stderr",
     "output_type": "stream",
     "text": [
      "/Users/daniele/anaconda3/lib/python3.7/site-packages/ipykernel_launcher.py:2: SettingWithCopyWarning: \n",
      "A value is trying to be set on a copy of a slice from a DataFrame.\n",
      "Try using .loc[row_indexer,col_indexer] = value instead\n",
      "\n",
      "See the caveats in the documentation: http://pandas.pydata.org/pandas-docs/stable/indexing.html#indexing-view-versus-copy\n",
      "  \n",
      "/Users/daniele/anaconda3/lib/python3.7/site-packages/ipykernel_launcher.py:4: SettingWithCopyWarning: \n",
      "A value is trying to be set on a copy of a slice from a DataFrame.\n",
      "Try using .loc[row_indexer,col_indexer] = value instead\n",
      "\n",
      "See the caveats in the documentation: http://pandas.pydata.org/pandas-docs/stable/indexing.html#indexing-view-versus-copy\n",
      "  after removing the cwd from sys.path.\n"
     ]
    }
   ],
   "source": [
    "df_Stat = df.loc[(df['Borough'] == \"Staten Island\") & (df['tpep_pickup_datetime'].str.startswith('2018-04'))]\n",
    "df_Stat['tpep_pickup_datetime'] = pd.to_datetime(df_Stat['tpep_pickup_datetime'])\n",
    "hours = df_Stat['tpep_pickup_datetime'].apply(lambda x: x.hour)\n",
    "df_Stat['hours'] = hours"
   ]
  },
  {
   "cell_type": "code",
   "execution_count": 138,
   "metadata": {},
   "outputs": [
    {
     "name": "stdout",
     "output_type": "stream",
     "text": [
      "50\n",
      "45\n",
      "53\n",
      "48\n"
     ]
    }
   ],
   "source": [
    "df_Stat_slot1 = df_Stat[(df_Stat['hours'] >= 0) & (df_Stat['hours'] < 6)]\n",
    "df_Stat_slot2 = df_Stat[(df_Stat['hours'] >= 6) & (df_Stat['hours'] < 12)]\n",
    "df_Stat_slot3 = df_Stat[(df_Stat['hours'] >= 12) & (df_Stat['hours'] < 18)]\n",
    "df_Stat_slot4 = df_Stat[(df_Stat['hours'] >= 18) & (df_Stat['hours'] < 24)]\n",
    "Total_Stat_1 = df_Stat_slot1['passenger_count'].sum()\n",
    "print(Total_Stat_1)\n",
    "Total_Stat_2 = df_Stat_slot2['passenger_count'].sum()\n",
    "print(Total_Stat_2)\n",
    "Total_Stat_3 = df_Stat_slot3['passenger_count'].sum()\n",
    "print(Total_Stat_3)\n",
    "Total_Stat_4 = df_Stat_slot4['passenger_count'].sum()\n",
    "print(Total_Stat_4)"
   ]
  },
  {
   "cell_type": "code",
   "execution_count": 139,
   "metadata": {},
   "outputs": [],
   "source": [
    "######## May\n",
    "nytaxi = pd.read_csv(Location_May, usecols=[1,2,3,7])  \n",
    "df_full = nytaxi.join(nyBorough.set_index('LocationID'), on='PULocationID')\n",
    "df = df_full"
   ]
  },
  {
   "cell_type": "code",
   "execution_count": 140,
   "metadata": {},
   "outputs": [
    {
     "name": "stderr",
     "output_type": "stream",
     "text": [
      "/Users/daniele/anaconda3/lib/python3.7/site-packages/ipykernel_launcher.py:2: SettingWithCopyWarning: \n",
      "A value is trying to be set on a copy of a slice from a DataFrame.\n",
      "Try using .loc[row_indexer,col_indexer] = value instead\n",
      "\n",
      "See the caveats in the documentation: http://pandas.pydata.org/pandas-docs/stable/indexing.html#indexing-view-versus-copy\n",
      "  \n",
      "/Users/daniele/anaconda3/lib/python3.7/site-packages/ipykernel_launcher.py:4: SettingWithCopyWarning: \n",
      "A value is trying to be set on a copy of a slice from a DataFrame.\n",
      "Try using .loc[row_indexer,col_indexer] = value instead\n",
      "\n",
      "See the caveats in the documentation: http://pandas.pydata.org/pandas-docs/stable/indexing.html#indexing-view-versus-copy\n",
      "  after removing the cwd from sys.path.\n"
     ]
    }
   ],
   "source": [
    "df_Man = df.loc[(df['Borough'] == \"Manhattan\") & (df['tpep_pickup_datetime'].str.startswith('2018-05'))]\n",
    "df_Man['tpep_pickup_datetime'] = pd.to_datetime(df_Man['tpep_pickup_datetime'])\n",
    "hours = df_Man['tpep_pickup_datetime'].apply(lambda x: x.hour)\n",
    "df_Man['hours'] = hours"
   ]
  },
  {
   "cell_type": "code",
   "execution_count": 141,
   "metadata": {},
   "outputs": [
    {
     "name": "stdout",
     "output_type": "stream",
     "text": [
      "1250191\n",
      "3332500\n",
      "4219952\n",
      "4538968\n"
     ]
    }
   ],
   "source": [
    "df_Man_slot1 = df_Man[(df_Man['hours'] >= 0) & (df_Man['hours'] < 6)]\n",
    "df_Man_slot2 = df_Man[(df_Man['hours'] >= 6) & (df_Man['hours'] < 12)]\n",
    "df_Man_slot3 = df_Man[(df_Man['hours'] >= 12) & (df_Man['hours'] < 18)]\n",
    "df_Man_slot4 = df_Man[(df_Man['hours'] >= 18) & (df_Man['hours'] < 24)]\n",
    "Total_Man_1 = df_Man_slot1['passenger_count'].sum()\n",
    "print(Total_Man_1)\n",
    "Total_Man_2 = df_Man_slot2['passenger_count'].sum()\n",
    "print(Total_Man_2)\n",
    "Total_Man_3 = df_Man_slot3['passenger_count'].sum()\n",
    "print(Total_Man_3)\n",
    "Total_Man_4 = df_Man_slot4['passenger_count'].sum()\n",
    "print(Total_Man_4)"
   ]
  },
  {
   "cell_type": "code",
   "execution_count": 142,
   "metadata": {},
   "outputs": [
    {
     "name": "stderr",
     "output_type": "stream",
     "text": [
      "/Users/daniele/anaconda3/lib/python3.7/site-packages/ipykernel_launcher.py:2: SettingWithCopyWarning: \n",
      "A value is trying to be set on a copy of a slice from a DataFrame.\n",
      "Try using .loc[row_indexer,col_indexer] = value instead\n",
      "\n",
      "See the caveats in the documentation: http://pandas.pydata.org/pandas-docs/stable/indexing.html#indexing-view-versus-copy\n",
      "  \n",
      "/Users/daniele/anaconda3/lib/python3.7/site-packages/ipykernel_launcher.py:4: SettingWithCopyWarning: \n",
      "A value is trying to be set on a copy of a slice from a DataFrame.\n",
      "Try using .loc[row_indexer,col_indexer] = value instead\n",
      "\n",
      "See the caveats in the documentation: http://pandas.pydata.org/pandas-docs/stable/indexing.html#indexing-view-versus-copy\n",
      "  after removing the cwd from sys.path.\n"
     ]
    }
   ],
   "source": [
    "df_Bronx = df.loc[(df['Borough'] == \"Bronx\") & (df['tpep_pickup_datetime'].str.startswith('2018-05'))]\n",
    "df_Bronx['tpep_pickup_datetime'] = pd.to_datetime(df_Bronx['tpep_pickup_datetime'])\n",
    "hours = df_Bronx['tpep_pickup_datetime'].apply(lambda x: x.hour)\n",
    "df_Bronx['hours'] = hours"
   ]
  },
  {
   "cell_type": "code",
   "execution_count": 143,
   "metadata": {},
   "outputs": [
    {
     "name": "stdout",
     "output_type": "stream",
     "text": [
      "2665\n",
      "5893\n",
      "4920\n",
      "4255\n"
     ]
    }
   ],
   "source": [
    "df_Bronx_slot1 = df_Bronx[(df_Bronx['hours'] >= 0) & (df_Bronx['hours'] < 6)]\n",
    "df_Bronx_slot2 = df_Bronx[(df_Bronx['hours'] >= 6) & (df_Bronx['hours'] < 12)]\n",
    "df_Bronx_slot3 = df_Bronx[(df_Bronx['hours'] >= 12) & (df_Bronx['hours'] < 18)]\n",
    "df_Bronx_slot4 = df_Bronx[(df_Bronx['hours'] >= 18) & (df_Bronx['hours'] < 24)]\n",
    "Total_Bronx_1 = df_Bronx_slot1['passenger_count'].sum()\n",
    "print(Total_Bronx_1)\n",
    "Total_Bronx_2 = df_Bronx_slot2['passenger_count'].sum()\n",
    "print(Total_Bronx_2)\n",
    "Total_Bronx_3 = df_Bronx_slot3['passenger_count'].sum()\n",
    "print(Total_Bronx_3)\n",
    "Total_Bronx_4 = df_Bronx_slot4['passenger_count'].sum()\n",
    "print(Total_Bronx_4)"
   ]
  },
  {
   "cell_type": "code",
   "execution_count": 144,
   "metadata": {},
   "outputs": [
    {
     "name": "stderr",
     "output_type": "stream",
     "text": [
      "/Users/daniele/anaconda3/lib/python3.7/site-packages/ipykernel_launcher.py:2: SettingWithCopyWarning: \n",
      "A value is trying to be set on a copy of a slice from a DataFrame.\n",
      "Try using .loc[row_indexer,col_indexer] = value instead\n",
      "\n",
      "See the caveats in the documentation: http://pandas.pydata.org/pandas-docs/stable/indexing.html#indexing-view-versus-copy\n",
      "  \n",
      "/Users/daniele/anaconda3/lib/python3.7/site-packages/ipykernel_launcher.py:4: SettingWithCopyWarning: \n",
      "A value is trying to be set on a copy of a slice from a DataFrame.\n",
      "Try using .loc[row_indexer,col_indexer] = value instead\n",
      "\n",
      "See the caveats in the documentation: http://pandas.pydata.org/pandas-docs/stable/indexing.html#indexing-view-versus-copy\n",
      "  after removing the cwd from sys.path.\n"
     ]
    }
   ],
   "source": [
    "df_Bru = df.loc[(df['Borough'] == \"Brooklyn\") & (df['tpep_pickup_datetime'].str.startswith('2018-05'))]\n",
    "df_Bru['tpep_pickup_datetime'] = pd.to_datetime(df_Bru['tpep_pickup_datetime'])\n",
    "hours = df_Bru['tpep_pickup_datetime'].apply(lambda x: x.hour)\n",
    "df_Bru['hours'] = hours"
   ]
  },
  {
   "cell_type": "code",
   "execution_count": 145,
   "metadata": {},
   "outputs": [
    {
     "name": "stdout",
     "output_type": "stream",
     "text": [
      "38830\n",
      "44753\n",
      "40349\n",
      "72148\n"
     ]
    }
   ],
   "source": [
    "df_Bru_slot1 = df_Bru[(df_Bru['hours'] >= 0) & (df_Bru['hours'] < 6)]\n",
    "df_Bru_slot2 = df_Bru[(df_Bru['hours'] >= 6) & (df_Bru['hours'] < 12)]\n",
    "df_Bru_slot3 = df_Bru[(df_Bru['hours'] >= 12) & (df_Bru['hours'] < 18)]\n",
    "df_Bru_slot4 = df_Bru[(df_Bru['hours'] >= 18) & (df_Bru['hours'] < 24)]\n",
    "Total_Bru_1 = df_Bru_slot1['passenger_count'].sum()\n",
    "print(Total_Bru_1)\n",
    "Total_Bru_2 = df_Bru_slot2['passenger_count'].sum()\n",
    "print(Total_Bru_2)\n",
    "Total_Bru_3 = df_Bru_slot3['passenger_count'].sum()\n",
    "print(Total_Bru_3)\n",
    "Total_Bru_4 = df_Bru_slot4['passenger_count'].sum()\n",
    "print(Total_Bru_4)"
   ]
  },
  {
   "cell_type": "code",
   "execution_count": 146,
   "metadata": {},
   "outputs": [
    {
     "name": "stderr",
     "output_type": "stream",
     "text": [
      "/Users/daniele/anaconda3/lib/python3.7/site-packages/ipykernel_launcher.py:2: SettingWithCopyWarning: \n",
      "A value is trying to be set on a copy of a slice from a DataFrame.\n",
      "Try using .loc[row_indexer,col_indexer] = value instead\n",
      "\n",
      "See the caveats in the documentation: http://pandas.pydata.org/pandas-docs/stable/indexing.html#indexing-view-versus-copy\n",
      "  \n",
      "/Users/daniele/anaconda3/lib/python3.7/site-packages/ipykernel_launcher.py:4: SettingWithCopyWarning: \n",
      "A value is trying to be set on a copy of a slice from a DataFrame.\n",
      "Try using .loc[row_indexer,col_indexer] = value instead\n",
      "\n",
      "See the caveats in the documentation: http://pandas.pydata.org/pandas-docs/stable/indexing.html#indexing-view-versus-copy\n",
      "  after removing the cwd from sys.path.\n"
     ]
    }
   ],
   "source": [
    "df_EWR = df.loc[(df['Borough'] == \"EWR\") & (df['tpep_pickup_datetime'].str.startswith('2018-05'))]\n",
    "df_EWR['tpep_pickup_datetime'] = pd.to_datetime(df_EWR['tpep_pickup_datetime'])\n",
    "hours = df_EWR['tpep_pickup_datetime'].apply(lambda x: x.hour)\n",
    "df_EWR['hours'] = hours"
   ]
  },
  {
   "cell_type": "code",
   "execution_count": 147,
   "metadata": {},
   "outputs": [
    {
     "name": "stdout",
     "output_type": "stream",
     "text": [
      "76\n",
      "270\n",
      "593\n",
      "225\n"
     ]
    }
   ],
   "source": [
    "df_EWR_slot1 = df_EWR[(df_EWR['hours'] >= 0) & (df_EWR['hours'] < 6)]\n",
    "df_EWR_slot2 = df_EWR[(df_EWR['hours'] >= 6) & (df_EWR['hours'] < 12)]\n",
    "df_EWR_slot3 = df_EWR[(df_EWR['hours'] >= 12) & (df_EWR['hours'] < 18)]\n",
    "df_EWR_slot4 = df_EWR[(df_EWR['hours'] >= 18) & (df_EWR['hours'] < 24)]\n",
    "Total_EWR_1 = df_EWR_slot1['passenger_count'].sum()\n",
    "print(Total_EWR_1)\n",
    "Total_EWR_2 = df_EWR_slot2['passenger_count'].sum()\n",
    "print(Total_EWR_2)\n",
    "Total_EWR_3 = df_EWR_slot3['passenger_count'].sum()\n",
    "print(Total_EWR_3)\n",
    "Total_EWR_4 = df_EWR_slot4['passenger_count'].sum()\n",
    "print(Total_EWR_4)"
   ]
  },
  {
   "cell_type": "code",
   "execution_count": 148,
   "metadata": {},
   "outputs": [
    {
     "name": "stderr",
     "output_type": "stream",
     "text": [
      "/Users/daniele/anaconda3/lib/python3.7/site-packages/ipykernel_launcher.py:2: SettingWithCopyWarning: \n",
      "A value is trying to be set on a copy of a slice from a DataFrame.\n",
      "Try using .loc[row_indexer,col_indexer] = value instead\n",
      "\n",
      "See the caveats in the documentation: http://pandas.pydata.org/pandas-docs/stable/indexing.html#indexing-view-versus-copy\n",
      "  \n",
      "/Users/daniele/anaconda3/lib/python3.7/site-packages/ipykernel_launcher.py:4: SettingWithCopyWarning: \n",
      "A value is trying to be set on a copy of a slice from a DataFrame.\n",
      "Try using .loc[row_indexer,col_indexer] = value instead\n",
      "\n",
      "See the caveats in the documentation: http://pandas.pydata.org/pandas-docs/stable/indexing.html#indexing-view-versus-copy\n",
      "  after removing the cwd from sys.path.\n"
     ]
    }
   ],
   "source": [
    "df_Queens = df.loc[(df['Borough'] == \"Queens\") & (df['tpep_pickup_datetime'].str.startswith('2018-05'))]\n",
    "df_Queens['tpep_pickup_datetime'] = pd.to_datetime(df_Queens['tpep_pickup_datetime'])\n",
    "hours = df_Queens['tpep_pickup_datetime'].apply(lambda x: x.hour)\n",
    "df_Queens['hours'] = hours"
   ]
  },
  {
   "cell_type": "code",
   "execution_count": 149,
   "metadata": {},
   "outputs": [
    {
     "name": "stdout",
     "output_type": "stream",
     "text": [
      "83198\n",
      "228231\n",
      "343185\n",
      "335461\n"
     ]
    }
   ],
   "source": [
    "df_Queens_slot1 = df_Queens[(df_Queens['hours'] >= 0) & (df_Queens['hours'] < 6)]\n",
    "df_Queens_slot2 = df_Queens[(df_Queens['hours'] >= 6) & (df_Queens['hours'] < 12)]\n",
    "df_Queens_slot3 = df_Queens[(df_Queens['hours'] >= 12) & (df_Queens['hours'] < 18)]\n",
    "df_Queens_slot4 = df_Queens[(df_Queens['hours'] >= 18) & (df_Queens['hours'] < 24)]\n",
    "Total_Queens_1 = df_Queens_slot1['passenger_count'].sum()\n",
    "print(Total_Queens_1)\n",
    "Total_Queens_2 = df_Queens_slot2['passenger_count'].sum()\n",
    "print(Total_Queens_2)\n",
    "Total_Queens_3 = df_Queens_slot3['passenger_count'].sum()\n",
    "print(Total_Queens_3)\n",
    "Total_Queens_4 = df_Queens_slot4['passenger_count'].sum()\n",
    "print(Total_Queens_4)"
   ]
  },
  {
   "cell_type": "code",
   "execution_count": 150,
   "metadata": {},
   "outputs": [
    {
     "name": "stderr",
     "output_type": "stream",
     "text": [
      "/Users/daniele/anaconda3/lib/python3.7/site-packages/ipykernel_launcher.py:2: SettingWithCopyWarning: \n",
      "A value is trying to be set on a copy of a slice from a DataFrame.\n",
      "Try using .loc[row_indexer,col_indexer] = value instead\n",
      "\n",
      "See the caveats in the documentation: http://pandas.pydata.org/pandas-docs/stable/indexing.html#indexing-view-versus-copy\n",
      "  \n",
      "/Users/daniele/anaconda3/lib/python3.7/site-packages/ipykernel_launcher.py:4: SettingWithCopyWarning: \n",
      "A value is trying to be set on a copy of a slice from a DataFrame.\n",
      "Try using .loc[row_indexer,col_indexer] = value instead\n",
      "\n",
      "See the caveats in the documentation: http://pandas.pydata.org/pandas-docs/stable/indexing.html#indexing-view-versus-copy\n",
      "  after removing the cwd from sys.path.\n"
     ]
    }
   ],
   "source": [
    "df_Stat = df.loc[(df['Borough'] == \"Staten Island\") & (df['tpep_pickup_datetime'].str.startswith('2018-05'))]\n",
    "df_Stat['tpep_pickup_datetime'] = pd.to_datetime(df_Stat['tpep_pickup_datetime'])\n",
    "hours = df_Stat['tpep_pickup_datetime'].apply(lambda x: x.hour)\n",
    "df_Stat['hours'] = hours"
   ]
  },
  {
   "cell_type": "code",
   "execution_count": 151,
   "metadata": {},
   "outputs": [
    {
     "name": "stdout",
     "output_type": "stream",
     "text": [
      "81\n",
      "40\n",
      "74\n",
      "43\n"
     ]
    }
   ],
   "source": [
    "df_Stat_slot1 = df_Stat[(df_Stat['hours'] >= 0) & (df_Stat['hours'] < 6)]\n",
    "df_Stat_slot2 = df_Stat[(df_Stat['hours'] >= 6) & (df_Stat['hours'] < 12)]\n",
    "df_Stat_slot3 = df_Stat[(df_Stat['hours'] >= 12) & (df_Stat['hours'] < 18)]\n",
    "df_Stat_slot4 = df_Stat[(df_Stat['hours'] >= 18) & (df_Stat['hours'] < 24)]\n",
    "Total_Stat_1 = df_Stat_slot1['passenger_count'].sum()\n",
    "print(Total_Stat_1)\n",
    "Total_Stat_2 = df_Stat_slot2['passenger_count'].sum()\n",
    "print(Total_Stat_2)\n",
    "Total_Stat_3 = df_Stat_slot3['passenger_count'].sum()\n",
    "print(Total_Stat_3)\n",
    "Total_Stat_4 = df_Stat_slot4['passenger_count'].sum()\n",
    "print(Total_Stat_4)"
   ]
  },
  {
   "cell_type": "code",
   "execution_count": 152,
   "metadata": {},
   "outputs": [],
   "source": [
    "######## June\n",
    "nytaxi = pd.read_csv(Location_June, usecols=[1,2,3,7])  \n",
    "df_full = nytaxi.join(nyBorough.set_index('LocationID'), on='PULocationID')\n",
    "df = df_full"
   ]
  },
  {
   "cell_type": "code",
   "execution_count": 153,
   "metadata": {},
   "outputs": [
    {
     "name": "stderr",
     "output_type": "stream",
     "text": [
      "/Users/daniele/anaconda3/lib/python3.7/site-packages/ipykernel_launcher.py:2: SettingWithCopyWarning: \n",
      "A value is trying to be set on a copy of a slice from a DataFrame.\n",
      "Try using .loc[row_indexer,col_indexer] = value instead\n",
      "\n",
      "See the caveats in the documentation: http://pandas.pydata.org/pandas-docs/stable/indexing.html#indexing-view-versus-copy\n",
      "  \n",
      "/Users/daniele/anaconda3/lib/python3.7/site-packages/ipykernel_launcher.py:4: SettingWithCopyWarning: \n",
      "A value is trying to be set on a copy of a slice from a DataFrame.\n",
      "Try using .loc[row_indexer,col_indexer] = value instead\n",
      "\n",
      "See the caveats in the documentation: http://pandas.pydata.org/pandas-docs/stable/indexing.html#indexing-view-versus-copy\n",
      "  after removing the cwd from sys.path.\n"
     ]
    }
   ],
   "source": [
    "df_Man = df.loc[(df['Borough'] == \"Manhattan\") & (df['tpep_pickup_datetime'].str.startswith('2018-06'))]\n",
    "df_Man['tpep_pickup_datetime'] = pd.to_datetime(df_Man['tpep_pickup_datetime'])\n",
    "hours = df_Man['tpep_pickup_datetime'].apply(lambda x: x.hour)\n",
    "df_Man['hours'] = hours"
   ]
  },
  {
   "cell_type": "code",
   "execution_count": 154,
   "metadata": {},
   "outputs": [
    {
     "name": "stdout",
     "output_type": "stream",
     "text": [
      "1302337\n",
      "3068470\n",
      "3933035\n",
      "4290513\n"
     ]
    }
   ],
   "source": [
    "df_Man_slot1 = df_Man[(df_Man['hours'] >= 0) & (df_Man['hours'] < 6)]\n",
    "df_Man_slot2 = df_Man[(df_Man['hours'] >= 6) & (df_Man['hours'] < 12)]\n",
    "df_Man_slot3 = df_Man[(df_Man['hours'] >= 12) & (df_Man['hours'] < 18)]\n",
    "df_Man_slot4 = df_Man[(df_Man['hours'] >= 18) & (df_Man['hours'] < 24)]\n",
    "Total_Man_1 = df_Man_slot1['passenger_count'].sum()\n",
    "print(Total_Man_1)\n",
    "Total_Man_2 = df_Man_slot2['passenger_count'].sum()\n",
    "print(Total_Man_2)\n",
    "Total_Man_3 = df_Man_slot3['passenger_count'].sum()\n",
    "print(Total_Man_3)\n",
    "Total_Man_4 = df_Man_slot4['passenger_count'].sum()\n",
    "print(Total_Man_4)"
   ]
  },
  {
   "cell_type": "code",
   "execution_count": 157,
   "metadata": {},
   "outputs": [
    {
     "name": "stderr",
     "output_type": "stream",
     "text": [
      "/Users/daniele/anaconda3/lib/python3.7/site-packages/ipykernel_launcher.py:2: SettingWithCopyWarning: \n",
      "A value is trying to be set on a copy of a slice from a DataFrame.\n",
      "Try using .loc[row_indexer,col_indexer] = value instead\n",
      "\n",
      "See the caveats in the documentation: http://pandas.pydata.org/pandas-docs/stable/indexing.html#indexing-view-versus-copy\n",
      "  \n",
      "/Users/daniele/anaconda3/lib/python3.7/site-packages/ipykernel_launcher.py:4: SettingWithCopyWarning: \n",
      "A value is trying to be set on a copy of a slice from a DataFrame.\n",
      "Try using .loc[row_indexer,col_indexer] = value instead\n",
      "\n",
      "See the caveats in the documentation: http://pandas.pydata.org/pandas-docs/stable/indexing.html#indexing-view-versus-copy\n",
      "  after removing the cwd from sys.path.\n"
     ]
    }
   ],
   "source": [
    "df_Bronx = df.loc[(df['Borough'] == \"Bronx\") & (df['tpep_pickup_datetime'].str.startswith('2018-06'))]\n",
    "df_Bronx['tpep_pickup_datetime'] = pd.to_datetime(df_Bronx['tpep_pickup_datetime'])\n",
    "hours = df_Bronx['tpep_pickup_datetime'].apply(lambda x: x.hour)\n",
    "df_Bronx['hours'] = hours"
   ]
  },
  {
   "cell_type": "code",
   "execution_count": 158,
   "metadata": {},
   "outputs": [
    {
     "name": "stdout",
     "output_type": "stream",
     "text": [
      "2563\n",
      "5565\n",
      "4896\n",
      "3980\n"
     ]
    }
   ],
   "source": [
    "df_Bronx_slot1 = df_Bronx[(df_Bronx['hours'] >= 0) & (df_Bronx['hours'] < 6)]\n",
    "df_Bronx_slot2 = df_Bronx[(df_Bronx['hours'] >= 6) & (df_Bronx['hours'] < 12)]\n",
    "df_Bronx_slot3 = df_Bronx[(df_Bronx['hours'] >= 12) & (df_Bronx['hours'] < 18)]\n",
    "df_Bronx_slot4 = df_Bronx[(df_Bronx['hours'] >= 18) & (df_Bronx['hours'] < 24)]\n",
    "Total_Bronx_1 = df_Bronx_slot1['passenger_count'].sum()\n",
    "print(Total_Bronx_1)\n",
    "Total_Bronx_2 = df_Bronx_slot2['passenger_count'].sum()\n",
    "print(Total_Bronx_2)\n",
    "Total_Bronx_3 = df_Bronx_slot3['passenger_count'].sum()\n",
    "print(Total_Bronx_3)\n",
    "Total_Bronx_4 = df_Bronx_slot4['passenger_count'].sum()\n",
    "print(Total_Bronx_4)"
   ]
  },
  {
   "cell_type": "code",
   "execution_count": 159,
   "metadata": {},
   "outputs": [
    {
     "name": "stderr",
     "output_type": "stream",
     "text": [
      "/Users/daniele/anaconda3/lib/python3.7/site-packages/ipykernel_launcher.py:2: SettingWithCopyWarning: \n",
      "A value is trying to be set on a copy of a slice from a DataFrame.\n",
      "Try using .loc[row_indexer,col_indexer] = value instead\n",
      "\n",
      "See the caveats in the documentation: http://pandas.pydata.org/pandas-docs/stable/indexing.html#indexing-view-versus-copy\n",
      "  \n",
      "/Users/daniele/anaconda3/lib/python3.7/site-packages/ipykernel_launcher.py:4: SettingWithCopyWarning: \n",
      "A value is trying to be set on a copy of a slice from a DataFrame.\n",
      "Try using .loc[row_indexer,col_indexer] = value instead\n",
      "\n",
      "See the caveats in the documentation: http://pandas.pydata.org/pandas-docs/stable/indexing.html#indexing-view-versus-copy\n",
      "  after removing the cwd from sys.path.\n"
     ]
    }
   ],
   "source": [
    "df_Bru = df.loc[(df['Borough'] == \"Brooklyn\") & (df['tpep_pickup_datetime'].str.startswith('2018-06'))]\n",
    "df_Bru['tpep_pickup_datetime'] = pd.to_datetime(df_Bru['tpep_pickup_datetime'])\n",
    "hours = df_Bru['tpep_pickup_datetime'].apply(lambda x: x.hour)\n",
    "df_Bru['hours'] = hours"
   ]
  },
  {
   "cell_type": "code",
   "execution_count": 160,
   "metadata": {},
   "outputs": [
    {
     "name": "stdout",
     "output_type": "stream",
     "text": [
      "43276\n",
      "41817\n",
      "38071\n",
      "72673\n"
     ]
    }
   ],
   "source": [
    "df_Bru_slot1 = df_Bru[(df_Bru['hours'] >= 0) & (df_Bru['hours'] < 6)]\n",
    "df_Bru_slot2 = df_Bru[(df_Bru['hours'] >= 6) & (df_Bru['hours'] < 12)]\n",
    "df_Bru_slot3 = df_Bru[(df_Bru['hours'] >= 12) & (df_Bru['hours'] < 18)]\n",
    "df_Bru_slot4 = df_Bru[(df_Bru['hours'] >= 18) & (df_Bru['hours'] < 24)]\n",
    "Total_Bru_1 = df_Bru_slot1['passenger_count'].sum()\n",
    "print(Total_Bru_1)\n",
    "Total_Bru_2 = df_Bru_slot2['passenger_count'].sum()\n",
    "print(Total_Bru_2)\n",
    "Total_Bru_3 = df_Bru_slot3['passenger_count'].sum()\n",
    "print(Total_Bru_3)\n",
    "Total_Bru_4 = df_Bru_slot4['passenger_count'].sum()\n",
    "print(Total_Bru_4)"
   ]
  },
  {
   "cell_type": "code",
   "execution_count": 161,
   "metadata": {},
   "outputs": [
    {
     "name": "stderr",
     "output_type": "stream",
     "text": [
      "/Users/daniele/anaconda3/lib/python3.7/site-packages/ipykernel_launcher.py:2: SettingWithCopyWarning: \n",
      "A value is trying to be set on a copy of a slice from a DataFrame.\n",
      "Try using .loc[row_indexer,col_indexer] = value instead\n",
      "\n",
      "See the caveats in the documentation: http://pandas.pydata.org/pandas-docs/stable/indexing.html#indexing-view-versus-copy\n",
      "  \n",
      "/Users/daniele/anaconda3/lib/python3.7/site-packages/ipykernel_launcher.py:4: SettingWithCopyWarning: \n",
      "A value is trying to be set on a copy of a slice from a DataFrame.\n",
      "Try using .loc[row_indexer,col_indexer] = value instead\n",
      "\n",
      "See the caveats in the documentation: http://pandas.pydata.org/pandas-docs/stable/indexing.html#indexing-view-versus-copy\n",
      "  after removing the cwd from sys.path.\n"
     ]
    }
   ],
   "source": [
    "df_EWR = df.loc[(df['Borough'] == \"EWR\") & (df['tpep_pickup_datetime'].str.startswith('2018-06'))]\n",
    "df_EWR['tpep_pickup_datetime'] = pd.to_datetime(df_EWR['tpep_pickup_datetime'])\n",
    "hours = df_EWR['tpep_pickup_datetime'].apply(lambda x: x.hour)\n",
    "df_EWR['hours'] = hours"
   ]
  },
  {
   "cell_type": "code",
   "execution_count": 162,
   "metadata": {},
   "outputs": [
    {
     "name": "stdout",
     "output_type": "stream",
     "text": [
      "81\n",
      "308\n",
      "425\n",
      "199\n"
     ]
    }
   ],
   "source": [
    "df_EWR_slot1 = df_EWR[(df_EWR['hours'] >= 0) & (df_EWR['hours'] < 6)]\n",
    "df_EWR_slot2 = df_EWR[(df_EWR['hours'] >= 6) & (df_EWR['hours'] < 12)]\n",
    "df_EWR_slot3 = df_EWR[(df_EWR['hours'] >= 12) & (df_EWR['hours'] < 18)]\n",
    "df_EWR_slot4 = df_EWR[(df_EWR['hours'] >= 18) & (df_EWR['hours'] < 24)]\n",
    "Total_EWR_1 = df_EWR_slot1['passenger_count'].sum()\n",
    "print(Total_EWR_1)\n",
    "Total_EWR_2 = df_EWR_slot2['passenger_count'].sum()\n",
    "print(Total_EWR_2)\n",
    "Total_EWR_3 = df_EWR_slot3['passenger_count'].sum()\n",
    "print(Total_EWR_3)\n",
    "Total_EWR_4 = df_EWR_slot4['passenger_count'].sum()\n",
    "print(Total_EWR_4)"
   ]
  },
  {
   "cell_type": "code",
   "execution_count": 163,
   "metadata": {},
   "outputs": [
    {
     "name": "stderr",
     "output_type": "stream",
     "text": [
      "/Users/daniele/anaconda3/lib/python3.7/site-packages/ipykernel_launcher.py:2: SettingWithCopyWarning: \n",
      "A value is trying to be set on a copy of a slice from a DataFrame.\n",
      "Try using .loc[row_indexer,col_indexer] = value instead\n",
      "\n",
      "See the caveats in the documentation: http://pandas.pydata.org/pandas-docs/stable/indexing.html#indexing-view-versus-copy\n",
      "  \n",
      "/Users/daniele/anaconda3/lib/python3.7/site-packages/ipykernel_launcher.py:4: SettingWithCopyWarning: \n",
      "A value is trying to be set on a copy of a slice from a DataFrame.\n",
      "Try using .loc[row_indexer,col_indexer] = value instead\n",
      "\n",
      "See the caveats in the documentation: http://pandas.pydata.org/pandas-docs/stable/indexing.html#indexing-view-versus-copy\n",
      "  after removing the cwd from sys.path.\n"
     ]
    }
   ],
   "source": [
    "df_Queens = df.loc[(df['Borough'] == \"Queens\") & (df['tpep_pickup_datetime'].str.startswith('2018-06'))]\n",
    "df_Queens['tpep_pickup_datetime'] = pd.to_datetime(df_Queens['tpep_pickup_datetime'])\n",
    "hours = df_Queens['tpep_pickup_datetime'].apply(lambda x: x.hour)\n",
    "df_Queens['hours'] = hours"
   ]
  },
  {
   "cell_type": "code",
   "execution_count": 164,
   "metadata": {},
   "outputs": [
    {
     "name": "stdout",
     "output_type": "stream",
     "text": [
      "85830\n",
      "214670\n",
      "314896\n",
      "316251\n"
     ]
    }
   ],
   "source": [
    "df_Queens_slot1 = df_Queens[(df_Queens['hours'] >= 0) & (df_Queens['hours'] < 6)]\n",
    "df_Queens_slot2 = df_Queens[(df_Queens['hours'] >= 6) & (df_Queens['hours'] < 12)]\n",
    "df_Queens_slot3 = df_Queens[(df_Queens['hours'] >= 12) & (df_Queens['hours'] < 18)]\n",
    "df_Queens_slot4 = df_Queens[(df_Queens['hours'] >= 18) & (df_Queens['hours'] < 24)]\n",
    "Total_Queens_1 = df_Queens_slot1['passenger_count'].sum()\n",
    "print(Total_Queens_1)\n",
    "Total_Queens_2 = df_Queens_slot2['passenger_count'].sum()\n",
    "print(Total_Queens_2)\n",
    "Total_Queens_3 = df_Queens_slot3['passenger_count'].sum()\n",
    "print(Total_Queens_3)\n",
    "Total_Queens_4 = df_Queens_slot4['passenger_count'].sum()\n",
    "print(Total_Queens_4)"
   ]
  },
  {
   "cell_type": "code",
   "execution_count": 165,
   "metadata": {},
   "outputs": [
    {
     "name": "stderr",
     "output_type": "stream",
     "text": [
      "/Users/daniele/anaconda3/lib/python3.7/site-packages/ipykernel_launcher.py:2: SettingWithCopyWarning: \n",
      "A value is trying to be set on a copy of a slice from a DataFrame.\n",
      "Try using .loc[row_indexer,col_indexer] = value instead\n",
      "\n",
      "See the caveats in the documentation: http://pandas.pydata.org/pandas-docs/stable/indexing.html#indexing-view-versus-copy\n",
      "  \n",
      "/Users/daniele/anaconda3/lib/python3.7/site-packages/ipykernel_launcher.py:4: SettingWithCopyWarning: \n",
      "A value is trying to be set on a copy of a slice from a DataFrame.\n",
      "Try using .loc[row_indexer,col_indexer] = value instead\n",
      "\n",
      "See the caveats in the documentation: http://pandas.pydata.org/pandas-docs/stable/indexing.html#indexing-view-versus-copy\n",
      "  after removing the cwd from sys.path.\n"
     ]
    }
   ],
   "source": [
    "df_Stat = df.loc[(df['Borough'] == \"Staten Island\") & (df['tpep_pickup_datetime'].str.startswith('2018-06'))]\n",
    "df_Stat['tpep_pickup_datetime'] = pd.to_datetime(df_Stat['tpep_pickup_datetime'])\n",
    "hours = df_Stat['tpep_pickup_datetime'].apply(lambda x: x.hour)\n",
    "df_Stat['hours'] = hours"
   ]
  },
  {
   "cell_type": "code",
   "execution_count": 166,
   "metadata": {},
   "outputs": [
    {
     "name": "stdout",
     "output_type": "stream",
     "text": [
      "45\n",
      "70\n",
      "38\n",
      "64\n"
     ]
    }
   ],
   "source": [
    "df_Stat_slot1 = df_Stat[(df_Stat['hours'] >= 0) & (df_Stat['hours'] < 6)]\n",
    "df_Stat_slot2 = df_Stat[(df_Stat['hours'] >= 6) & (df_Stat['hours'] < 12)]\n",
    "df_Stat_slot3 = df_Stat[(df_Stat['hours'] >= 12) & (df_Stat['hours'] < 18)]\n",
    "df_Stat_slot4 = df_Stat[(df_Stat['hours'] >= 18) & (df_Stat['hours'] < 24)]\n",
    "Total_Stat_1 = df_Stat_slot1['passenger_count'].sum()\n",
    "print(Total_Stat_1)\n",
    "Total_Stat_2 = df_Stat_slot2['passenger_count'].sum()\n",
    "print(Total_Stat_2)\n",
    "Total_Stat_3 = df_Stat_slot3['passenger_count'].sum()\n",
    "print(Total_Stat_3)\n",
    "Total_Stat_4 = df_Stat_slot4['passenger_count'].sum()\n",
    "print(Total_Stat_4)"
   ]
  },
  {
   "cell_type": "markdown",
   "metadata": {},
   "source": [
    "## RQ3"
   ]
  },
  {
   "cell_type": "markdown",
   "metadata": {},
   "source": [
    "We start the analisys for the month in January. So, first of all, We upload the data in January. Due to time constraints and since our pc is not able to perform the analisys for all the month together, via function concat, we consider just month and february separately. The other months it is the same."
   ]
  },
  {
   "cell_type": "code",
   "execution_count": 184,
   "metadata": {},
   "outputs": [],
   "source": [
    "nytaxi = pd.read_csv(Location_Jan, usecols=[1,2,7]) \n",
    "nyBorough =pd.read_csv(Location_2, usecols=[0,1], sep = ';')\n",
    "df_full = nytaxi.join(nyBorough.set_index('LocationID'), on='PULocationID')\n",
    "df = df_full"
   ]
  },
  {
   "cell_type": "code",
   "execution_count": 185,
   "metadata": {},
   "outputs": [],
   "source": [
    "df_full.tpep_pickup_datetime = pd.to_datetime(df_full.tpep_pickup_datetime)\n",
    "df_full.tpep_dropoff_datetime = pd.to_datetime(df_full.tpep_dropoff_datetime)\n",
    "df_full['trip_duration'] = (df_full.tpep_dropoff_datetime - df_full.tpep_pickup_datetime).dt.total_seconds()\n",
    "# Remove all the trips with duration null or negative\n",
    "df_full = df_full[df_full.trip_duration > 0]"
   ]
  },
  {
   "cell_type": "code",
   "execution_count": 186,
   "metadata": {},
   "outputs": [],
   "source": [
    "dfMan = df_full.loc[df['Borough']=='Manhattan']"
   ]
  },
  {
   "cell_type": "code",
   "execution_count": 180,
   "metadata": {},
   "outputs": [
    {
     "data": {
      "text/plain": [
       "<matplotlib.axes._subplots.AxesSubplot at 0x1a1ca05ef0>"
      ]
     },
     "execution_count": 180,
     "metadata": {},
     "output_type": "execute_result"
    },
    {
     "data": {
      "image/png": "[encoded data removed]",
      "text/plain": [
       "<Figure size 432x288 with 1 Axes>"
      ]
     },
     "metadata": {
      "needs_background": "light"
     },
     "output_type": "display_data"
    }
   ],
   "source": [
    "dfMan['trip_duration'].plot.box()"
   ]
  },
  {
   "cell_type": "code",
   "execution_count": 182,
   "metadata": {},
   "outputs": [
    {
     "data": {
      "text/plain": [
       "<matplotlib.axes._subplots.AxesSubplot at 0x1a5a673b38>"
      ]
     },
     "execution_count": 182,
     "metadata": {},
     "output_type": "execute_result"
    },
    {
     "data": {
      "image/png": "[encoded data removed]",
      "text/plain": [
       "<Figure size 432x288 with 1 Axes>"
      ]
     },
     "metadata": {
      "needs_background": "light"
     },
     "output_type": "display_data"
    }
   ],
   "source": [
    "dfMan['trip_duration'].plot.hist(bins=100, title=\"Distribution of 'trip_duration' in Man in Jan\")"
   ]
  },
  {
   "cell_type": "code",
   "execution_count": 187,
   "metadata": {},
   "outputs": [],
   "source": [
    "dfBronx = df_full.loc[df['Borough']=='Bronx']"
   ]
  },
  {
   "cell_type": "code",
   "execution_count": 188,
   "metadata": {},
   "outputs": [
    {
     "data": {
      "text/plain": [
       "<matplotlib.axes._subplots.AxesSubplot at 0x1a21299be0>"
      ]
     },
     "execution_count": 188,
     "metadata": {},
     "output_type": "execute_result"
    },
    {
     "data": {
      "image/png": "[encoded data removed]",
      "text/plain": [
       "<Figure size 432x288 with 1 Axes>"
      ]
     },
     "metadata": {
      "needs_background": "light"
     },
     "output_type": "display_data"
    }
   ],
   "source": [
    "dfBronx['trip_duration'].plot.box()"
   ]
  },
  {
   "cell_type": "code",
   "execution_count": 189,
   "metadata": {},
   "outputs": [],
   "source": [
    "dfBronx = dfBronx.drop(dfBronx[dfBronx.trip_duration > 40000].index) # remove rows with trip_duration > 40000\n"
   ]
  },
  {
   "cell_type": "code",
   "execution_count": 190,
   "metadata": {},
   "outputs": [
    {
     "data": {
      "text/plain": [
       "<matplotlib.axes._subplots.AxesSubplot at 0x1b1a520cf8>"
      ]
     },
     "execution_count": 190,
     "metadata": {},
     "output_type": "execute_result"
    },
    {
     "data": {
      "image/png": "[encoded data removed]",
      "text/plain": [
       "<Figure size 432x288 with 1 Axes>"
      ]
     },
     "metadata": {
      "needs_background": "light"
     },
     "output_type": "display_data"
    }
   ],
   "source": [
    "dfBronx['trip_duration'].plot.hist(bins=100, title=\"Distribution of 'trip_duration' in Bronx in Jan\")"
   ]
  },
  {
   "cell_type": "code",
   "execution_count": 191,
   "metadata": {},
   "outputs": [],
   "source": [
    "dfBru = df_full.loc[df['Borough']=='Brooklyn']"
   ]
  },
  {
   "cell_type": "code",
   "execution_count": 192,
   "metadata": {},
   "outputs": [
    {
     "data": {
      "text/plain": [
       "<matplotlib.axes._subplots.AxesSubplot at 0x1b04446f98>"
      ]
     },
     "execution_count": 192,
     "metadata": {},
     "output_type": "execute_result"
    },
    {
     "data": {
      "image/png": "[encoded data removed]",
      "text/plain": [
       "<Figure size 432x288 with 1 Axes>"
      ]
     },
     "metadata": {
      "needs_background": "light"
     },
     "output_type": "display_data"
    }
   ],
   "source": [
    "dfBru['trip_duration'].plot.box()"
   ]
  },
  {
   "cell_type": "code",
   "execution_count": 193,
   "metadata": {},
   "outputs": [
    {
     "data": {
      "text/plain": [
       "<matplotlib.axes._subplots.AxesSubplot at 0x1a8726af98>"
      ]
     },
     "execution_count": 193,
     "metadata": {},
     "output_type": "execute_result"
    },
    {
     "data": {
      "image/png": "[encoded data removed]",
      "text/plain": [
       "<Figure size 432x288 with 1 Axes>"
      ]
     },
     "metadata": {
      "needs_background": "light"
     },
     "output_type": "display_data"
    }
   ],
   "source": [
    "dfBru['trip_duration'].plot.hist(bins=100, title=\"Distribution of 'trip_duration' in Brooklyn in Jan\")"
   ]
  },
  {
   "cell_type": "code",
   "execution_count": 194,
   "metadata": {},
   "outputs": [],
   "source": [
    "dfEWR = df_full.loc[df['Borough']=='EWR']"
   ]
  },
  {
   "cell_type": "code",
   "execution_count": 196,
   "metadata": {},
   "outputs": [
    {
     "data": {
      "text/plain": [
       "<matplotlib.axes._subplots.AxesSubplot at 0x1acb54e160>"
      ]
     },
     "execution_count": 196,
     "metadata": {},
     "output_type": "execute_result"
    },
    {
     "data": {
      "image/png": "[encoded data removed]",
      "text/plain": [
       "<Figure size 432x288 with 1 Axes>"
      ]
     },
     "metadata": {
      "needs_background": "light"
     },
     "output_type": "display_data"
    }
   ],
   "source": [
    "dfEWR['trip_duration'].plot.box()"
   ]
  },
  {
   "cell_type": "code",
   "execution_count": 197,
   "metadata": {},
   "outputs": [],
   "source": [
    "dfEWR = dfEWR.drop(dfEWR[dfEWR.trip_duration > 1000].index) # remove rows with trip_duration > 1000"
   ]
  },
  {
   "cell_type": "code",
   "execution_count": 198,
   "metadata": {},
   "outputs": [
    {
     "data": {
      "text/plain": [
       "<matplotlib.axes._subplots.AxesSubplot at 0x1b07897b38>"
      ]
     },
     "execution_count": 198,
     "metadata": {},
     "output_type": "execute_result"
    },
    {
     "data": {
      "image/png": "[encoded data removed]",
      "text/plain": [
       "<Figure size 432x288 with 1 Axes>"
      ]
     },
     "metadata": {
      "needs_background": "light"
     },
     "output_type": "display_data"
    }
   ],
   "source": [
    "dfEWR['trip_duration'].plot.hist(bins=100, title=\"Distribution of 'trip_duration' in EWR in Jan\")"
   ]
  },
  {
   "cell_type": "code",
   "execution_count": 205,
   "metadata": {},
   "outputs": [],
   "source": [
    "dfQueens = df_full.loc[df['Borough']=='Queens']"
   ]
  },
  {
   "cell_type": "code",
   "execution_count": 206,
   "metadata": {},
   "outputs": [
    {
     "data": {
      "text/plain": [
       "<matplotlib.axes._subplots.AxesSubplot at 0x1ab821d7f0>"
      ]
     },
     "execution_count": 206,
     "metadata": {},
     "output_type": "execute_result"
    },
    {
     "data": {
      "image/png": "[encoded data removed]",
      "text/plain": [
       "<Figure size 432x288 with 1 Axes>"
      ]
     },
     "metadata": {
      "needs_background": "light"
     },
     "output_type": "display_data"
    }
   ],
   "source": [
    "dfQueens['trip_duration'].plot.box()"
   ]
  },
  {
   "cell_type": "code",
   "execution_count": 201,
   "metadata": {},
   "outputs": [],
   "source": []
  },
  {
   "cell_type": "code",
   "execution_count": 207,
   "metadata": {},
   "outputs": [
    {
     "data": {
      "text/plain": [
       "<matplotlib.axes._subplots.AxesSubplot at 0x1afadb5160>"
      ]
     },
     "execution_count": 207,
     "metadata": {},
     "output_type": "execute_result"
    },
    {
     "data": {
      "image/png": "[encoded data removed]",
      "text/plain": [
       "<Figure size 432x288 with 1 Axes>"
      ]
     },
     "metadata": {
      "needs_background": "light"
     },
     "output_type": "display_data"
    }
   ],
   "source": [
    "dfQueens['trip_duration'].plot.hist(bins=100, title=\"Distribution of 'trip_duration' in Queens in Jan\")"
   ]
  },
  {
   "cell_type": "code",
   "execution_count": 208,
   "metadata": {},
   "outputs": [],
   "source": [
    "dfStat = df_full.loc[df['Borough']=='Staten Island']"
   ]
  },
  {
   "cell_type": "code",
   "execution_count": 209,
   "metadata": {},
   "outputs": [
    {
     "data": {
      "text/plain": [
       "<matplotlib.axes._subplots.AxesSubplot at 0x1afcbcff28>"
      ]
     },
     "execution_count": 209,
     "metadata": {},
     "output_type": "execute_result"
    },
    {
     "data": {
      "image/png": "[encoded data removed]",
      "text/plain": [
       "<Figure size 432x288 with 1 Axes>"
      ]
     },
     "metadata": {
      "needs_background": "light"
     },
     "output_type": "display_data"
    }
   ],
   "source": [
    "dfQueens['trip_duration'].plot.box()"
   ]
  },
  {
   "cell_type": "code",
   "execution_count": 210,
   "metadata": {},
   "outputs": [
    {
     "data": {
      "text/plain": [
       "<matplotlib.axes._subplots.AxesSubplot at 0x1a59ec8240>"
      ]
     },
     "execution_count": 210,
     "metadata": {},
     "output_type": "execute_result"
    },
    {
     "data": {
      "image/png": "[encoded data removed]",
      "text/plain": [
       "<Figure size 432x288 with 1 Axes>"
      ]
     },
     "metadata": {
      "needs_background": "light"
     },
     "output_type": "display_data"
    }
   ],
   "source": [
    "dfStat['trip_duration'].plot.hist(bins=100, title=\"Distribution of 'trip_duration' in Staten Island in Jan\")"
   ]
  },
  {
   "cell_type": "code",
   "execution_count": 212,
   "metadata": {},
   "outputs": [],
   "source": []
  },
  {
   "cell_type": "code",
   "execution_count": null,
   "metadata": {},
   "outputs": [],
   "source": []
  },
  {
   "cell_type": "code",
   "execution_count": null,
   "metadata": {},
   "outputs": [],
   "source": []
  },
  {
   "cell_type": "code",
   "execution_count": null,
   "metadata": {},
   "outputs": [],
   "source": []
  },
  {
   "cell_type": "code",
   "execution_count": null,
   "metadata": {},
   "outputs": [],
   "source": []
  },
  {
   "cell_type": "code",
   "execution_count": 204,
   "metadata": {},
   "outputs": [],
   "source": [
    "nytaxi = pd.read_csv(Location_Jan, usecols=[1,2,7]) \n",
    "df_full = nytaxi.join(nyBorough.set_index('LocationID'), on='PULocationID')\n",
    "df_full.tpep_pickup_datetime = pd.to_datetime(df_full.tpep_pickup_datetime)\n",
    "df_full.tpep_dropoff_datetime = pd.to_datetime(df_full.tpep_dropoff_datetime)\n",
    "df_full['trip_duration'] = (df_full.tpep_dropoff_datetime - df_full.tpep_pickup_datetime).dt.total_seconds()\n",
    "# Remove all the trips with duration null or negative\n",
    "df_full = df_full[df_full.trip_duration > 0]\n",
    "df = df_full"
   ]
  },
  {
   "cell_type": "code",
   "execution_count": 212,
   "metadata": {},
   "outputs": [
    {
     "data": {
      "text/plain": [
       "<matplotlib.axes._subplots.AxesSubplot at 0x1a6faa3198>"
      ]
     },
     "execution_count": 212,
     "metadata": {},
     "output_type": "execute_result"
    },
    {
     "data": {
      "image/png": "[encoded data removed]",
      "text/plain": [
       "<Figure size 432x288 with 1 Axes>"
      ]
     },
     "metadata": {
      "needs_background": "light"
     },
     "output_type": "display_data"
    }
   ],
   "source": [
    "data = df.loc[df['Borough']=='Manhattan']\n",
    "df = pd.DataFrame(data)\n",
    "df['trip_duration'].plot.hist(bins=100, title=\"Distribution of 'trip_duration'\")"
   ]
  },
  {
   "cell_type": "code",
   "execution_count": 214,
   "metadata": {},
   "outputs": [
    {
     "data": {
      "text/plain": [
       "<matplotlib.axes._subplots.AxesSubplot at 0x1ab00ece80>"
      ]
     },
     "execution_count": 214,
     "metadata": {},
     "output_type": "execute_result"
    },
    {
     "data": {
      "image/png": "[encoded data removed]",
      "text/plain": [
       "<Figure size 432x288 with 1 Axes>"
      ]
     },
     "metadata": {
      "needs_background": "light"
     },
     "output_type": "display_data"
    }
   ],
   "source": [
    "df = df_full\n",
    "data = df.loc[df['Borough']=='Bronx']\n",
    "df = pd.DataFrame(data)\n",
    "df['trip_duration'].plot.hist(bins=100, title=\"Distribution of 'trip_duration'\")"
   ]
  },
  {
   "cell_type": "code",
   "execution_count": 215,
   "metadata": {},
   "outputs": [
    {
     "data": {
      "text/plain": [
       "<matplotlib.axes._subplots.AxesSubplot at 0x1acb3fef98>"
      ]
     },
     "execution_count": 215,
     "metadata": {},
     "output_type": "execute_result"
    },
    {
     "data": {
      "image/png": "[encoded data removed]",
      "text/plain": [
       "<Figure size 432x288 with 1 Axes>"
      ]
     },
     "metadata": {
      "needs_background": "light"
     },
     "output_type": "display_data"
    }
   ],
   "source": [
    "df = df_full\n",
    "data = df.loc[df['Borough']=='Brooklyn']\n",
    "df = pd.DataFrame(data)\n",
    "df['trip_duration'].plot.hist(bins=100, title=\"Distribution of 'trip_duration' in Brooklyn\")"
   ]
  },
  {
   "cell_type": "code",
   "execution_count": 216,
   "metadata": {},
   "outputs": [
    {
     "data": {
      "text/plain": [
       "<matplotlib.axes._subplots.AxesSubplot at 0x1a4c087898>"
      ]
     },
     "execution_count": 216,
     "metadata": {},
     "output_type": "execute_result"
    },
    {
     "data": {
      "image/png": "[encoded data removed]",
      "text/plain": [
       "<Figure size 432x288 with 1 Axes>"
      ]
     },
     "metadata": {
      "needs_background": "light"
     },
     "output_type": "display_data"
    }
   ],
   "source": [
    "df = df_full\n",
    "data = df.loc[df['Borough']=='EWR']\n",
    "df = pd.DataFrame(data)\n",
    "df['trip_duration'].plot.hist(bins=100, title=\"Distribution of 'trip_duration' in EWR\")"
   ]
  },
  {
   "cell_type": "code",
   "execution_count": 217,
   "metadata": {},
   "outputs": [
    {
     "data": {
      "text/plain": [
       "<matplotlib.axes._subplots.AxesSubplot at 0x1aa43cbc50>"
      ]
     },
     "execution_count": 217,
     "metadata": {},
     "output_type": "execute_result"
    },
    {
     "data": {
      "image/png": "[encoded data removed]",
      "text/plain": [
       "<Figure size 432x288 with 1 Axes>"
      ]
     },
     "metadata": {
      "needs_background": "light"
     },
     "output_type": "display_data"
    }
   ],
   "source": [
    "df = df_full\n",
    "data = df.loc[df['Borough']=='Queens']\n",
    "df = pd.DataFrame(data)\n",
    "df['trip_duration'].plot.hist(bins=100, title=\"Distribution of 'trip_duration' in Queens\")"
   ]
  },
  {
   "cell_type": "code",
   "execution_count": 218,
   "metadata": {},
   "outputs": [
    {
     "data": {
      "text/plain": [
       "<matplotlib.axes._subplots.AxesSubplot at 0x1a89363eb8>"
      ]
     },
     "execution_count": 218,
     "metadata": {},
     "output_type": "execute_result"
    },
    {
     "data": {
      "image/png": "[encoded data removed]",
      "text/plain": [
       "<Figure size 432x288 with 1 Axes>"
      ]
     },
     "metadata": {
      "needs_background": "light"
     },
     "output_type": "display_data"
    }
   ],
   "source": [
    "df = df_full\n",
    "data = df.loc[df['Borough']=='Staten Island']\n",
    "df = pd.DataFrame(data)\n",
    "df['trip_duration'].plot.hist(bins=100, title=\"Distribution of 'trip_duration' in Staten Island\")"
   ]
  },
  {
   "cell_type": "code",
   "execution_count": 226,
   "metadata": {},
   "outputs": [],
   "source": [
    "nytaxi = pd.read_csv(Location_Feb, usecols=[1,2,7]) \n",
    "df_full = nytaxi.join(nyBorough.set_index('LocationID'), on='PULocationID')\n",
    "df_full.tpep_pickup_datetime = pd.to_datetime(df_full.tpep_pickup_datetime)\n",
    "df_full.tpep_dropoff_datetime = pd.to_datetime(df_full.tpep_dropoff_datetime)\n",
    "df_full['trip_duration'] = (df_full.tpep_dropoff_datetime - df_full.tpep_pickup_datetime).dt.total_seconds()\n",
    "# Remove all the trips with duration null or negative\n",
    "df_full = df_full[df_full.trip_duration > 0]"
   ]
  },
  {
   "cell_type": "code",
   "execution_count": 236,
   "metadata": {},
   "outputs": [
    {
     "data": {
      "text/plain": [
       "<matplotlib.axes._subplots.AxesSubplot at 0x1a80fb67f0>"
      ]
     },
     "execution_count": 236,
     "metadata": {},
     "output_type": "execute_result"
    },
    {
     "data": {
      "image/png": "[encoded data removed]",
      "text/plain": [
       "<Figure size 432x288 with 1 Axes>"
      ]
     },
     "metadata": {
      "needs_background": "light"
     },
     "output_type": "display_data"
    }
   ],
   "source": [
    "df = df_full\n",
    "data = df.loc[df['Borough']=='Manhattan']\n",
    "df = pd.DataFrame(data)\n",
    "df['trip_duration'].plot.hist(bins=100, title=\"Distribution of 'trip_duration' in Manhattan in Feb\")"
   ]
  },
  {
   "cell_type": "code",
   "execution_count": 237,
   "metadata": {},
   "outputs": [
    {
     "data": {
      "text/plain": [
       "<matplotlib.axes._subplots.AxesSubplot at 0x1a80119898>"
      ]
     },
     "execution_count": 237,
     "metadata": {},
     "output_type": "execute_result"
    },
    {
     "data": {
      "image/png": "[encoded data removed]",
      "text/plain": [
       "<Figure size 432x288 with 1 Axes>"
      ]
     },
     "metadata": {
      "needs_background": "light"
     },
     "output_type": "display_data"
    }
   ],
   "source": [
    "df = df_full\n",
    "data = df.loc[df['Borough']=='Bronx']\n",
    "df = pd.DataFrame(data)\n",
    "df['trip_duration'].plot.hist(bins=100, title=\"Distribution of 'trip_duration' in Bronx in Feb\")"
   ]
  },
  {
   "cell_type": "code",
   "execution_count": 238,
   "metadata": {},
   "outputs": [
    {
     "data": {
      "text/plain": [
       "<matplotlib.axes._subplots.AxesSubplot at 0x1a7eff5ba8>"
      ]
     },
     "execution_count": 238,
     "metadata": {},
     "output_type": "execute_result"
    },
    {
     "data": {
      "image/png": "[encoded data removed]",
      "text/plain": [
       "<Figure size 432x288 with 1 Axes>"
      ]
     },
     "metadata": {
      "needs_background": "light"
     },
     "output_type": "display_data"
    }
   ],
   "source": [
    "df = df_full\n",
    "data = df.loc[df['Borough']=='Brooklyn']\n",
    "df = pd.DataFrame(data)\n",
    "df['trip_duration'].plot.hist(bins=100, title=\"Distribution of 'trip_duration' in Brooklyn in Feb\")"
   ]
  },
  {
   "cell_type": "code",
   "execution_count": 239,
   "metadata": {},
   "outputs": [
    {
     "data": {
      "text/plain": [
       "<matplotlib.axes._subplots.AxesSubplot at 0x1a7e99cef0>"
      ]
     },
     "execution_count": 239,
     "metadata": {},
     "output_type": "execute_result"
    },
    {
     "data": {
      "image/png": "[encoded data removed]",
      "text/plain": [
       "<Figure size 432x288 with 1 Axes>"
      ]
     },
     "metadata": {
      "needs_background": "light"
     },
     "output_type": "display_data"
    }
   ],
   "source": [
    "df = df_full\n",
    "data = df.loc[df['Borough']=='EWR']\n",
    "df = pd.DataFrame(data)\n",
    "df['trip_duration'].plot.hist(bins=100, title=\"Distribution of 'trip_duration' in EWR in Feb\")"
   ]
  },
  {
   "cell_type": "code",
   "execution_count": 240,
   "metadata": {},
   "outputs": [
    {
     "data": {
      "text/plain": [
       "<matplotlib.axes._subplots.AxesSubplot at 0x1a7d775b70>"
      ]
     },
     "execution_count": 240,
     "metadata": {},
     "output_type": "execute_result"
    },
    {
     "data": {
      "image/png": "[encoded data removed]",
      "text/plain": [
       "<Figure size 432x288 with 1 Axes>"
      ]
     },
     "metadata": {
      "needs_background": "light"
     },
     "output_type": "display_data"
    }
   ],
   "source": [
    "df = df_full\n",
    "data = df.loc[df['Borough']=='Queens']\n",
    "df = pd.DataFrame(data)\n",
    "df['trip_duration'].plot.hist(bins=100, title=\"Distribution of 'trip_duration' in Queens in Feb\")"
   ]
  },
  {
   "cell_type": "code",
   "execution_count": 241,
   "metadata": {},
   "outputs": [
    {
     "data": {
      "text/plain": [
       "<matplotlib.axes._subplots.AxesSubplot at 0x1a7c62ee10>"
      ]
     },
     "execution_count": 241,
     "metadata": {},
     "output_type": "execute_result"
    },
    {
     "data": {
      "image/png": "[encoded data removed]",
      "text/plain": [
       "<Figure size 432x288 with 1 Axes>"
      ]
     },
     "metadata": {
      "needs_background": "light"
     },
     "output_type": "display_data"
    }
   ],
   "source": [
    "df = df_full\n",
    "data = df.loc[df['Borough']=='Staten Island']\n",
    "df = pd.DataFrame(data)\n",
    "df['trip_duration'].plot.hist(bins=100, title=\"Distribution of 'trip_duration' in Staten Island in Feb\")"
   ]
  },
  {
   "cell_type": "code",
   "execution_count": 242,
   "metadata": {},
   "outputs": [],
   "source": [
    "nytaxi = pd.read_csv(Location_March, usecols=[1,2,7]) \n",
    "df_full = nytaxi.join(nyBorough.set_index('LocationID'), on='PULocationID')\n",
    "df_full.tpep_pickup_datetime = pd.to_datetime(df_full.tpep_pickup_datetime)\n",
    "df_full.tpep_dropoff_datetime = pd.to_datetime(df_full.tpep_dropoff_datetime)\n",
    "df_full['trip_duration'] = (df_full.tpep_dropoff_datetime - df_full.tpep_pickup_datetime).dt.total_seconds()\n",
    "# Remove all the trips with duration null or negative\n",
    "df_full = df_full[df_full.trip_duration > 0]"
   ]
  },
  {
   "cell_type": "code",
   "execution_count": 243,
   "metadata": {},
   "outputs": [
    {
     "data": {
      "text/plain": [
       "<matplotlib.axes._subplots.AxesSubplot at 0x1a7b6b9d30>"
      ]
     },
     "execution_count": 243,
     "metadata": {},
     "output_type": "execute_result"
    },
    {
     "data": {
      "image/png": "[encoded data removed]",
      "text/plain": [
       "<Figure size 432x288 with 1 Axes>"
      ]
     },
     "metadata": {
      "needs_background": "light"
     },
     "output_type": "display_data"
    }
   ],
   "source": [
    "df = df_full\n",
    "data = df.loc[df['Borough']=='Manhattan']\n",
    "df = pd.DataFrame(data)\n",
    "df['trip_duration'].plot.hist(bins=100, title=\"Distribution of 'trip_duration' in Manhattan in March\")"
   ]
  },
  {
   "cell_type": "code",
   "execution_count": 244,
   "metadata": {},
   "outputs": [
    {
     "data": {
      "text/plain": [
       "<matplotlib.axes._subplots.AxesSubplot at 0x1aa509ecc0>"
      ]
     },
     "execution_count": 244,
     "metadata": {},
     "output_type": "execute_result"
    },
    {
     "data": {
      "image/png": "[encoded data removed]",
      "text/plain": [
       "<Figure size 432x288 with 1 Axes>"
      ]
     },
     "metadata": {
      "needs_background": "light"
     },
     "output_type": "display_data"
    }
   ],
   "source": [
    "df = df_full\n",
    "data = df.loc[df['Borough']=='Bronx']\n",
    "df = pd.DataFrame(data)\n",
    "df['trip_duration'].plot.hist(bins=100, title=\"Distribution of 'trip_duration' in Bronx in March\")"
   ]
  },
  {
   "cell_type": "code",
   "execution_count": 245,
   "metadata": {},
   "outputs": [
    {
     "data": {
      "text/plain": [
       "<matplotlib.axes._subplots.AxesSubplot at 0x1a99f5e908>"
      ]
     },
     "execution_count": 245,
     "metadata": {},
     "output_type": "execute_result"
    },
    {
     "data": {
      "image/png": "[encoded data removed]",
      "text/plain": [
       "<Figure size 432x288 with 1 Axes>"
      ]
     },
     "metadata": {
      "needs_background": "light"
     },
     "output_type": "display_data"
    }
   ],
   "source": [
    "df = df_full\n",
    "data = df.loc[df['Borough']=='Brooklyn']\n",
    "df = pd.DataFrame(data)\n",
    "df['trip_duration'].plot.hist(bins=100, title=\"Distribution of 'trip_duration' in Brooklyn in March\")"
   ]
  },
  {
   "cell_type": "code",
   "execution_count": 246,
   "metadata": {},
   "outputs": [
    {
     "data": {
      "text/plain": [
       "<matplotlib.axes._subplots.AxesSubplot at 0x1a8b89ee80>"
      ]
     },
     "execution_count": 246,
     "metadata": {},
     "output_type": "execute_result"
    },
    {
     "data": {
      "image/png": "[encoded data removed]",
      "text/plain": [
       "<Figure size 432x288 with 1 Axes>"
      ]
     },
     "metadata": {
      "needs_background": "light"
     },
     "output_type": "display_data"
    }
   ],
   "source": [
    "df = df_full\n",
    "data = df.loc[df['Borough']=='EWR']\n",
    "df = pd.DataFrame(data)\n",
    "df['trip_duration'].plot.hist(bins=100, title=\"Distribution of 'trip_duration' in EWR in March\")"
   ]
  },
  {
   "cell_type": "code",
   "execution_count": 247,
   "metadata": {},
   "outputs": [
    {
     "data": {
      "text/plain": [
       "<matplotlib.axes._subplots.AxesSubplot at 0x1a8206f6a0>"
      ]
     },
     "execution_count": 247,
     "metadata": {},
     "output_type": "execute_result"
    },
    {
     "data": {
      "image/png": "[encoded data removed]",
      "text/plain": [
       "<Figure size 432x288 with 1 Axes>"
      ]
     },
     "metadata": {
      "needs_background": "light"
     },
     "output_type": "display_data"
    }
   ],
   "source": [
    "df = df_full\n",
    "data = df.loc[df['Borough']=='Queens']\n",
    "df = pd.DataFrame(data)\n",
    "df['trip_duration'].plot.hist(bins=100, title=\"Distribution of 'trip_duration' in Queens in March\")"
   ]
  },
  {
   "cell_type": "code",
   "execution_count": 248,
   "metadata": {},
   "outputs": [
    {
     "data": {
      "text/plain": [
       "<matplotlib.axes._subplots.AxesSubplot at 0x1a5b673780>"
      ]
     },
     "execution_count": 248,
     "metadata": {},
     "output_type": "execute_result"
    },
    {
     "data": {
      "image/png": "[encoded data removed]",
      "text/plain": [
       "<Figure size 432x288 with 1 Axes>"
      ]
     },
     "metadata": {
      "needs_background": "light"
     },
     "output_type": "display_data"
    }
   ],
   "source": [
    "df = df_full\n",
    "data = df.loc[df['Borough']=='Staten Island']\n",
    "df = pd.DataFrame(data)\n",
    "df['trip_duration'].plot.hist(bins=100, title=\"Distribution of 'trip_duration' in Staten Island in March\")"
   ]
  },
  {
   "cell_type": "code",
   "execution_count": 249,
   "metadata": {},
   "outputs": [],
   "source": [
    "nytaxi = pd.read_csv(Location_April, usecols=[1,2,7]) \n",
    "df_full = nytaxi.join(nyBorough.set_index('LocationID'), on='PULocationID')\n",
    "df_full.tpep_pickup_datetime = pd.to_datetime(df_full.tpep_pickup_datetime)\n",
    "df_full.tpep_dropoff_datetime = pd.to_datetime(df_full.tpep_dropoff_datetime)\n",
    "df_full['trip_duration'] = (df_full.tpep_dropoff_datetime - df_full.tpep_pickup_datetime).dt.total_seconds()\n",
    "# Remove all the trips with duration null or negative\n",
    "df_full = df_full[df_full.trip_duration > 0]"
   ]
  },
  {
   "cell_type": "code",
   "execution_count": 259,
   "metadata": {},
   "outputs": [
    {
     "data": {
      "text/plain": [
       "<matplotlib.axes._subplots.AxesSubplot at 0x1aaac52f98>"
      ]
     },
     "execution_count": 259,
     "metadata": {},
     "output_type": "execute_result"
    },
    {
     "data": {
      "image/png": "[encoded data removed]",
      "text/plain": [
       "<Figure size 432x288 with 1 Axes>"
      ]
     },
     "metadata": {
      "needs_background": "light"
     },
     "output_type": "display_data"
    }
   ],
   "source": [
    "df = df_full\n",
    "data = df.loc[df['Borough']=='Manhattan']\n",
    "data = data.drop(data[data.trip_duration > 10000].index) # remove rows with trip distance > 35\n",
    "df = pd.DataFrame(data)\n",
    "df['trip_duration'].plot.hist(bins=100, title=\"Distribution of 'trip_duration' in Manhattan in April\")"
   ]
  },
  {
   "cell_type": "code",
   "execution_count": 258,
   "metadata": {},
   "outputs": [
    {
     "data": {
      "text/plain": [
       "<matplotlib.axes._subplots.AxesSubplot at 0x1aac28cf98>"
      ]
     },
     "execution_count": 258,
     "metadata": {},
     "output_type": "execute_result"
    },
    {
     "data": {
      "image/png": "[encoded data removed]",
      "text/plain": [
       "<Figure size 432x288 with 1 Axes>"
      ]
     },
     "metadata": {
      "needs_background": "light"
     },
     "output_type": "display_data"
    }
   ],
   "source": [
    "df = df_full\n",
    "data = df.loc[df['Borough']=='Bronx']\n",
    "data = data.drop(data[data.trip_duration > 10000].index) # remove rows with trip distance > 35\n",
    "df = pd.DataFrame(data)\n",
    "df['trip_duration'].plot.hist(bins=100, title=\"Distribution of 'trip_duration' in Bronx in April\")"
   ]
  },
  {
   "cell_type": "code",
   "execution_count": 257,
   "metadata": {},
   "outputs": [
    {
     "data": {
      "text/plain": [
       "<matplotlib.axes._subplots.AxesSubplot at 0x1aad410f98>"
      ]
     },
     "execution_count": 257,
     "metadata": {},
     "output_type": "execute_result"
    },
    {
     "data": {
      "image/png": "[encoded data removed]",
      "text/plain": [
       "<Figure size 432x288 with 1 Axes>"
      ]
     },
     "metadata": {
      "needs_background": "light"
     },
     "output_type": "display_data"
    }
   ],
   "source": [
    "df = df_full\n",
    "data = df.loc[df['Borough']=='Brooklyn']\n",
    "data = data.drop(data[data.trip_duration > 10000].index) # remove rows with trip distance > 35\n",
    "df = pd.DataFrame(data)\n",
    "df['trip_duration'].plot.hist(bins=100, title=\"Distribution of 'trip_duration' in Brooklyn in April\")"
   ]
  },
  {
   "cell_type": "code",
   "execution_count": 264,
   "metadata": {},
   "outputs": [
    {
     "data": {
      "text/plain": [
       "<matplotlib.axes._subplots.AxesSubplot at 0x1aa433dac8>"
      ]
     },
     "execution_count": 264,
     "metadata": {},
     "output_type": "execute_result"
    },
    {
     "data": {
      "image/png": "[encoded data removed]",
      "text/plain": [
       "<Figure size 432x288 with 1 Axes>"
      ]
     },
     "metadata": {
      "needs_background": "light"
     },
     "output_type": "display_data"
    }
   ],
   "source": [
    "df = df_full\n",
    "data = df.loc[df['Borough']=='EWR']\n",
    "data = data.drop(data[data.trip_duration > 2000].index) \n",
    "df = pd.DataFrame(data)\n",
    "df['trip_duration'].plot.hist(bins=100, title=\"Distribution of 'trip_duration' in EWR in April\")"
   ]
  },
  {
   "cell_type": "code",
   "execution_count": 267,
   "metadata": {},
   "outputs": [
    {
     "data": {
      "text/plain": [
       "<matplotlib.axes._subplots.AxesSubplot at 0x1a99853cc0>"
      ]
     },
     "execution_count": 267,
     "metadata": {},
     "output_type": "execute_result"
    },
    {
     "data": {
      "image/png": "[encoded data removed]",
      "text/plain": [
       "<Figure size 432x288 with 1 Axes>"
      ]
     },
     "metadata": {
      "needs_background": "light"
     },
     "output_type": "display_data"
    }
   ],
   "source": [
    "df = df_full\n",
    "data = df.loc[df['Borough']=='Queens']\n",
    "data = data.drop(data[data.trip_duration > 100000].index) \n",
    "df = pd.DataFrame(data)\n",
    "df['trip_duration'].plot.hist(bins=100, title=\"Distribution of 'trip_duration' in Queens in April\")"
   ]
  },
  {
   "cell_type": "code",
   "execution_count": 274,
   "metadata": {},
   "outputs": [
    {
     "data": {
      "text/plain": [
       "<matplotlib.axes._subplots.AxesSubplot at 0x1a7d2a7fd0>"
      ]
     },
     "execution_count": 274,
     "metadata": {},
     "output_type": "execute_result"
    },
    {
     "data": {
      "image/png": "[encoded data removed]",
      "text/plain": [
       "<Figure size 432x288 with 1 Axes>"
      ]
     },
     "metadata": {
      "needs_background": "light"
     },
     "output_type": "display_data"
    }
   ],
   "source": [
    "df = df_full\n",
    "data = df.loc[df['Borough']=='Staten Island']\n",
    "data = data.drop(data[data.trip_duration > 100000].index) \n",
    "df = pd.DataFrame(data)\n",
    "df['trip_duration'].plot.hist(bins=100, title=\"Distribution of 'trip_duration' in Staten Island in April\")"
   ]
  },
  {
   "cell_type": "markdown",
   "metadata": {},
   "source": [
    "## RQ 4"
   ]
  },
  {
   "cell_type": "code",
   "execution_count": 6,
   "metadata": {},
   "outputs": [],
   "source": [
    "nytaxi = pd.read_csv(Location_Jan, usecols=[7,9]) \n",
    "df_full = nytaxi.join(nyBorough.set_index('LocationID'), on='PULocationID')\n",
    "df = df_full"
   ]
  },
  {
   "cell_type": "code",
   "execution_count": 7,
   "metadata": {},
   "outputs": [],
   "source": [
    "n1_Man = len(df.loc[(df['Borough']=='Manhattan') & (df.payment_type == 1)]) # n° of payments of type 1 in Manhattan\n",
    "n2_Man = len(df.loc[(df['Borough']=='Manhattan') & (df.payment_type == 2)]) # n° of payments of type 2 in Manhattan\n",
    "n3_Man = len(df.loc[(df['Borough']=='Manhattan') & (df.payment_type == 3)]) # n° of payments of type 3 in Manhattan\n",
    "n4_Man = len(df.loc[(df['Borough']=='Manhattan') & (df.payment_type == 4)]) # n° of payments of type 4 in Manhattan\n",
    "n5_Man = len(df.loc[(df['Borough']=='Manhattan') & (df.payment_type == 5)]) # n° of payments of type 5 in Manhattan\n",
    "n6_Man = len(df.loc[(df['Borough']=='Manhattan') & (df.payment_type == 6)]) # n° of payments of type 6 in Manhattan\n",
    "\n",
    "n1_Bro = len(df.loc[(df['Borough']=='Bronx') & (df.payment_type == 1)]) \n",
    "n2_Bro = len(df.loc[(df['Borough']=='Bronx') & (df.payment_type == 2)]) \n",
    "n3_Bro = len(df.loc[(df['Borough']=='Bronx') & (df.payment_type == 3)]) \n",
    "n4_Bro = len(df.loc[(df['Borough']=='Bronx') & (df.payment_type == 4)]) \n",
    "n5_Bro = len(df.loc[(df['Borough']=='Bronx') & (df.payment_type == 5)]) \n",
    "n6_Bro = len(df.loc[(df['Borough']=='Bronx') & (df.payment_type == 6)]) \n",
    "\n",
    "n1_Bru = len(df.loc[(df['Borough']=='Brookling') & (df.payment_type == 1)]) \n",
    "n2_Bru = len(df.loc[(df['Borough']=='Brookling') & (df.payment_type == 2)])\n",
    "n3_Bru = len(df.loc[(df['Borough']=='Brookling') & (df.payment_type == 3)])\n",
    "n4_Bru = len(df.loc[(df['Borough']=='Brookling') & (df.payment_type == 4)])\n",
    "n5_Bru = len(df.loc[(df['Borough']=='Brookling') & (df.payment_type == 5)])\n",
    "n6_Bru = len(df.loc[(df['Borough']=='Brookling') & (df.payment_type == 6)])\n",
    "\n",
    "n1_EWR = len(df.loc[(df['Borough']=='EWR') & (df.payment_type == 1)]) \n",
    "n2_EWR = len(df.loc[(df['Borough']=='EWR') & (df.payment_type == 2)])\n",
    "n3_EWR = len(df.loc[(df['Borough']=='EWR') & (df.payment_type == 3)])\n",
    "n4_EWR = len(df.loc[(df['Borough']=='EWR') & (df.payment_type == 4)])\n",
    "n5_EWR = len(df.loc[(df['Borough']=='EWR') & (df.payment_type == 5)])\n",
    "n6_EWR = len(df.loc[(df['Borough']=='EWR') & (df.payment_type == 6)])\n",
    "\n",
    "n1_Queens = len(df.loc[(df['Borough']=='Queens') & (df.payment_type == 1)]) \n",
    "n2_Queens = len(df.loc[(df['Borough']=='Queens') & (df.payment_type == 2)])\n",
    "n3_Queens = len(df.loc[(df['Borough']=='Queens') & (df.payment_type == 3)])\n",
    "n4_Queens = len(df.loc[(df['Borough']=='Queens') & (df.payment_type == 4)])\n",
    "n5_Queens = len(df.loc[(df['Borough']=='Queens') & (df.payment_type == 5)])\n",
    "n6_Queens = len(df.loc[(df['Borough']=='Queens') & (df.payment_type == 6)])\n",
    "\n",
    "n1_Staten = len(df.loc[(df['Borough']=='Staten Island') & (df.payment_type == 1)]) \n",
    "n2_Staten = len(df.loc[(df['Borough']=='Staten Island') & (df.payment_type == 2)])\n",
    "n3_Staten = len(df.loc[(df['Borough']=='Staten Island') & (df.payment_type == 3)])\n",
    "n4_Staten = len(df.loc[(df['Borough']=='Staten Island') & (df.payment_type == 4)])\n",
    "n5_Staten = len(df.loc[(df['Borough']=='Staten Island') & (df.payment_type == 5)])\n",
    "n6_Staten = len(df.loc[(df['Borough']=='Staten Island') & (df.payment_type == 6)])\n"
   ]
  },
  {
   "cell_type": "code",
   "execution_count": 10,
   "metadata": {},
   "outputs": [
    {
     "name": "stderr",
     "output_type": "stream",
     "text": [
      "/Users/daniele/anaconda3/lib/python3.7/site-packages/scipy/stats/stats.py:4567: RuntimeWarning: invalid value encountered in true_divide\n",
      "  terms = (f_obs - f_exp)**2 / f_exp\n",
      "/Users/daniele/anaconda3/lib/python3.7/site-packages/scipy/stats/_distn_infrastructure.py:879: RuntimeWarning: invalid value encountered in greater\n",
      "  return (self.a < x) & (x < self.b)\n",
      "/Users/daniele/anaconda3/lib/python3.7/site-packages/scipy/stats/_distn_infrastructure.py:879: RuntimeWarning: invalid value encountered in less\n",
      "  return (self.a < x) & (x < self.b)\n",
      "/Users/daniele/anaconda3/lib/python3.7/site-packages/scipy/stats/_distn_infrastructure.py:1821: RuntimeWarning: invalid value encountered in less_equal\n",
      "  cond2 = cond0 & (x <= self.a)\n"
     ]
    },
    {
     "data": {
      "text/plain": [
       "Power_divergenceResult(statistic=array([2.02704418e+06, 2.87510510e+03,            nan, 3.33536585e+02,\n",
       "       1.62412645e+05, 1.90000000e+01]), pvalue=array([0.00000000e+00, 0.00000000e+00,            nan, 6.12188453e-70,\n",
       "       0.00000000e+00, 1.92213682e-03]))"
      ]
     },
     "execution_count": 10,
     "metadata": {},
     "output_type": "execute_result"
    }
   ],
   "source": [
    "a1 = [n1_Man,n1_Bro,n1_Bru,n1_EWR,n1_Queens,n1_Staten]\n",
    "a2 = [n2_Man,n2_Bro,n2_Bru,n2_EWR,n2_Queens,n2_Staten]\n",
    "a3 = [n3_Man,n3_Bro,n3_Bru,n3_EWR,n3_Queens,n3_Staten]\n",
    "a4 = [n4_Man,n4_Bro,n4_Bru,n4_EWR,n4_Queens,n4_Staten]\n",
    "a5 = [n5_Man,n5_Bro,n5_Bru,n5_EWR,n5_Queens,n5_Staten]\n",
    "a6 = [n6_Man,n6_Bro,n6_Bru,n6_EWR,n6_Queens,n6_Staten]\n",
    "obs = np.array([a1, a2, a3, a4, a5, a6])\n",
    "from scipy.stats import chisquare\n",
    "chisquare(obs)"
   ]
  },
  {
   "cell_type": "code",
   "execution_count": 12,
   "metadata": {},
   "outputs": [],
   "source": [
    "nytaxi = pd.read_csv(Location_Feb, usecols=[7,9]) \n",
    "df_full = nytaxi.join(nyBorough.set_index('LocationID'), on='PULocationID')\n",
    "df = df_full"
   ]
  },
  {
   "cell_type": "code",
   "execution_count": 13,
   "metadata": {},
   "outputs": [],
   "source": [
    "n1_Man = len(df.loc[(df['Borough']=='Manhattan') & (df.payment_type == 1)]) # n° of payments of type 1 in Manhattan\n",
    "n2_Man = len(df.loc[(df['Borough']=='Manhattan') & (df.payment_type == 2)]) # n° of payments of type 2 in Manhattan\n",
    "n3_Man = len(df.loc[(df['Borough']=='Manhattan') & (df.payment_type == 3)]) # n° of payments of type 3 in Manhattan\n",
    "n4_Man = len(df.loc[(df['Borough']=='Manhattan') & (df.payment_type == 4)]) # n° of payments of type 4 in Manhattan\n",
    "n5_Man = len(df.loc[(df['Borough']=='Manhattan') & (df.payment_type == 5)]) # n° of payments of type 5 in Manhattan\n",
    "n6_Man = len(df.loc[(df['Borough']=='Manhattan') & (df.payment_type == 6)]) # n° of payments of type 6 in Manhattan\n",
    "\n",
    "n1_Bro = len(df.loc[(df['Borough']=='Bronx') & (df.payment_type == 1)]) \n",
    "n2_Bro = len(df.loc[(df['Borough']=='Bronx') & (df.payment_type == 2)]) \n",
    "n3_Bro = len(df.loc[(df['Borough']=='Bronx') & (df.payment_type == 3)]) \n",
    "n4_Bro = len(df.loc[(df['Borough']=='Bronx') & (df.payment_type == 4)]) \n",
    "n5_Bro = len(df.loc[(df['Borough']=='Bronx') & (df.payment_type == 5)]) \n",
    "n6_Bro = len(df.loc[(df['Borough']=='Bronx') & (df.payment_type == 6)]) \n",
    "\n",
    "n1_Bru = len(df.loc[(df['Borough']=='Brookling') & (df.payment_type == 1)]) \n",
    "n2_Bru = len(df.loc[(df['Borough']=='Brookling') & (df.payment_type == 2)])\n",
    "n3_Bru = len(df.loc[(df['Borough']=='Brookling') & (df.payment_type == 3)])\n",
    "n4_Bru = len(df.loc[(df['Borough']=='Brookling') & (df.payment_type == 4)])\n",
    "n5_Bru = len(df.loc[(df['Borough']=='Brookling') & (df.payment_type == 5)])\n",
    "n6_Bru = len(df.loc[(df['Borough']=='Brookling') & (df.payment_type == 6)])\n",
    "\n",
    "n1_EWR = len(df.loc[(df['Borough']=='EWR') & (df.payment_type == 1)]) \n",
    "n2_EWR = len(df.loc[(df['Borough']=='EWR') & (df.payment_type == 2)])\n",
    "n3_EWR = len(df.loc[(df['Borough']=='EWR') & (df.payment_type == 3)])\n",
    "n4_EWR = len(df.loc[(df['Borough']=='EWR') & (df.payment_type == 4)])\n",
    "n5_EWR = len(df.loc[(df['Borough']=='EWR') & (df.payment_type == 5)])\n",
    "n6_EWR = len(df.loc[(df['Borough']=='EWR') & (df.payment_type == 6)])\n",
    "\n",
    "n1_Queens = len(df.loc[(df['Borough']=='Queens') & (df.payment_type == 1)]) \n",
    "n2_Queens = len(df.loc[(df['Borough']=='Queens') & (df.payment_type == 2)])\n",
    "n3_Queens = len(df.loc[(df['Borough']=='Queens') & (df.payment_type == 3)])\n",
    "n4_Queens = len(df.loc[(df['Borough']=='Queens') & (df.payment_type == 4)])\n",
    "n5_Queens = len(df.loc[(df['Borough']=='Queens') & (df.payment_type == 5)])\n",
    "n6_Queens = len(df.loc[(df['Borough']=='Queens') & (df.payment_type == 6)])\n",
    "\n",
    "n1_Staten = len(df.loc[(df['Borough']=='Staten Island') & (df.payment_type == 1)]) \n",
    "n2_Staten = len(df.loc[(df['Borough']=='Staten Island') & (df.payment_type == 2)])\n",
    "n3_Staten = len(df.loc[(df['Borough']=='Staten Island') & (df.payment_type == 3)])\n",
    "n4_Staten = len(df.loc[(df['Borough']=='Staten Island') & (df.payment_type == 4)])\n",
    "n5_Staten = len(df.loc[(df['Borough']=='Staten Island') & (df.payment_type == 5)])\n",
    "n6_Staten = len(df.loc[(df['Borough']=='Staten Island') & (df.payment_type == 6)])\n"
   ]
  },
  {
   "cell_type": "code",
   "execution_count": 14,
   "metadata": {},
   "outputs": [
    {
     "name": "stderr",
     "output_type": "stream",
     "text": [
      "/Users/daniele/anaconda3/lib/python3.7/site-packages/scipy/stats/stats.py:4567: RuntimeWarning: invalid value encountered in true_divide\n",
      "  terms = (f_obs - f_exp)**2 / f_exp\n",
      "/Users/daniele/anaconda3/lib/python3.7/site-packages/scipy/stats/_distn_infrastructure.py:879: RuntimeWarning: invalid value encountered in greater\n",
      "  return (self.a < x) & (x < self.b)\n",
      "/Users/daniele/anaconda3/lib/python3.7/site-packages/scipy/stats/_distn_infrastructure.py:879: RuntimeWarning: invalid value encountered in less\n",
      "  return (self.a < x) & (x < self.b)\n",
      "/Users/daniele/anaconda3/lib/python3.7/site-packages/scipy/stats/_distn_infrastructure.py:1821: RuntimeWarning: invalid value encountered in less_equal\n",
      "  cond2 = cond0 & (x <= self.a)\n"
     ]
    },
    {
     "data": {
      "text/plain": [
       "Power_divergenceResult(statistic=array([1.93740369e+07, 1.19111800e+04,            nan, 1.47166398e+03,\n",
       "       1.18173768e+06, 1.82555556e+02]), pvalue=array([0.00000000e+00, 0.00000000e+00,            nan, 0.00000000e+00,\n",
       "       0.00000000e+00, 1.52262634e-37]))"
      ]
     },
     "execution_count": 14,
     "metadata": {},
     "output_type": "execute_result"
    }
   ],
   "source": [
    "a1 = [n1_Man,n1_Bro,n1_Bru,n1_EWR,n1_Queens,n1_Staten]\n",
    "a2 = [n2_Man,n2_Bro,n2_Bru,n2_EWR,n2_Queens,n2_Staten]\n",
    "a3 = [n3_Man,n3_Bro,n3_Bru,n3_EWR,n3_Queens,n3_Staten]\n",
    "a4 = [n4_Man,n4_Bro,n4_Bru,n4_EWR,n4_Queens,n4_Staten]\n",
    "a5 = [n5_Man,n5_Bro,n5_Bru,n5_EWR,n5_Queens,n5_Staten]\n",
    "a6 = [n6_Man,n6_Bro,n6_Bru,n6_EWR,n6_Queens,n6_Staten]\n",
    "obs = np.array([a1, a2, a3, a4, a5, a6])\n",
    "from scipy.stats import chisquare\n",
    "chisquare(obs)"
   ]
  },
  {
   "cell_type": "code",
   "execution_count": 16,
   "metadata": {},
   "outputs": [],
   "source": [
    "nytaxi = pd.read_csv(Location_Apr, usecols=[7,9]) \n",
    "df_full = nytaxi.join(nyBorough.set_index('LocationID'), on='PULocationID')\n",
    "df = df_full"
   ]
  },
  {
   "cell_type": "code",
   "execution_count": 17,
   "metadata": {},
   "outputs": [],
   "source": [
    "n1_Man = len(df.loc[(df['Borough']=='Manhattan') & (df.payment_type == 1)]) # n° of payments of type 1 in Manhattan\n",
    "n2_Man = len(df.loc[(df['Borough']=='Manhattan') & (df.payment_type == 2)]) # n° of payments of type 2 in Manhattan\n",
    "n3_Man = len(df.loc[(df['Borough']=='Manhattan') & (df.payment_type == 3)]) # n° of payments of type 3 in Manhattan\n",
    "n4_Man = len(df.loc[(df['Borough']=='Manhattan') & (df.payment_type == 4)]) # n° of payments of type 4 in Manhattan\n",
    "n5_Man = len(df.loc[(df['Borough']=='Manhattan') & (df.payment_type == 5)]) # n° of payments of type 5 in Manhattan\n",
    "n6_Man = len(df.loc[(df['Borough']=='Manhattan') & (df.payment_type == 6)]) # n° of payments of type 6 in Manhattan\n",
    "\n",
    "n1_Bro = len(df.loc[(df['Borough']=='Bronx') & (df.payment_type == 1)]) \n",
    "n2_Bro = len(df.loc[(df['Borough']=='Bronx') & (df.payment_type == 2)]) \n",
    "n3_Bro = len(df.loc[(df['Borough']=='Bronx') & (df.payment_type == 3)]) \n",
    "n4_Bro = len(df.loc[(df['Borough']=='Bronx') & (df.payment_type == 4)]) \n",
    "n5_Bro = len(df.loc[(df['Borough']=='Bronx') & (df.payment_type == 5)]) \n",
    "n6_Bro = len(df.loc[(df['Borough']=='Bronx') & (df.payment_type == 6)]) \n",
    "\n",
    "n1_Bru = len(df.loc[(df['Borough']=='Brookling') & (df.payment_type == 1)]) \n",
    "n2_Bru = len(df.loc[(df['Borough']=='Brookling') & (df.payment_type == 2)])\n",
    "n3_Bru = len(df.loc[(df['Borough']=='Brookling') & (df.payment_type == 3)])\n",
    "n4_Bru = len(df.loc[(df['Borough']=='Brookling') & (df.payment_type == 4)])\n",
    "n5_Bru = len(df.loc[(df['Borough']=='Brookling') & (df.payment_type == 5)])\n",
    "n6_Bru = len(df.loc[(df['Borough']=='Brookling') & (df.payment_type == 6)])\n",
    "\n",
    "n1_EWR = len(df.loc[(df['Borough']=='EWR') & (df.payment_type == 1)]) \n",
    "n2_EWR = len(df.loc[(df['Borough']=='EWR') & (df.payment_type == 2)])\n",
    "n3_EWR = len(df.loc[(df['Borough']=='EWR') & (df.payment_type == 3)])\n",
    "n4_EWR = len(df.loc[(df['Borough']=='EWR') & (df.payment_type == 4)])\n",
    "n5_EWR = len(df.loc[(df['Borough']=='EWR') & (df.payment_type == 5)])\n",
    "n6_EWR = len(df.loc[(df['Borough']=='EWR') & (df.payment_type == 6)])\n",
    "\n",
    "n1_Queens = len(df.loc[(df['Borough']=='Queens') & (df.payment_type == 1)]) \n",
    "n2_Queens = len(df.loc[(df['Borough']=='Queens') & (df.payment_type == 2)])\n",
    "n3_Queens = len(df.loc[(df['Borough']=='Queens') & (df.payment_type == 3)])\n",
    "n4_Queens = len(df.loc[(df['Borough']=='Queens') & (df.payment_type == 4)])\n",
    "n5_Queens = len(df.loc[(df['Borough']=='Queens') & (df.payment_type == 5)])\n",
    "n6_Queens = len(df.loc[(df['Borough']=='Queens') & (df.payment_type == 6)])\n",
    "\n",
    "n1_Staten = len(df.loc[(df['Borough']=='Staten Island') & (df.payment_type == 1)]) \n",
    "n2_Staten = len(df.loc[(df['Borough']=='Staten Island') & (df.payment_type == 2)])\n",
    "n3_Staten = len(df.loc[(df['Borough']=='Staten Island') & (df.payment_type == 3)])\n",
    "n4_Staten = len(df.loc[(df['Borough']=='Staten Island') & (df.payment_type == 4)])\n",
    "n5_Staten = len(df.loc[(df['Borough']=='Staten Island') & (df.payment_type == 5)])\n",
    "n6_Staten = len(df.loc[(df['Borough']=='Staten Island') & (df.payment_type == 6)])\n"
   ]
  },
  {
   "cell_type": "markdown",
   "metadata": {},
   "source": []
  },
  {
   "cell_type": "code",
   "execution_count": 297,
   "metadata": {},
   "outputs": [],
   "source": []
  },
  {
   "cell_type": "code",
   "execution_count": 18,
   "metadata": {},
   "outputs": [
    {
     "name": "stderr",
     "output_type": "stream",
     "text": [
      "/Users/daniele/anaconda3/lib/python3.7/site-packages/scipy/stats/stats.py:4567: RuntimeWarning: invalid value encountered in true_divide\n",
      "  terms = (f_obs - f_exp)**2 / f_exp\n",
      "/Users/daniele/anaconda3/lib/python3.7/site-packages/scipy/stats/_distn_infrastructure.py:879: RuntimeWarning: invalid value encountered in greater\n",
      "  return (self.a < x) & (x < self.b)\n",
      "/Users/daniele/anaconda3/lib/python3.7/site-packages/scipy/stats/_distn_infrastructure.py:879: RuntimeWarning: invalid value encountered in less\n",
      "  return (self.a < x) & (x < self.b)\n",
      "/Users/daniele/anaconda3/lib/python3.7/site-packages/scipy/stats/_distn_infrastructure.py:1821: RuntimeWarning: invalid value encountered in less_equal\n",
      "  cond2 = cond0 & (x <= self.a)\n"
     ]
    },
    {
     "data": {
      "text/plain": [
       "Power_divergenceResult(statistic=array([2.05768211e+07, 1.91767607e+04,            nan, 1.94098567e+03,\n",
       "       1.42759592e+06, 2.03418605e+02]), pvalue=array([0.00000000e+00, 0.00000000e+00,            nan, 0.00000000e+00,\n",
       "       0.00000000e+00, 5.27236052e-42]))"
      ]
     },
     "execution_count": 18,
     "metadata": {},
     "output_type": "execute_result"
    }
   ],
   "source": [
    "a1 = [n1_Man,n1_Bro,n1_Bru,n1_EWR,n1_Queens,n1_Staten]\n",
    "a2 = [n2_Man,n2_Bro,n2_Bru,n2_EWR,n2_Queens,n2_Staten]\n",
    "a3 = [n3_Man,n3_Bro,n3_Bru,n3_EWR,n3_Queens,n3_Staten]\n",
    "a4 = [n4_Man,n4_Bro,n4_Bru,n4_EWR,n4_Queens,n4_Staten]\n",
    "a5 = [n5_Man,n5_Bro,n5_Bru,n5_EWR,n5_Queens,n5_Staten]\n",
    "a6 = [n6_Man,n6_Bro,n6_Bru,n6_EWR,n6_Queens,n6_Staten]\n",
    "obs = np.array([a1, a2, a3, a4, a5, a6])\n",
    "from scipy.stats import chisquare\n",
    "chisquare(obs)"
   ]
  },
  {
   "cell_type": "code",
   "execution_count": null,
   "metadata": {},
   "outputs": [],
   "source": []
  },
  {
   "cell_type": "markdown",
   "metadata": {},
   "source": []
  },
  {
   "cell_type": "code",
   "execution_count": 300,
   "metadata": {},
   "outputs": [],
   "source": [
    "nytaxi = pd.read_csv(Location_March, usecols=[7,9]) \n",
    "df_full = nytaxi.join(nyBorough.set_index('LocationID'), on='PULocationID')\n",
    "df = df_full"
   ]
  },
  {
   "cell_type": "code",
   "execution_count": 301,
   "metadata": {},
   "outputs": [],
   "source": [
    "n1_Man = len(df.loc[(df['Borough']=='Manhattan') & (df.payment_type == 1)]) # n° of payments of type 1 in Manhattan\n",
    "n2_Man = len(df.loc[(df['Borough']=='Manhattan') & (df.payment_type == 2)]) # n° of payments of type 2 in Manhattan\n",
    "n3_Man = len(df.loc[(df['Borough']=='Manhattan') & (df.payment_type == 3)]) # n° of payments of type 3 in Manhattan\n",
    "n4_Man = len(df.loc[(df['Borough']=='Manhattan') & (df.payment_type == 4)]) # n° of payments of type 4 in Manhattan\n",
    "n5_Man = len(df.loc[(df['Borough']=='Manhattan') & (df.payment_type == 5)]) # n° of payments of type 5 in Manhattan\n",
    "n6_Man = len(df.loc[(df['Borough']=='Manhattan') & (df.payment_type == 6)]) # n° of payments of type 6 in Manhattan\n",
    "\n",
    "n1_Bro = len(df.loc[(df['Borough']=='Bronx') & (df.payment_type == 1)]) \n",
    "n2_Bro = len(df.loc[(df['Borough']=='Bronx') & (df.payment_type == 2)]) \n",
    "n3_Bro = len(df.loc[(df['Borough']=='Bronx') & (df.payment_type == 3)]) \n",
    "n4_Bro = len(df.loc[(df['Borough']=='Bronx') & (df.payment_type == 4)]) \n",
    "n5_Bro = len(df.loc[(df['Borough']=='Bronx') & (df.payment_type == 5)]) \n",
    "n6_Bro = len(df.loc[(df['Borough']=='Bronx') & (df.payment_type == 6)]) \n",
    "\n",
    "n1_Bru = len(df.loc[(df['Borough']=='Brookling') & (df.payment_type == 1)]) \n",
    "n2_Bru = len(df.loc[(df['Borough']=='Brookling') & (df.payment_type == 2)])\n",
    "n3_Bru = len(df.loc[(df['Borough']=='Brookling') & (df.payment_type == 3)])\n",
    "n4_Bru = len(df.loc[(df['Borough']=='Brookling') & (df.payment_type == 4)])\n",
    "n5_Bru = len(df.loc[(df['Borough']=='Brookling') & (df.payment_type == 5)])\n",
    "n6_Bru = len(df.loc[(df['Borough']=='Brookling') & (df.payment_type == 6)])\n",
    "\n",
    "n1_EWR = len(df.loc[(df['Borough']=='EWR') & (df.payment_type == 1)]) \n",
    "n2_EWR = len(df.loc[(df['Borough']=='EWR') & (df.payment_type == 2)])\n",
    "n3_EWR = len(df.loc[(df['Borough']=='EWR') & (df.payment_type == 3)])\n",
    "n4_EWR = len(df.loc[(df['Borough']=='EWR') & (df.payment_type == 4)])\n",
    "n5_EWR = len(df.loc[(df['Borough']=='EWR') & (df.payment_type == 5)])\n",
    "n6_EWR = len(df.loc[(df['Borough']=='EWR') & (df.payment_type == 6)])\n",
    "\n",
    "n1_Queens = len(df.loc[(df['Borough']=='Queens') & (df.payment_type == 1)]) \n",
    "n2_Queens = len(df.loc[(df['Borough']=='Queens') & (df.payment_type == 2)])\n",
    "n3_Queens = len(df.loc[(df['Borough']=='Queens') & (df.payment_type == 3)])\n",
    "n4_Queens = len(df.loc[(df['Borough']=='Queens') & (df.payment_type == 4)])\n",
    "n5_Queens = len(df.loc[(df['Borough']=='Queens') & (df.payment_type == 5)])\n",
    "n6_Queens = len(df.loc[(df['Borough']=='Queens') & (df.payment_type == 6)])\n",
    "\n",
    "n1_Staten = len(df.loc[(df['Borough']=='Staten Island') & (df.payment_type == 1)]) \n",
    "n2_Staten = len(df.loc[(df['Borough']=='Staten Island') & (df.payment_type == 2)])\n",
    "n3_Staten = len(df.loc[(df['Borough']=='Staten Island') & (df.payment_type == 3)])\n",
    "n4_Staten = len(df.loc[(df['Borough']=='Staten Island') & (df.payment_type == 4)])\n",
    "n5_Staten = len(df.loc[(df['Borough']=='Staten Island') & (df.payment_type == 5)])\n",
    "n6_Staten = len(df.loc[(df['Borough']=='Staten Island') & (df.payment_type == 6)])\n"
   ]
  },
  {
   "cell_type": "code",
   "execution_count": 302,
   "metadata": {},
   "outputs": [
    {
     "name": "stderr",
     "output_type": "stream",
     "text": [
      "/Users/daniele/anaconda3/lib/python3.7/site-packages/scipy/stats/stats.py:4567: RuntimeWarning: invalid value encountered in true_divide\n",
      "  terms = (f_obs - f_exp)**2 / f_exp\n",
      "/Users/daniele/anaconda3/lib/python3.7/site-packages/scipy/stats/_distn_infrastructure.py:879: RuntimeWarning: invalid value encountered in greater\n",
      "  return (self.a < x) & (x < self.b)\n",
      "/Users/daniele/anaconda3/lib/python3.7/site-packages/scipy/stats/_distn_infrastructure.py:879: RuntimeWarning: invalid value encountered in less\n",
      "  return (self.a < x) & (x < self.b)\n",
      "/Users/daniele/anaconda3/lib/python3.7/site-packages/scipy/stats/_distn_infrastructure.py:1821: RuntimeWarning: invalid value encountered in less_equal\n",
      "  cond2 = cond0 & (x <= self.a)\n"
     ]
    },
    {
     "data": {
      "text/plain": [
       "Power_divergenceResult(statistic=array([2.09696823e+07, 1.88703772e+04,            nan, 1.68918513e+03,\n",
       "       1.33012297e+06, 2.09906475e+02]), pvalue=array([0.00000000e+00, 0.00000000e+00,            nan, 0.00000000e+00,\n",
       "       0.00000000e+00, 2.15495271e-43]))"
      ]
     },
     "execution_count": 302,
     "metadata": {},
     "output_type": "execute_result"
    }
   ],
   "source": [
    "a1 = [n1_Man,n1_Bro,n1_Bru,n1_EWR,n1_Queens,n1_Staten]\n",
    "a2 = [n2_Man,n2_Bro,n2_Bru,n2_EWR,n2_Queens,n2_Staten]\n",
    "a3 = [n3_Man,n3_Bro,n3_Bru,n3_EWR,n3_Queens,n3_Staten]\n",
    "a4 = [n4_Man,n4_Bro,n4_Bru,n4_EWR,n4_Queens,n4_Staten]\n",
    "a5 = [n5_Man,n5_Bro,n5_Bru,n5_EWR,n5_Queens,n5_Staten]\n",
    "a6 = [n6_Man,n6_Bro,n6_Bru,n6_EWR,n6_Queens,n6_Staten]\n",
    "obs = np.array([a1, a2, a3, a4, a5, a6])\n",
    "from scipy.stats import chisquare\n",
    "chisquare(obs)"
   ]
  },
  {
   "cell_type": "code",
   "execution_count": 19,
   "metadata": {},
   "outputs": [],
   "source": [
    "nytaxi = pd.read_csv(Location_May, usecols=[7,9]) \n",
    "df_full = nytaxi.join(nyBorough.set_index('LocationID'), on='PULocationID')\n",
    "df = df_full"
   ]
  },
  {
   "cell_type": "code",
   "execution_count": 20,
   "metadata": {},
   "outputs": [],
   "source": [
    "n1_Man = len(df.loc[(df['Borough']=='Manhattan') & (df.payment_type == 1)]) # n° of payments of type 1 in Manhattan\n",
    "n2_Man = len(df.loc[(df['Borough']=='Manhattan') & (df.payment_type == 2)]) # n° of payments of type 2 in Manhattan\n",
    "n3_Man = len(df.loc[(df['Borough']=='Manhattan') & (df.payment_type == 3)]) # n° of payments of type 3 in Manhattan\n",
    "n4_Man = len(df.loc[(df['Borough']=='Manhattan') & (df.payment_type == 4)]) # n° of payments of type 4 in Manhattan\n",
    "n5_Man = len(df.loc[(df['Borough']=='Manhattan') & (df.payment_type == 5)]) # n° of payments of type 5 in Manhattan\n",
    "n6_Man = len(df.loc[(df['Borough']=='Manhattan') & (df.payment_type == 6)]) # n° of payments of type 6 in Manhattan\n",
    "\n",
    "n1_Bro = len(df.loc[(df['Borough']=='Bronx') & (df.payment_type == 1)]) \n",
    "n2_Bro = len(df.loc[(df['Borough']=='Bronx') & (df.payment_type == 2)]) \n",
    "n3_Bro = len(df.loc[(df['Borough']=='Bronx') & (df.payment_type == 3)]) \n",
    "n4_Bro = len(df.loc[(df['Borough']=='Bronx') & (df.payment_type == 4)]) \n",
    "n5_Bro = len(df.loc[(df['Borough']=='Bronx') & (df.payment_type == 5)]) \n",
    "n6_Bro = len(df.loc[(df['Borough']=='Bronx') & (df.payment_type == 6)]) \n",
    "\n",
    "n1_Bru = len(df.loc[(df['Borough']=='Brookling') & (df.payment_type == 1)]) \n",
    "n2_Bru = len(df.loc[(df['Borough']=='Brookling') & (df.payment_type == 2)])\n",
    "n3_Bru = len(df.loc[(df['Borough']=='Brookling') & (df.payment_type == 3)])\n",
    "n4_Bru = len(df.loc[(df['Borough']=='Brookling') & (df.payment_type == 4)])\n",
    "n5_Bru = len(df.loc[(df['Borough']=='Brookling') & (df.payment_type == 5)])\n",
    "n6_Bru = len(df.loc[(df['Borough']=='Brookling') & (df.payment_type == 6)])\n",
    "\n",
    "n1_EWR = len(df.loc[(df['Borough']=='EWR') & (df.payment_type == 1)]) \n",
    "n2_EWR = len(df.loc[(df['Borough']=='EWR') & (df.payment_type == 2)])\n",
    "n3_EWR = len(df.loc[(df['Borough']=='EWR') & (df.payment_type == 3)])\n",
    "n4_EWR = len(df.loc[(df['Borough']=='EWR') & (df.payment_type == 4)])\n",
    "n5_EWR = len(df.loc[(df['Borough']=='EWR') & (df.payment_type == 5)])\n",
    "n6_EWR = len(df.loc[(df['Borough']=='EWR') & (df.payment_type == 6)])\n",
    "\n",
    "n1_Queens = len(df.loc[(df['Borough']=='Queens') & (df.payment_type == 1)]) \n",
    "n2_Queens = len(df.loc[(df['Borough']=='Queens') & (df.payment_type == 2)])\n",
    "n3_Queens = len(df.loc[(df['Borough']=='Queens') & (df.payment_type == 3)])\n",
    "n4_Queens = len(df.loc[(df['Borough']=='Queens') & (df.payment_type == 4)])\n",
    "n5_Queens = len(df.loc[(df['Borough']=='Queens') & (df.payment_type == 5)])\n",
    "n6_Queens = len(df.loc[(df['Borough']=='Queens') & (df.payment_type == 6)])\n",
    "\n",
    "n1_Staten = len(df.loc[(df['Borough']=='Staten Island') & (df.payment_type == 1)]) \n",
    "n2_Staten = len(df.loc[(df['Borough']=='Staten Island') & (df.payment_type == 2)])\n",
    "n3_Staten = len(df.loc[(df['Borough']=='Staten Island') & (df.payment_type == 3)])\n",
    "n4_Staten = len(df.loc[(df['Borough']=='Staten Island') & (df.payment_type == 4)])\n",
    "n5_Staten = len(df.loc[(df['Borough']=='Staten Island') & (df.payment_type == 5)])\n",
    "n6_Staten = len(df.loc[(df['Borough']=='Staten Island') & (df.payment_type == 6)])\n"
   ]
  },
  {
   "cell_type": "code",
   "execution_count": 21,
   "metadata": {},
   "outputs": [
    {
     "name": "stderr",
     "output_type": "stream",
     "text": [
      "/Users/daniele/anaconda3/lib/python3.7/site-packages/scipy/stats/stats.py:4567: RuntimeWarning: invalid value encountered in true_divide\n",
      "  terms = (f_obs - f_exp)**2 / f_exp\n",
      "/Users/daniele/anaconda3/lib/python3.7/site-packages/scipy/stats/_distn_infrastructure.py:879: RuntimeWarning: invalid value encountered in greater\n",
      "  return (self.a < x) & (x < self.b)\n",
      "/Users/daniele/anaconda3/lib/python3.7/site-packages/scipy/stats/_distn_infrastructure.py:879: RuntimeWarning: invalid value encountered in less\n",
      "  return (self.a < x) & (x < self.b)\n",
      "/Users/daniele/anaconda3/lib/python3.7/site-packages/scipy/stats/_distn_infrastructure.py:1821: RuntimeWarning: invalid value encountered in less_equal\n",
      "  cond2 = cond0 & (x <= self.a)\n"
     ]
    },
    {
     "data": {
      "text/plain": [
       "Power_divergenceResult(statistic=array([2.03029183e+07, 2.08552621e+04,            nan, 2.22424101e+03,\n",
       "       1.43365921e+06, 2.80583333e+02]), pvalue=array([0.00000000e+00, 0.00000000e+00,            nan, 0.00000000e+00,\n",
       "       0.00000000e+00, 1.49159209e-58]))"
      ]
     },
     "execution_count": 21,
     "metadata": {},
     "output_type": "execute_result"
    }
   ],
   "source": [
    "a1 = [n1_Man,n1_Bro,n1_Bru,n1_EWR,n1_Queens,n1_Staten]\n",
    "a2 = [n2_Man,n2_Bro,n2_Bru,n2_EWR,n2_Queens,n2_Staten]\n",
    "a3 = [n3_Man,n3_Bro,n3_Bru,n3_EWR,n3_Queens,n3_Staten]\n",
    "a4 = [n4_Man,n4_Bro,n4_Bru,n4_EWR,n4_Queens,n4_Staten]\n",
    "a5 = [n5_Man,n5_Bro,n5_Bru,n5_EWR,n5_Queens,n5_Staten]\n",
    "a6 = [n6_Man,n6_Bro,n6_Bru,n6_EWR,n6_Queens,n6_Staten]\n",
    "obs = np.array([a1, a2, a3, a4, a5, a6])\n",
    "from scipy.stats import chisquare\n",
    "chisquare(obs)"
   ]
  },
  {
   "cell_type": "code",
   "execution_count": 22,
   "metadata": {},
   "outputs": [],
   "source": [
    "nytaxi = pd.read_csv(Location_Jun, usecols=[7,9]) \n",
    "df_full = nytaxi.join(nyBorough.set_index('LocationID'), on='PULocationID')\n",
    "df = df_full"
   ]
  },
  {
   "cell_type": "code",
   "execution_count": 23,
   "metadata": {},
   "outputs": [],
   "source": [
    "n1_Man = len(df.loc[(df['Borough']=='Manhattan') & (df.payment_type == 1)]) # n° of payments of type 1 in Manhattan\n",
    "n2_Man = len(df.loc[(df['Borough']=='Manhattan') & (df.payment_type == 2)]) # n° of payments of type 2 in Manhattan\n",
    "n3_Man = len(df.loc[(df['Borough']=='Manhattan') & (df.payment_type == 3)]) # n° of payments of type 3 in Manhattan\n",
    "n4_Man = len(df.loc[(df['Borough']=='Manhattan') & (df.payment_type == 4)]) # n° of payments of type 4 in Manhattan\n",
    "n5_Man = len(df.loc[(df['Borough']=='Manhattan') & (df.payment_type == 5)]) # n° of payments of type 5 in Manhattan\n",
    "n6_Man = len(df.loc[(df['Borough']=='Manhattan') & (df.payment_type == 6)]) # n° of payments of type 6 in Manhattan\n",
    "\n",
    "n1_Bro = len(df.loc[(df['Borough']=='Bronx') & (df.payment_type == 1)]) \n",
    "n2_Bro = len(df.loc[(df['Borough']=='Bronx') & (df.payment_type == 2)]) \n",
    "n3_Bro = len(df.loc[(df['Borough']=='Bronx') & (df.payment_type == 3)]) \n",
    "n4_Bro = len(df.loc[(df['Borough']=='Bronx') & (df.payment_type == 4)]) \n",
    "n5_Bro = len(df.loc[(df['Borough']=='Bronx') & (df.payment_type == 5)]) \n",
    "n6_Bro = len(df.loc[(df['Borough']=='Bronx') & (df.payment_type == 6)]) \n",
    "\n",
    "n1_Bru = len(df.loc[(df['Borough']=='Brookling') & (df.payment_type == 1)]) \n",
    "n2_Bru = len(df.loc[(df['Borough']=='Brookling') & (df.payment_type == 2)])\n",
    "n3_Bru = len(df.loc[(df['Borough']=='Brookling') & (df.payment_type == 3)])\n",
    "n4_Bru = len(df.loc[(df['Borough']=='Brookling') & (df.payment_type == 4)])\n",
    "n5_Bru = len(df.loc[(df['Borough']=='Brookling') & (df.payment_type == 5)])\n",
    "n6_Bru = len(df.loc[(df['Borough']=='Brookling') & (df.payment_type == 6)])\n",
    "\n",
    "n1_EWR = len(df.loc[(df['Borough']=='EWR') & (df.payment_type == 1)]) \n",
    "n2_EWR = len(df.loc[(df['Borough']=='EWR') & (df.payment_type == 2)])\n",
    "n3_EWR = len(df.loc[(df['Borough']=='EWR') & (df.payment_type == 3)])\n",
    "n4_EWR = len(df.loc[(df['Borough']=='EWR') & (df.payment_type == 4)])\n",
    "n5_EWR = len(df.loc[(df['Borough']=='EWR') & (df.payment_type == 5)])\n",
    "n6_EWR = len(df.loc[(df['Borough']=='EWR') & (df.payment_type == 6)])\n",
    "\n",
    "n1_Queens = len(df.loc[(df['Borough']=='Queens') & (df.payment_type == 1)]) \n",
    "n2_Queens = len(df.loc[(df['Borough']=='Queens') & (df.payment_type == 2)])\n",
    "n3_Queens = len(df.loc[(df['Borough']=='Queens') & (df.payment_type == 3)])\n",
    "n4_Queens = len(df.loc[(df['Borough']=='Queens') & (df.payment_type == 4)])\n",
    "n5_Queens = len(df.loc[(df['Borough']=='Queens') & (df.payment_type == 5)])\n",
    "n6_Queens = len(df.loc[(df['Borough']=='Queens') & (df.payment_type == 6)])\n",
    "\n",
    "n1_Staten = len(df.loc[(df['Borough']=='Staten Island') & (df.payment_type == 1)]) \n",
    "n2_Staten = len(df.loc[(df['Borough']=='Staten Island') & (df.payment_type == 2)])\n",
    "n3_Staten = len(df.loc[(df['Borough']=='Staten Island') & (df.payment_type == 3)])\n",
    "n4_Staten = len(df.loc[(df['Borough']=='Staten Island') & (df.payment_type == 4)])\n",
    "n5_Staten = len(df.loc[(df['Borough']=='Staten Island') & (df.payment_type == 5)])\n",
    "n6_Staten = len(df.loc[(df['Borough']=='Staten Island') & (df.payment_type == 6)])\n"
   ]
  },
  {
   "cell_type": "code",
   "execution_count": 24,
   "metadata": {},
   "outputs": [
    {
     "name": "stderr",
     "output_type": "stream",
     "text": [
      "/Users/daniele/anaconda3/lib/python3.7/site-packages/scipy/stats/stats.py:4567: RuntimeWarning: invalid value encountered in true_divide\n",
      "  terms = (f_obs - f_exp)**2 / f_exp\n",
      "/Users/daniele/anaconda3/lib/python3.7/site-packages/scipy/stats/_distn_infrastructure.py:879: RuntimeWarning: invalid value encountered in greater\n",
      "  return (self.a < x) & (x < self.b)\n",
      "/Users/daniele/anaconda3/lib/python3.7/site-packages/scipy/stats/_distn_infrastructure.py:879: RuntimeWarning: invalid value encountered in less\n",
      "  return (self.a < x) & (x < self.b)\n",
      "/Users/daniele/anaconda3/lib/python3.7/site-packages/scipy/stats/_distn_infrastructure.py:1821: RuntimeWarning: invalid value encountered in less_equal\n",
      "  cond2 = cond0 & (x <= self.a)\n"
     ]
    },
    {
     "data": {
      "text/plain": [
       "Power_divergenceResult(statistic=array([1.92296541e+07, 1.96616472e+04,            nan, 2.19913274e+03,\n",
       "       1.34200797e+06, 2.54258278e+02]), pvalue=array([0.00000000e+00, 0.00000000e+00,            nan, 0.00000000e+00,\n",
       "       0.00000000e+00, 6.70443166e-53]))"
      ]
     },
     "execution_count": 24,
     "metadata": {},
     "output_type": "execute_result"
    }
   ],
   "source": [
    "a1 = [n1_Man,n1_Bro,n1_Bru,n1_EWR,n1_Queens,n1_Staten]\n",
    "a2 = [n2_Man,n2_Bro,n2_Bru,n2_EWR,n2_Queens,n2_Staten]\n",
    "a3 = [n3_Man,n3_Bro,n3_Bru,n3_EWR,n3_Queens,n3_Staten]\n",
    "a4 = [n4_Man,n4_Bro,n4_Bru,n4_EWR,n4_Queens,n4_Staten]\n",
    "a5 = [n5_Man,n5_Bro,n5_Bru,n5_EWR,n5_Queens,n5_Staten]\n",
    "a6 = [n6_Man,n6_Bro,n6_Bru,n6_EWR,n6_Queens,n6_Staten]\n",
    "obs = np.array([a1, a2, a3, a4, a5, a6])\n",
    "from scipy.stats import chisquare\n",
    "chisquare(obs)"
   ]
  },
  {
   "cell_type": "markdown",
   "metadata": {},
   "source": [
    "accetto 1 e 2"
   ]
  },
  {
   "cell_type": "markdown",
   "metadata": {},
   "source": [
    "## CR1"
   ]
  },
  {
   "cell_type": "code",
   "execution_count": 8,
   "metadata": {},
   "outputs": [],
   "source": [
    "nytaxi = pd.read_csv(Location_Jan, usecols=[1,2,4,7,8,10,16]) "
   ]
  },
  {
   "cell_type": "code",
   "execution_count": 9,
   "metadata": {},
   "outputs": [],
   "source": [
    "nytaxi = pd.concat([nytaxi, pd.read_csv(Location_Feb, usecols=[1,2,4,7,8,10,16])])"
   ]
  },
  {
   "cell_type": "markdown",
   "metadata": {},
   "source": [
    ".... and so on adding the rows for the other months. But we stop here beacuse our computers are not enough powerful. When we will work for Mc (hopefully not as cashiers, but as data scientists in NY) they will give us beautiful pcs :)...."
   ]
  },
  {
   "cell_type": "code",
   "execution_count": 10,
   "metadata": {},
   "outputs": [
    {
     "data": {
      "text/html": [
       "<div>\n",
       "<style scoped>\n",
       "    .dataframe tbody tr th:only-of-type {\n",
       "        vertical-align: middle;\n",
       "    }\n",
       "\n",
       "    .dataframe tbody tr th {\n",
       "        vertical-align: top;\n",
       "    }\n",
       "\n",
       "    .dataframe thead th {\n",
       "        text-align: right;\n",
       "    }\n",
       "</style>\n",
       "<table border=\"1\" class=\"dataframe\">\n",
       "  <thead>\n",
       "    <tr style=\"text-align: right;\">\n",
       "      <th></th>\n",
       "      <th>tpep_pickup_datetime</th>\n",
       "      <th>tpep_dropoff_datetime</th>\n",
       "      <th>trip_distance</th>\n",
       "      <th>PULocationID</th>\n",
       "      <th>DOLocationID</th>\n",
       "      <th>fare_amount</th>\n",
       "      <th>total_amount</th>\n",
       "      <th>Borough</th>\n",
       "    </tr>\n",
       "  </thead>\n",
       "  <tbody>\n",
       "    <tr>\n",
       "      <th>0</th>\n",
       "      <td>2018-01-01 00:21:05</td>\n",
       "      <td>2018-01-01 00:24:23</td>\n",
       "      <td>0.5</td>\n",
       "      <td>41</td>\n",
       "      <td>24</td>\n",
       "      <td>4.5</td>\n",
       "      <td>5.80</td>\n",
       "      <td>Manhattan</td>\n",
       "    </tr>\n",
       "    <tr>\n",
       "      <th>1</th>\n",
       "      <td>2018-01-01 00:44:55</td>\n",
       "      <td>2018-01-01 01:03:05</td>\n",
       "      <td>2.7</td>\n",
       "      <td>239</td>\n",
       "      <td>140</td>\n",
       "      <td>14.0</td>\n",
       "      <td>15.30</td>\n",
       "      <td>Manhattan</td>\n",
       "    </tr>\n",
       "    <tr>\n",
       "      <th>2</th>\n",
       "      <td>2018-01-01 00:08:26</td>\n",
       "      <td>2018-01-01 00:14:21</td>\n",
       "      <td>0.8</td>\n",
       "      <td>262</td>\n",
       "      <td>141</td>\n",
       "      <td>6.0</td>\n",
       "      <td>8.30</td>\n",
       "      <td>Manhattan</td>\n",
       "    </tr>\n",
       "    <tr>\n",
       "      <th>3</th>\n",
       "      <td>2018-01-01 00:20:22</td>\n",
       "      <td>2018-01-01 00:52:51</td>\n",
       "      <td>10.2</td>\n",
       "      <td>140</td>\n",
       "      <td>257</td>\n",
       "      <td>33.5</td>\n",
       "      <td>34.80</td>\n",
       "      <td>Manhattan</td>\n",
       "    </tr>\n",
       "    <tr>\n",
       "      <th>4</th>\n",
       "      <td>2018-01-01 00:09:18</td>\n",
       "      <td>2018-01-01 00:27:06</td>\n",
       "      <td>2.5</td>\n",
       "      <td>246</td>\n",
       "      <td>239</td>\n",
       "      <td>12.5</td>\n",
       "      <td>16.55</td>\n",
       "      <td>Manhattan</td>\n",
       "    </tr>\n",
       "  </tbody>\n",
       "</table>\n",
       "</div>"
      ],
      "text/plain": [
       "  tpep_pickup_datetime tpep_dropoff_datetime  trip_distance  PULocationID  \\\n",
       "0  2018-01-01 00:21:05   2018-01-01 00:24:23            0.5            41   \n",
       "1  2018-01-01 00:44:55   2018-01-01 01:03:05            2.7           239   \n",
       "2  2018-01-01 00:08:26   2018-01-01 00:14:21            0.8           262   \n",
       "3  2018-01-01 00:20:22   2018-01-01 00:52:51           10.2           140   \n",
       "4  2018-01-01 00:09:18   2018-01-01 00:27:06            2.5           246   \n",
       "\n",
       "   DOLocationID  fare_amount  total_amount    Borough  \n",
       "0            24          4.5          5.80  Manhattan  \n",
       "1           140         14.0         15.30  Manhattan  \n",
       "2           141          6.0          8.30  Manhattan  \n",
       "3           257         33.5         34.80  Manhattan  \n",
       "4           239         12.5         16.55  Manhattan  "
      ]
     },
     "execution_count": 10,
     "metadata": {},
     "output_type": "execute_result"
    }
   ],
   "source": [
    "df_full = nytaxi.join(nyBorough.set_index('LocationID'), on='PULocationID')\n",
    "df_full.head()"
   ]
  },
  {
   "cell_type": "code",
   "execution_count": 11,
   "metadata": {},
   "outputs": [],
   "source": [
    "df_full.tpep_pickup_datetime = pd.to_datetime(df_full.tpep_pickup_datetime)\n",
    "df_full.tpep_dropoff_datetime = pd.to_datetime(df_full.tpep_dropoff_datetime)\n",
    "df_full['trip_duration'] = (df_full.tpep_dropoff_datetime - df_full.tpep_pickup_datetime).dt.total_seconds()\n",
    "# Remove all the trips with duration null or negative\n",
    "df_full = df_full[df_full.trip_duration > 0]"
   ]
  },
  {
   "cell_type": "code",
   "execution_count": 12,
   "metadata": {},
   "outputs": [
    {
     "data": {
      "text/html": [
       "<div>\n",
       "<style scoped>\n",
       "    .dataframe tbody tr th:only-of-type {\n",
       "        vertical-align: middle;\n",
       "    }\n",
       "\n",
       "    .dataframe tbody tr th {\n",
       "        vertical-align: top;\n",
       "    }\n",
       "\n",
       "    .dataframe thead th {\n",
       "        text-align: right;\n",
       "    }\n",
       "</style>\n",
       "<table border=\"1\" class=\"dataframe\">\n",
       "  <thead>\n",
       "    <tr style=\"text-align: right;\">\n",
       "      <th></th>\n",
       "      <th>trip_distance</th>\n",
       "      <th>fare_amount</th>\n",
       "      <th>total_amount</th>\n",
       "      <th>trip_duration</th>\n",
       "    </tr>\n",
       "    <tr>\n",
       "      <th>Borough</th>\n",
       "      <th></th>\n",
       "      <th></th>\n",
       "      <th></th>\n",
       "      <th></th>\n",
       "    </tr>\n",
       "  </thead>\n",
       "  <tbody>\n",
       "    <tr>\n",
       "      <th>Bronx</th>\n",
       "      <td>3.362492</td>\n",
       "      <td>14.985130</td>\n",
       "      <td>17.242096</td>\n",
       "      <td>950.172181</td>\n",
       "    </tr>\n",
       "    <tr>\n",
       "      <th>Brooklyn</th>\n",
       "      <td>3.291439</td>\n",
       "      <td>13.599295</td>\n",
       "      <td>16.600683</td>\n",
       "      <td>999.676095</td>\n",
       "    </tr>\n",
       "    <tr>\n",
       "      <th>EWR</th>\n",
       "      <td>1.674111</td>\n",
       "      <td>75.726020</td>\n",
       "      <td>90.581093</td>\n",
       "      <td>348.161501</td>\n",
       "    </tr>\n",
       "    <tr>\n",
       "      <th>Manhattan</th>\n",
       "      <td>2.261496</td>\n",
       "      <td>10.772435</td>\n",
       "      <td>13.629002</td>\n",
       "      <td>881.491703</td>\n",
       "    </tr>\n",
       "    <tr>\n",
       "      <th>Queens</th>\n",
       "      <td>10.957877</td>\n",
       "      <td>34.104005</td>\n",
       "      <td>43.377743</td>\n",
       "      <td>1981.181478</td>\n",
       "    </tr>\n",
       "    <tr>\n",
       "      <th>Staten Island</th>\n",
       "      <td>4.565000</td>\n",
       "      <td>32.243103</td>\n",
       "      <td>40.775086</td>\n",
       "      <td>650.379310</td>\n",
       "    </tr>\n",
       "    <tr>\n",
       "      <th>Unknown</th>\n",
       "      <td>2.525846</td>\n",
       "      <td>14.301954</td>\n",
       "      <td>17.739357</td>\n",
       "      <td>844.698552</td>\n",
       "    </tr>\n",
       "  </tbody>\n",
       "</table>\n",
       "</div>"
      ],
      "text/plain": [
       "               trip_distance  fare_amount  total_amount  trip_duration\n",
       "Borough                                                               \n",
       "Bronx               3.362492    14.985130     17.242096     950.172181\n",
       "Brooklyn            3.291439    13.599295     16.600683     999.676095\n",
       "EWR                 1.674111    75.726020     90.581093     348.161501\n",
       "Manhattan           2.261496    10.772435     13.629002     881.491703\n",
       "Queens             10.957877    34.104005     43.377743    1981.181478\n",
       "Staten Island       4.565000    32.243103     40.775086     650.379310\n",
       "Unknown             2.525846    14.301954     17.739357     844.698552"
      ]
     },
     "execution_count": 12,
     "metadata": {},
     "output_type": "execute_result"
    }
   ],
   "source": [
    "grouped_mean = df_full.groupby(['Borough']).mean()\n",
    "grouped_mean= grouped_mean.drop(columns=['PULocationID','DOLocationID']) \n",
    "grouped_mean"
   ]
  },
  {
   "cell_type": "code",
   "execution_count": 13,
   "metadata": {},
   "outputs": [
    {
     "data": {
      "text/plain": [
       "<matplotlib.axes._subplots.AxesSubplot at 0x1a1d696a20>"
      ]
     },
     "execution_count": 13,
     "metadata": {},
     "output_type": "execute_result"
    },
    {
     "data": {
      "image/png": "[encoded data removed]",
      "text/plain": [
       "<Figure size 432x288 with 1 Axes>"
      ]
     },
     "metadata": {
      "needs_background": "light"
     },
     "output_type": "display_data"
    }
   ],
   "source": [
    "df_full['trip_distance'].plot.box()"
   ]
  },
  {
   "cell_type": "code",
   "execution_count": 15,
   "metadata": {},
   "outputs": [
    {
     "data": {
      "text/plain": [
       "<matplotlib.axes._subplots.AxesSubplot at 0x1a2e32b550>"
      ]
     },
     "execution_count": 15,
     "metadata": {},
     "output_type": "execute_result"
    },
    {
     "data": {
      "image/png": "[encoded data removed]",
      "text/plain": [
       "<Figure size 432x288 with 1 Axes>"
      ]
     },
     "metadata": {
      "needs_background": "light"
     },
     "output_type": "display_data"
    }
   ],
   "source": [
    "df_full = df_full[df_full.trip_distance < 400]\n",
    "df_full['trip_distance'].plot.hist(bins=100, title=\"Distribution of 'trip_distance'\")"
   ]
  },
  {
   "cell_type": "code",
   "execution_count": 15,
   "metadata": {},
   "outputs": [],
   "source": [
    "df_full = df_full.drop(df_full[df_full.total_amount < 2.5].index)"
   ]
  },
  {
   "cell_type": "code",
   "execution_count": 18,
   "metadata": {},
   "outputs": [
    {
     "data": {
      "text/plain": [
       "<matplotlib.axes._subplots.AxesSubplot at 0x1a2d201dd8>"
      ]
     },
     "execution_count": 18,
     "metadata": {},
     "output_type": "execute_result"
    },
    {
     "data": {
      "image/png": "[encoded data removed]",
      "text/plain": [
       "<Figure size 432x288 with 1 Axes>"
      ]
     },
     "metadata": {
      "needs_background": "light"
     },
     "output_type": "display_data"
    }
   ],
   "source": [
    "df_full['fare_amount'].plot.box()"
   ]
  },
  {
   "cell_type": "markdown",
   "metadata": {},
   "source": [
    "We can cut out the outlier over 1500."
   ]
  },
  {
   "cell_type": "code",
   "execution_count": 16,
   "metadata": {},
   "outputs": [
    {
     "data": {
      "text/plain": [
       "<matplotlib.axes._subplots.AxesSubplot at 0x1a24b24f60>"
      ]
     },
     "execution_count": 16,
     "metadata": {},
     "output_type": "execute_result"
    },
    {
     "data": {
      "image/png": "[encoded data removed]",
      "text/plain": [
       "<Figure size 432x288 with 1 Axes>"
      ]
     },
     "metadata": {
      "needs_background": "light"
     },
     "output_type": "display_data"
    }
   ],
   "source": [
    "df_full = df_full.drop(df_full[df_full.fare_amount <= 0].index) # remove rows with fare_amount <= 0\n",
    "df_full = df_full.drop(df_full[df_full.fare_amount > 1500].index) # remove rows with fare_amount > 1500\n",
    "df_full['fare_amount'].plot.box()"
   ]
  },
  {
   "cell_type": "code",
   "execution_count": 17,
   "metadata": {},
   "outputs": [
    {
     "data": {
      "text/plain": [
       "<matplotlib.axes._subplots.AxesSubplot at 0x1a23e99cf8>"
      ]
     },
     "execution_count": 17,
     "metadata": {},
     "output_type": "execute_result"
    },
    {
     "data": {
      "image/png": "[encoded data removed]",
      "text/plain": [
       "<Figure size 432x288 with 1 Axes>"
      ]
     },
     "metadata": {
      "needs_background": "light"
     },
     "output_type": "display_data"
    }
   ],
   "source": [
    "df_full = df_full.drop(df_full[df_full.fare_amount > 1500].index) # remove rows with fare_amount > 1500\n",
    "df_full['fare_amount'].plot.hist(bins=100, title=\"Distribution of 'fare_amount'\")"
   ]
  },
  {
   "cell_type": "code",
   "execution_count": 18,
   "metadata": {},
   "outputs": [
    {
     "data": {
      "text/plain": [
       "<matplotlib.axes._subplots.AxesSubplot at 0x1a2354ad30>"
      ]
     },
     "execution_count": 18,
     "metadata": {},
     "output_type": "execute_result"
    },
    {
     "data": {
      "image/png": "[encoded data removed]",
      "text/plain": [
       "<Figure size 432x288 with 1 Axes>"
      ]
     },
     "metadata": {
      "needs_background": "light"
     },
     "output_type": "display_data"
    }
   ],
   "source": [
    "df_full.trip_duration.plot.box()"
   ]
  },
  {
   "cell_type": "markdown",
   "metadata": {},
   "source": [
    "There is one outlier, so we can cut him out from our analysis."
   ]
  },
  {
   "cell_type": "code",
   "execution_count": 19,
   "metadata": {},
   "outputs": [
    {
     "data": {
      "text/plain": [
       "<matplotlib.axes._subplots.AxesSubplot at 0x1a20c4ed68>"
      ]
     },
     "execution_count": 19,
     "metadata": {},
     "output_type": "execute_result"
    },
    {
     "data": {
      "image/png": "[encoded data removed]",
      "text/plain": [
       "<Figure size 432x288 with 1 Axes>"
      ]
     },
     "metadata": {
      "needs_background": "light"
     },
     "output_type": "display_data"
    }
   ],
   "source": [
    "df_full = df_full.drop(df_full[df_full.trip_duration > 15000].index)\n",
    "df_full.trip_duration.plot.hist(bins=100, title=\"Distribution of 'trip_duration'\")"
   ]
  },
  {
   "cell_type": "markdown",
   "metadata": {},
   "source": [
    "Let's compute the 'price_per_mile', ratio between the trip 'fare_amount' and 'trip_distance'."
   ]
  },
  {
   "cell_type": "code",
   "execution_count": 22,
   "metadata": {},
   "outputs": [],
   "source": [
    "df_full['price_per_mile'] = df_full.fare_amount / df_full.trip_distance"
   ]
  },
  {
   "cell_type": "code",
   "execution_count": 23,
   "metadata": {},
   "outputs": [
    {
     "data": {
      "text/plain": [
       "<matplotlib.axes._subplots.AxesSubplot at 0x1a1d5f59e8>"
      ]
     },
     "execution_count": 23,
     "metadata": {},
     "output_type": "execute_result"
    },
    {
     "data": {
      "image/png": "[encoded data removed]",
      "text/plain": [
       "<Figure size 432x288 with 1 Axes>"
      ]
     },
     "metadata": {
      "needs_background": "light"
     },
     "output_type": "display_data"
    }
   ],
   "source": [
    "df_full.price_per_mile.plot.box()"
   ]
  },
  {
   "cell_type": "markdown",
   "metadata": {},
   "source": [
    "Let's remove the two outliers"
   ]
  },
  {
   "cell_type": "code",
   "execution_count": 26,
   "metadata": {},
   "outputs": [
    {
     "data": {
      "text/plain": [
       "<matplotlib.axes._subplots.AxesSubplot at 0x1a1d37cd30>"
      ]
     },
     "execution_count": 26,
     "metadata": {},
     "output_type": "execute_result"
    },
    {
     "data": {
      "image/png": "[encoded data removed]",
      "text/plain": [
       "<Figure size 432x288 with 1 Axes>"
      ]
     },
     "metadata": {
      "needs_background": "light"
     },
     "output_type": "display_data"
    }
   ],
   "source": [
    "df_full = df_full.drop(df_full[df_full.price_per_mile > 15].index) # remove rows with 'price_per_mile' > 25\n",
    "df_full = df_full.drop(df_full[df_full.price_per_mile < 1].index) # remove rows with 'price_per_mile' < 1\n",
    "\n",
    "df_full.price_per_mile.plot.hist(bins=100, title=\"Distribution of 'price_per_mile'\")"
   ]
  },
  {
   "cell_type": "markdown",
   "metadata": {},
   "source": [
    "Let's calulate means and sds on these data"
   ]
  },
  {
   "cell_type": "code",
   "execution_count": 28,
   "metadata": {},
   "outputs": [
    {
     "data": {
      "text/html": [
       "<div>\n",
       "<style scoped>\n",
       "    .dataframe tbody tr th:only-of-type {\n",
       "        vertical-align: middle;\n",
       "    }\n",
       "\n",
       "    .dataframe tbody tr th {\n",
       "        vertical-align: top;\n",
       "    }\n",
       "\n",
       "    .dataframe thead th {\n",
       "        text-align: right;\n",
       "    }\n",
       "</style>\n",
       "<table border=\"1\" class=\"dataframe\">\n",
       "  <thead>\n",
       "    <tr style=\"text-align: right;\">\n",
       "      <th></th>\n",
       "      <th>trip_distance</th>\n",
       "      <th>fare_amount</th>\n",
       "      <th>total_amount</th>\n",
       "      <th>trip_duration</th>\n",
       "      <th>price_per_mile</th>\n",
       "    </tr>\n",
       "    <tr>\n",
       "      <th>Borough</th>\n",
       "      <th></th>\n",
       "      <th></th>\n",
       "      <th></th>\n",
       "      <th></th>\n",
       "      <th></th>\n",
       "    </tr>\n",
       "  </thead>\n",
       "  <tbody>\n",
       "    <tr>\n",
       "      <th>Bronx</th>\n",
       "      <td>3.726936</td>\n",
       "      <td>14.883517</td>\n",
       "      <td>17.160734</td>\n",
       "      <td>883.502194</td>\n",
       "      <td>5.070810</td>\n",
       "    </tr>\n",
       "    <tr>\n",
       "      <th>Brooklyn</th>\n",
       "      <td>3.369722</td>\n",
       "      <td>13.486955</td>\n",
       "      <td>16.492878</td>\n",
       "      <td>847.057315</td>\n",
       "      <td>5.040773</td>\n",
       "    </tr>\n",
       "    <tr>\n",
       "      <th>EWR</th>\n",
       "      <td>13.046721</td>\n",
       "      <td>58.809836</td>\n",
       "      <td>74.693607</td>\n",
       "      <td>1067.655738</td>\n",
       "      <td>5.266295</td>\n",
       "    </tr>\n",
       "    <tr>\n",
       "      <th>Manhattan</th>\n",
       "      <td>2.284945</td>\n",
       "      <td>10.775546</td>\n",
       "      <td>13.634612</td>\n",
       "      <td>732.097778</td>\n",
       "      <td>5.998951</td>\n",
       "    </tr>\n",
       "    <tr>\n",
       "      <th>Queens</th>\n",
       "      <td>11.296484</td>\n",
       "      <td>34.532868</td>\n",
       "      <td>43.965677</td>\n",
       "      <td>1806.410358</td>\n",
       "      <td>3.426534</td>\n",
       "    </tr>\n",
       "    <tr>\n",
       "      <th>Staten Island</th>\n",
       "      <td>6.020130</td>\n",
       "      <td>20.124416</td>\n",
       "      <td>27.927273</td>\n",
       "      <td>915.454545</td>\n",
       "      <td>5.398896</td>\n",
       "    </tr>\n",
       "    <tr>\n",
       "      <th>Unknown</th>\n",
       "      <td>2.727422</td>\n",
       "      <td>12.096127</td>\n",
       "      <td>15.262529</td>\n",
       "      <td>782.790094</td>\n",
       "      <td>5.948243</td>\n",
       "    </tr>\n",
       "  </tbody>\n",
       "</table>\n",
       "</div>"
      ],
      "text/plain": [
       "               trip_distance  fare_amount  total_amount  trip_duration  \\\n",
       "Borough                                                                  \n",
       "Bronx               3.726936    14.883517     17.160734     883.502194   \n",
       "Brooklyn            3.369722    13.486955     16.492878     847.057315   \n",
       "EWR                13.046721    58.809836     74.693607    1067.655738   \n",
       "Manhattan           2.284945    10.775546     13.634612     732.097778   \n",
       "Queens             11.296484    34.532868     43.965677    1806.410358   \n",
       "Staten Island       6.020130    20.124416     27.927273     915.454545   \n",
       "Unknown             2.727422    12.096127     15.262529     782.790094   \n",
       "\n",
       "               price_per_mile  \n",
       "Borough                        \n",
       "Bronx                5.070810  \n",
       "Brooklyn             5.040773  \n",
       "EWR                  5.266295  \n",
       "Manhattan            5.998951  \n",
       "Queens               3.426534  \n",
       "Staten Island        5.398896  \n",
       "Unknown              5.948243  "
      ]
     },
     "execution_count": 28,
     "metadata": {},
     "output_type": "execute_result"
    }
   ],
   "source": [
    "grouped_mean = df_full.groupby(['Borough']).mean()\n",
    "grouped_mean = grouped_mean.drop(columns=['PULocationID','DOLocationID'])\n",
    "grouped_mean"
   ]
  },
  {
   "cell_type": "code",
   "execution_count": 29,
   "metadata": {},
   "outputs": [
    {
     "data": {
      "text/html": [
       "<div>\n",
       "<style scoped>\n",
       "    .dataframe tbody tr th:only-of-type {\n",
       "        vertical-align: middle;\n",
       "    }\n",
       "\n",
       "    .dataframe tbody tr th {\n",
       "        vertical-align: top;\n",
       "    }\n",
       "\n",
       "    .dataframe thead th {\n",
       "        text-align: right;\n",
       "    }\n",
       "</style>\n",
       "<table border=\"1\" class=\"dataframe\">\n",
       "  <thead>\n",
       "    <tr style=\"text-align: right;\">\n",
       "      <th></th>\n",
       "      <th>trip_distance</th>\n",
       "      <th>fare_amount</th>\n",
       "      <th>total_amount</th>\n",
       "      <th>trip_duration</th>\n",
       "      <th>price_per_mile</th>\n",
       "    </tr>\n",
       "    <tr>\n",
       "      <th>Borough</th>\n",
       "      <th></th>\n",
       "      <th></th>\n",
       "      <th></th>\n",
       "      <th></th>\n",
       "      <th></th>\n",
       "    </tr>\n",
       "  </thead>\n",
       "  <tbody>\n",
       "    <tr>\n",
       "      <th>Bronx</th>\n",
       "      <td>4.015958</td>\n",
       "      <td>15.277666</td>\n",
       "      <td>17.523970</td>\n",
       "      <td>785.115332</td>\n",
       "      <td>1.924070</td>\n",
       "    </tr>\n",
       "    <tr>\n",
       "      <th>Brooklyn</th>\n",
       "      <td>3.187334</td>\n",
       "      <td>9.814358</td>\n",
       "      <td>11.384963</td>\n",
       "      <td>609.879558</td>\n",
       "      <td>1.829422</td>\n",
       "    </tr>\n",
       "    <tr>\n",
       "      <th>EWR</th>\n",
       "      <td>10.095290</td>\n",
       "      <td>42.743154</td>\n",
       "      <td>47.561087</td>\n",
       "      <td>1369.394536</td>\n",
       "      <td>3.345481</td>\n",
       "    </tr>\n",
       "    <tr>\n",
       "      <th>Manhattan</th>\n",
       "      <td>2.561362</td>\n",
       "      <td>7.814083</td>\n",
       "      <td>9.740407</td>\n",
       "      <td>524.200035</td>\n",
       "      <td>2.057220</td>\n",
       "    </tr>\n",
       "    <tr>\n",
       "      <th>Queens</th>\n",
       "      <td>6.207027</td>\n",
       "      <td>17.708341</td>\n",
       "      <td>22.169060</td>\n",
       "      <td>960.907013</td>\n",
       "      <td>1.185148</td>\n",
       "    </tr>\n",
       "    <tr>\n",
       "      <th>Staten Island</th>\n",
       "      <td>8.202332</td>\n",
       "      <td>22.365476</td>\n",
       "      <td>24.291444</td>\n",
       "      <td>940.798437</td>\n",
       "      <td>2.464022</td>\n",
       "    </tr>\n",
       "    <tr>\n",
       "      <th>Unknown</th>\n",
       "      <td>3.548111</td>\n",
       "      <td>11.112760</td>\n",
       "      <td>13.809022</td>\n",
       "      <td>601.677620</td>\n",
       "      <td>2.151121</td>\n",
       "    </tr>\n",
       "  </tbody>\n",
       "</table>\n",
       "</div>"
      ],
      "text/plain": [
       "               trip_distance  fare_amount  total_amount  trip_duration  \\\n",
       "Borough                                                                  \n",
       "Bronx               4.015958    15.277666     17.523970     785.115332   \n",
       "Brooklyn            3.187334     9.814358     11.384963     609.879558   \n",
       "EWR                10.095290    42.743154     47.561087    1369.394536   \n",
       "Manhattan           2.561362     7.814083      9.740407     524.200035   \n",
       "Queens              6.207027    17.708341     22.169060     960.907013   \n",
       "Staten Island       8.202332    22.365476     24.291444     940.798437   \n",
       "Unknown             3.548111    11.112760     13.809022     601.677620   \n",
       "\n",
       "               price_per_mile  \n",
       "Borough                        \n",
       "Bronx                1.924070  \n",
       "Brooklyn             1.829422  \n",
       "EWR                  3.345481  \n",
       "Manhattan            2.057220  \n",
       "Queens               1.185148  \n",
       "Staten Island        2.464022  \n",
       "Unknown              2.151121  "
      ]
     },
     "execution_count": 29,
     "metadata": {},
     "output_type": "execute_result"
    }
   ],
   "source": [
    "grouped_std = df_full.groupby(['Borough']).std()\n",
    "grouped_std = grouped_std.drop(columns=['PULocationID','DOLocationID'])\n",
    "grouped_std"
   ]
  },
  {
   "cell_type": "code",
   "execution_count": 31,
   "metadata": {},
   "outputs": [
    {
     "data": {
      "image/png": "[encoded data removed]",
      "text/plain": [
       "<Figure size 432x288 with 1 Axes>"
      ]
     },
     "metadata": {
      "needs_background": "light"
     },
     "output_type": "display_data"
    }
   ],
   "source": [
    "sns.kdeplot(df_full.price_per_mile[df_full.Borough == \"Queens\"],label='Queens', bw=0.5)\n",
    "sns.kdeplot(df_full.price_per_mile[df_full.Borough == \"Manhattan\"],label='Manhattan', bw=0.5)\n",
    "sns.kdeplot(df_full.price_per_mile[df_full.Borough == \"Brooklyn\"],label='Brooklyn', bw=0.5)\n",
    "sns.kdeplot(df_full.price_per_mile[df_full.Borough == \"Bronx\"],label='Bronx', bw=0.5)\n",
    "sns.kdeplot(df_full.price_per_mile[df_full.Borough == \"Staten Island\"],label='Staten Island', bw=0.5)\n",
    "\n",
    "plt.xlabel('$/mile')\n",
    "plt.ylabel('KDE')\n",
    "plt.title('\\'price_per_mile\\' distribution over Boroughs')\n",
    "plt.show()"
   ]
  },
  {
   "cell_type": "markdown",
   "metadata": {},
   "source": [
    "Now let's do a t-test on the 'price_per_mile' series\n",
    "\n",
    "H0: means are the same\n",
    "H1: means are different\n",
    "Our p-value treshold is p-value = 0.05"
   ]
  },
  {
   "cell_type": "code",
   "execution_count": 34,
   "metadata": {},
   "outputs": [
    {
     "data": {
      "text/html": [
       "<div>\n",
       "<style scoped>\n",
       "    .dataframe tbody tr th:only-of-type {\n",
       "        vertical-align: middle;\n",
       "    }\n",
       "\n",
       "    .dataframe tbody tr th {\n",
       "        vertical-align: top;\n",
       "    }\n",
       "\n",
       "    .dataframe thead th {\n",
       "        text-align: right;\n",
       "    }\n",
       "</style>\n",
       "<table border=\"1\" class=\"dataframe\">\n",
       "  <thead>\n",
       "    <tr style=\"text-align: right;\">\n",
       "      <th></th>\n",
       "      <th>Manhattan</th>\n",
       "      <th>Queens</th>\n",
       "      <th>Bronx</th>\n",
       "      <th>Brooklyn</th>\n",
       "      <th>Unknown</th>\n",
       "      <th>EWR</th>\n",
       "      <th>Staten Island</th>\n",
       "    </tr>\n",
       "  </thead>\n",
       "  <tbody>\n",
       "    <tr>\n",
       "      <th>Manhattan</th>\n",
       "      <td>1.000000e+00</td>\n",
       "      <td>NaN</td>\n",
       "      <td>NaN</td>\n",
       "      <td>NaN</td>\n",
       "      <td>NaN</td>\n",
       "      <td>NaN</td>\n",
       "      <td>NaN</td>\n",
       "    </tr>\n",
       "    <tr>\n",
       "      <th>Queens</th>\n",
       "      <td>0.000000e+00</td>\n",
       "      <td>1.000000e+00</td>\n",
       "      <td>NaN</td>\n",
       "      <td>NaN</td>\n",
       "      <td>NaN</td>\n",
       "      <td>NaN</td>\n",
       "      <td>NaN</td>\n",
       "    </tr>\n",
       "    <tr>\n",
       "      <th>Bronx</th>\n",
       "      <td>2.127940e-304</td>\n",
       "      <td>0.000000e+00</td>\n",
       "      <td>1.000000e+00</td>\n",
       "      <td>NaN</td>\n",
       "      <td>NaN</td>\n",
       "      <td>NaN</td>\n",
       "      <td>NaN</td>\n",
       "    </tr>\n",
       "    <tr>\n",
       "      <th>Brooklyn</th>\n",
       "      <td>0.000000e+00</td>\n",
       "      <td>0.000000e+00</td>\n",
       "      <td>1.897950e-01</td>\n",
       "      <td>1.00000</td>\n",
       "      <td>NaN</td>\n",
       "      <td>NaN</td>\n",
       "      <td>NaN</td>\n",
       "    </tr>\n",
       "    <tr>\n",
       "      <th>Unknown</th>\n",
       "      <td>1.400514e-20</td>\n",
       "      <td>0.000000e+00</td>\n",
       "      <td>1.487448e-239</td>\n",
       "      <td>0.00000</td>\n",
       "      <td>1.000000</td>\n",
       "      <td>NaN</td>\n",
       "      <td>NaN</td>\n",
       "    </tr>\n",
       "    <tr>\n",
       "      <th>EWR</th>\n",
       "      <td>5.410718e-03</td>\n",
       "      <td>8.485747e-34</td>\n",
       "      <td>4.335722e-01</td>\n",
       "      <td>0.33611</td>\n",
       "      <td>0.013334</td>\n",
       "      <td>1.000000</td>\n",
       "      <td>NaN</td>\n",
       "    </tr>\n",
       "    <tr>\n",
       "      <th>Staten Island</th>\n",
       "      <td>1.048276e-02</td>\n",
       "      <td>2.908084e-48</td>\n",
       "      <td>1.381953e-01</td>\n",
       "      <td>0.08605</td>\n",
       "      <td>0.025083</td>\n",
       "      <td>0.789083</td>\n",
       "      <td>1.0</td>\n",
       "    </tr>\n",
       "  </tbody>\n",
       "</table>\n",
       "</div>"
      ],
      "text/plain": [
       "                   Manhattan        Queens          Bronx  Brooklyn   Unknown  \\\n",
       "Manhattan       1.000000e+00           NaN            NaN       NaN       NaN   \n",
       "Queens          0.000000e+00  1.000000e+00            NaN       NaN       NaN   \n",
       "Bronx          2.127940e-304  0.000000e+00   1.000000e+00       NaN       NaN   \n",
       "Brooklyn        0.000000e+00  0.000000e+00   1.897950e-01   1.00000       NaN   \n",
       "Unknown         1.400514e-20  0.000000e+00  1.487448e-239   0.00000  1.000000   \n",
       "EWR             5.410718e-03  8.485747e-34   4.335722e-01   0.33611  0.013334   \n",
       "Staten Island   1.048276e-02  2.908084e-48   1.381953e-01   0.08605  0.025083   \n",
       "\n",
       "                    EWR  Staten Island  \n",
       "Manhattan           NaN            NaN  \n",
       "Queens              NaN            NaN  \n",
       "Bronx               NaN            NaN  \n",
       "Brooklyn            NaN            NaN  \n",
       "Unknown             NaN            NaN  \n",
       "EWR            1.000000            NaN  \n",
       "Staten Island  0.789083            1.0  "
      ]
     },
     "execution_count": 34,
     "metadata": {},
     "output_type": "execute_result"
    }
   ],
   "source": [
    "ttest_matrix = pd.DataFrame(index=df_full.Borough.unique(), columns=df_full.Borough.unique())\n",
    "\n",
    "for col1 in df_full.Borough.unique():\n",
    "    for col2 in df_full.Borough.unique():\n",
    "        ttest_matrix.loc[col1,col2] = stats.ttest_ind(df_full[df_full.Borough == col1]['price_per_mile'], df_full[df_full.Borough == col2]['price_per_mile']).pvalue\n",
    "        if col1==col2:\n",
    "            break\n",
    "            \n",
    "ttest_matrix = ttest_matrix.apply(pd.to_numeric)\n",
    "ttest_matrix"
   ]
  },
  {
   "cell_type": "markdown",
   "metadata": {},
   "source": [
    "!!!!!!!!!!!!!! Comment the results"
   ]
  },
  {
   "cell_type": "markdown",
   "metadata": {},
   "source": [
    "Now we create a new column with the adjusted price per mile."
   ]
  },
  {
   "cell_type": "code",
   "execution_count": 35,
   "metadata": {},
   "outputs": [
    {
     "data": {
      "text/html": [
       "<div>\n",
       "<style scoped>\n",
       "    .dataframe tbody tr th:only-of-type {\n",
       "        vertical-align: middle;\n",
       "    }\n",
       "\n",
       "    .dataframe tbody tr th {\n",
       "        vertical-align: top;\n",
       "    }\n",
       "\n",
       "    .dataframe thead th {\n",
       "        text-align: right;\n",
       "    }\n",
       "</style>\n",
       "<table border=\"1\" class=\"dataframe\">\n",
       "  <thead>\n",
       "    <tr style=\"text-align: right;\">\n",
       "      <th></th>\n",
       "      <th>tpep_pickup_datetime</th>\n",
       "      <th>tpep_dropoff_datetime</th>\n",
       "      <th>trip_distance</th>\n",
       "      <th>PULocationID</th>\n",
       "      <th>DOLocationID</th>\n",
       "      <th>...</th>\n",
       "      <th>total_amount</th>\n",
       "      <th>Borough</th>\n",
       "      <th>trip_duration</th>\n",
       "      <th>price_per_mile</th>\n",
       "      <th>ppm_adj</th>\n",
       "    </tr>\n",
       "  </thead>\n",
       "  <tbody>\n",
       "    <tr>\n",
       "      <th>2</th>\n",
       "      <td>2018-01-01 00:08:26</td>\n",
       "      <td>2018-01-01 00:14:21</td>\n",
       "      <td>0.8</td>\n",
       "      <td>262</td>\n",
       "      <td>141</td>\n",
       "      <td>...</td>\n",
       "      <td>8.30</td>\n",
       "      <td>Manhattan</td>\n",
       "      <td>355.0</td>\n",
       "      <td>7.500000</td>\n",
       "      <td>0.016901</td>\n",
       "    </tr>\n",
       "    <tr>\n",
       "      <th>3</th>\n",
       "      <td>2018-01-01 00:20:22</td>\n",
       "      <td>2018-01-01 00:52:51</td>\n",
       "      <td>10.2</td>\n",
       "      <td>140</td>\n",
       "      <td>257</td>\n",
       "      <td>...</td>\n",
       "      <td>34.80</td>\n",
       "      <td>Manhattan</td>\n",
       "      <td>1949.0</td>\n",
       "      <td>3.284314</td>\n",
       "      <td>0.017188</td>\n",
       "    </tr>\n",
       "    <tr>\n",
       "      <th>4</th>\n",
       "      <td>2018-01-01 00:09:18</td>\n",
       "      <td>2018-01-01 00:27:06</td>\n",
       "      <td>2.5</td>\n",
       "      <td>246</td>\n",
       "      <td>239</td>\n",
       "      <td>...</td>\n",
       "      <td>16.55</td>\n",
       "      <td>Manhattan</td>\n",
       "      <td>1068.0</td>\n",
       "      <td>5.000000</td>\n",
       "      <td>0.011704</td>\n",
       "    </tr>\n",
       "    <tr>\n",
       "      <th>5</th>\n",
       "      <td>2018-01-01 00:29:29</td>\n",
       "      <td>2018-01-01 00:32:48</td>\n",
       "      <td>0.5</td>\n",
       "      <td>143</td>\n",
       "      <td>143</td>\n",
       "      <td>...</td>\n",
       "      <td>5.80</td>\n",
       "      <td>Manhattan</td>\n",
       "      <td>199.0</td>\n",
       "      <td>9.000000</td>\n",
       "      <td>0.022613</td>\n",
       "    </tr>\n",
       "    <tr>\n",
       "      <th>6</th>\n",
       "      <td>2018-01-01 00:38:08</td>\n",
       "      <td>2018-01-01 00:48:24</td>\n",
       "      <td>1.7</td>\n",
       "      <td>50</td>\n",
       "      <td>239</td>\n",
       "      <td>...</td>\n",
       "      <td>12.35</td>\n",
       "      <td>Manhattan</td>\n",
       "      <td>616.0</td>\n",
       "      <td>5.294118</td>\n",
       "      <td>0.014610</td>\n",
       "    </tr>\n",
       "  </tbody>\n",
       "</table>\n",
       "<p>5 rows × 11 columns</p>\n",
       "</div>"
      ],
      "text/plain": [
       "  tpep_pickup_datetime tpep_dropoff_datetime  trip_distance  PULocationID  \\\n",
       "2  2018-01-01 00:08:26   2018-01-01 00:14:21            0.8           262   \n",
       "3  2018-01-01 00:20:22   2018-01-01 00:52:51           10.2           140   \n",
       "4  2018-01-01 00:09:18   2018-01-01 00:27:06            2.5           246   \n",
       "5  2018-01-01 00:29:29   2018-01-01 00:32:48            0.5           143   \n",
       "6  2018-01-01 00:38:08   2018-01-01 00:48:24            1.7            50   \n",
       "\n",
       "   DOLocationID    ...     total_amount    Borough trip_duration  \\\n",
       "2           141    ...             8.30  Manhattan         355.0   \n",
       "3           257    ...            34.80  Manhattan        1949.0   \n",
       "4           239    ...            16.55  Manhattan        1068.0   \n",
       "5           143    ...             5.80  Manhattan         199.0   \n",
       "6           239    ...            12.35  Manhattan         616.0   \n",
       "\n",
       "   price_per_mile   ppm_adj  \n",
       "2        7.500000  0.016901  \n",
       "3        3.284314  0.017188  \n",
       "4        5.000000  0.011704  \n",
       "5        9.000000  0.022613  \n",
       "6        5.294118  0.014610  \n",
       "\n",
       "[5 rows x 11 columns]"
      ]
     },
     "execution_count": 35,
     "metadata": {},
     "output_type": "execute_result"
    }
   ],
   "source": [
    "df_full['ppm_adj'] = df_full.fare_amount/df_full.trip_duration\n",
    "df_full.head()"
   ]
  },
  {
   "cell_type": "markdown",
   "metadata": {},
   "source": [
    "Let's plot"
   ]
  },
  {
   "cell_type": "code",
   "execution_count": 36,
   "metadata": {},
   "outputs": [
    {
     "data": {
      "image/png": "[encoded data removed]",
      "text/plain": [
       "<Figure size 432x288 with 1 Axes>"
      ]
     },
     "metadata": {
      "needs_background": "light"
     },
     "output_type": "display_data"
    }
   ],
   "source": [
    "sns.kdeplot(df_full.ppm_adj[df_full.Borough == \"Queens\"],label='Queens', bw=0.5)\n",
    "sns.kdeplot(df_full.ppm_adj[df_full.Borough == \"Manhattan\"],label='Manhattan', bw=0.5)\n",
    "sns.kdeplot(df_full.ppm_adj[df_full.Borough == \"Brooklyn\"],label='Brooklyn', bw=0.5)\n",
    "sns.kdeplot(df_full.ppm_adj[df_full.Borough == \"Bronx\"],label='Bronx', bw=0.5)\n",
    "sns.kdeplot(df_full.ppm_adj[df_full.Borough == \"Staten Island\"],label='Staten Island', bw=0.5)\n",
    "\n",
    "plt.xlabel('$/miles s')\n",
    "plt.ylabel('KDE')\n",
    "plt.title('Price per mile adjusted distribution over Boroughs')\n",
    "plt.show()"
   ]
  },
  {
   "cell_type": "code",
   "execution_count": 38,
   "metadata": {},
   "outputs": [
    {
     "data": {
      "text/html": [
       "<div>\n",
       "<style scoped>\n",
       "    .dataframe tbody tr th:only-of-type {\n",
       "        vertical-align: middle;\n",
       "    }\n",
       "\n",
       "    .dataframe tbody tr th {\n",
       "        vertical-align: top;\n",
       "    }\n",
       "\n",
       "    .dataframe thead th {\n",
       "        text-align: right;\n",
       "    }\n",
       "</style>\n",
       "<table border=\"1\" class=\"dataframe\">\n",
       "  <thead>\n",
       "    <tr style=\"text-align: right;\">\n",
       "      <th></th>\n",
       "      <th>trip_distance</th>\n",
       "      <th>fare_amount</th>\n",
       "      <th>total_amount</th>\n",
       "      <th>trip_duration</th>\n",
       "      <th>price_per_mile</th>\n",
       "      <th>ppm_adj</th>\n",
       "    </tr>\n",
       "    <tr>\n",
       "      <th>Borough</th>\n",
       "      <th></th>\n",
       "      <th></th>\n",
       "      <th></th>\n",
       "      <th></th>\n",
       "      <th></th>\n",
       "      <th></th>\n",
       "    </tr>\n",
       "  </thead>\n",
       "  <tbody>\n",
       "    <tr>\n",
       "      <th>Bronx</th>\n",
       "      <td>3.726936</td>\n",
       "      <td>14.883517</td>\n",
       "      <td>17.160734</td>\n",
       "      <td>883.502194</td>\n",
       "      <td>5.070810</td>\n",
       "      <td>0.022374</td>\n",
       "    </tr>\n",
       "    <tr>\n",
       "      <th>Brooklyn</th>\n",
       "      <td>3.369722</td>\n",
       "      <td>13.486955</td>\n",
       "      <td>16.492878</td>\n",
       "      <td>847.057315</td>\n",
       "      <td>5.040773</td>\n",
       "      <td>0.020363</td>\n",
       "    </tr>\n",
       "    <tr>\n",
       "      <th>EWR</th>\n",
       "      <td>13.046721</td>\n",
       "      <td>58.809836</td>\n",
       "      <td>74.693607</td>\n",
       "      <td>1067.655738</td>\n",
       "      <td>5.266295</td>\n",
       "      <td>1.066167</td>\n",
       "    </tr>\n",
       "    <tr>\n",
       "      <th>Manhattan</th>\n",
       "      <td>2.284945</td>\n",
       "      <td>10.775546</td>\n",
       "      <td>13.634612</td>\n",
       "      <td>732.097778</td>\n",
       "      <td>5.998951</td>\n",
       "      <td>0.016625</td>\n",
       "    </tr>\n",
       "    <tr>\n",
       "      <th>Queens</th>\n",
       "      <td>11.296484</td>\n",
       "      <td>34.532868</td>\n",
       "      <td>43.965677</td>\n",
       "      <td>1806.410358</td>\n",
       "      <td>3.426534</td>\n",
       "      <td>0.022823</td>\n",
       "    </tr>\n",
       "    <tr>\n",
       "      <th>Staten Island</th>\n",
       "      <td>6.020130</td>\n",
       "      <td>20.124416</td>\n",
       "      <td>27.927273</td>\n",
       "      <td>915.454545</td>\n",
       "      <td>5.398896</td>\n",
       "      <td>0.088982</td>\n",
       "    </tr>\n",
       "    <tr>\n",
       "      <th>Unknown</th>\n",
       "      <td>2.727422</td>\n",
       "      <td>12.096127</td>\n",
       "      <td>15.262529</td>\n",
       "      <td>782.790094</td>\n",
       "      <td>5.948243</td>\n",
       "      <td>0.025388</td>\n",
       "    </tr>\n",
       "  </tbody>\n",
       "</table>\n",
       "</div>"
      ],
      "text/plain": [
       "               trip_distance  fare_amount  total_amount  trip_duration  \\\n",
       "Borough                                                                  \n",
       "Bronx               3.726936    14.883517     17.160734     883.502194   \n",
       "Brooklyn            3.369722    13.486955     16.492878     847.057315   \n",
       "EWR                13.046721    58.809836     74.693607    1067.655738   \n",
       "Manhattan           2.284945    10.775546     13.634612     732.097778   \n",
       "Queens             11.296484    34.532868     43.965677    1806.410358   \n",
       "Staten Island       6.020130    20.124416     27.927273     915.454545   \n",
       "Unknown             2.727422    12.096127     15.262529     782.790094   \n",
       "\n",
       "               price_per_mile   ppm_adj  \n",
       "Borough                                  \n",
       "Bronx                5.070810  0.022374  \n",
       "Brooklyn             5.040773  0.020363  \n",
       "EWR                  5.266295  1.066167  \n",
       "Manhattan            5.998951  0.016625  \n",
       "Queens               3.426534  0.022823  \n",
       "Staten Island        5.398896  0.088982  \n",
       "Unknown              5.948243  0.025388  "
      ]
     },
     "execution_count": 38,
     "metadata": {},
     "output_type": "execute_result"
    }
   ],
   "source": [
    "grouped_mean = df_full.groupby(['Borough']).mean()\n",
    "grouped_mean = grouped_mean.drop(columns=['PULocationID','DOLocationID'])\n",
    "grouped_mean"
   ]
  },
  {
   "cell_type": "code",
   "execution_count": 39,
   "metadata": {},
   "outputs": [
    {
     "data": {
      "text/html": [
       "<div>\n",
       "<style scoped>\n",
       "    .dataframe tbody tr th:only-of-type {\n",
       "        vertical-align: middle;\n",
       "    }\n",
       "\n",
       "    .dataframe tbody tr th {\n",
       "        vertical-align: top;\n",
       "    }\n",
       "\n",
       "    .dataframe thead th {\n",
       "        text-align: right;\n",
       "    }\n",
       "</style>\n",
       "<table border=\"1\" class=\"dataframe\">\n",
       "  <thead>\n",
       "    <tr style=\"text-align: right;\">\n",
       "      <th></th>\n",
       "      <th>trip_distance</th>\n",
       "      <th>fare_amount</th>\n",
       "      <th>total_amount</th>\n",
       "      <th>trip_duration</th>\n",
       "      <th>price_per_mile</th>\n",
       "      <th>ppm_adj</th>\n",
       "    </tr>\n",
       "    <tr>\n",
       "      <th>Borough</th>\n",
       "      <th></th>\n",
       "      <th></th>\n",
       "      <th></th>\n",
       "      <th></th>\n",
       "      <th></th>\n",
       "      <th></th>\n",
       "    </tr>\n",
       "  </thead>\n",
       "  <tbody>\n",
       "    <tr>\n",
       "      <th>Bronx</th>\n",
       "      <td>4.015958</td>\n",
       "      <td>15.277666</td>\n",
       "      <td>17.523970</td>\n",
       "      <td>785.115332</td>\n",
       "      <td>1.924070</td>\n",
       "      <td>0.170328</td>\n",
       "    </tr>\n",
       "    <tr>\n",
       "      <th>Brooklyn</th>\n",
       "      <td>3.187334</td>\n",
       "      <td>9.814358</td>\n",
       "      <td>11.384963</td>\n",
       "      <td>609.879558</td>\n",
       "      <td>1.829422</td>\n",
       "      <td>0.226150</td>\n",
       "    </tr>\n",
       "    <tr>\n",
       "      <th>EWR</th>\n",
       "      <td>10.095290</td>\n",
       "      <td>42.743154</td>\n",
       "      <td>47.561087</td>\n",
       "      <td>1369.394536</td>\n",
       "      <td>3.345481</td>\n",
       "      <td>1.991070</td>\n",
       "    </tr>\n",
       "    <tr>\n",
       "      <th>Manhattan</th>\n",
       "      <td>2.561362</td>\n",
       "      <td>7.814083</td>\n",
       "      <td>9.740407</td>\n",
       "      <td>524.200035</td>\n",
       "      <td>2.057220</td>\n",
       "      <td>0.062299</td>\n",
       "    </tr>\n",
       "    <tr>\n",
       "      <th>Queens</th>\n",
       "      <td>6.207027</td>\n",
       "      <td>17.708341</td>\n",
       "      <td>22.169060</td>\n",
       "      <td>960.907013</td>\n",
       "      <td>1.185148</td>\n",
       "      <td>0.156366</td>\n",
       "    </tr>\n",
       "    <tr>\n",
       "      <th>Staten Island</th>\n",
       "      <td>8.202332</td>\n",
       "      <td>22.365476</td>\n",
       "      <td>24.291444</td>\n",
       "      <td>940.798437</td>\n",
       "      <td>2.464022</td>\n",
       "      <td>0.391515</td>\n",
       "    </tr>\n",
       "    <tr>\n",
       "      <th>Unknown</th>\n",
       "      <td>3.548111</td>\n",
       "      <td>11.112760</td>\n",
       "      <td>13.809022</td>\n",
       "      <td>601.677620</td>\n",
       "      <td>2.151121</td>\n",
       "      <td>0.272594</td>\n",
       "    </tr>\n",
       "  </tbody>\n",
       "</table>\n",
       "</div>"
      ],
      "text/plain": [
       "               trip_distance  fare_amount  total_amount  trip_duration  \\\n",
       "Borough                                                                  \n",
       "Bronx               4.015958    15.277666     17.523970     785.115332   \n",
       "Brooklyn            3.187334     9.814358     11.384963     609.879558   \n",
       "EWR                10.095290    42.743154     47.561087    1369.394536   \n",
       "Manhattan           2.561362     7.814083      9.740407     524.200035   \n",
       "Queens              6.207027    17.708341     22.169060     960.907013   \n",
       "Staten Island       8.202332    22.365476     24.291444     940.798437   \n",
       "Unknown             3.548111    11.112760     13.809022     601.677620   \n",
       "\n",
       "               price_per_mile   ppm_adj  \n",
       "Borough                                  \n",
       "Bronx                1.924070  0.170328  \n",
       "Brooklyn             1.829422  0.226150  \n",
       "EWR                  3.345481  1.991070  \n",
       "Manhattan            2.057220  0.062299  \n",
       "Queens               1.185148  0.156366  \n",
       "Staten Island        2.464022  0.391515  \n",
       "Unknown              2.151121  0.272594  "
      ]
     },
     "execution_count": 39,
     "metadata": {},
     "output_type": "execute_result"
    }
   ],
   "source": [
    "grouped_std = df_full.groupby(['Borough']).std()\n",
    "grouped_std = grouped_std.drop(columns=['PULocationID','DOLocationID'])\n",
    "grouped_std"
   ]
  },
  {
   "cell_type": "markdown",
   "metadata": {},
   "source": [
    "We perform again the t test with the new feature."
   ]
  },
  {
   "cell_type": "code",
   "execution_count": 40,
   "metadata": {},
   "outputs": [
    {
     "data": {
      "text/html": [
       "<div>\n",
       "<style scoped>\n",
       "    .dataframe tbody tr th:only-of-type {\n",
       "        vertical-align: middle;\n",
       "    }\n",
       "\n",
       "    .dataframe tbody tr th {\n",
       "        vertical-align: top;\n",
       "    }\n",
       "\n",
       "    .dataframe thead th {\n",
       "        text-align: right;\n",
       "    }\n",
       "</style>\n",
       "<table border=\"1\" class=\"dataframe\">\n",
       "  <thead>\n",
       "    <tr style=\"text-align: right;\">\n",
       "      <th></th>\n",
       "      <th>Manhattan</th>\n",
       "      <th>Queens</th>\n",
       "      <th>Bronx</th>\n",
       "      <th>Brooklyn</th>\n",
       "      <th>Unknown</th>\n",
       "      <th>EWR</th>\n",
       "      <th>Staten Island</th>\n",
       "    </tr>\n",
       "  </thead>\n",
       "  <tbody>\n",
       "    <tr>\n",
       "      <th>Manhattan</th>\n",
       "      <td>1.000000e+00</td>\n",
       "      <td>NaN</td>\n",
       "      <td>NaN</td>\n",
       "      <td>NaN</td>\n",
       "      <td>NaN</td>\n",
       "      <td>NaN</td>\n",
       "      <td>NaN</td>\n",
       "    </tr>\n",
       "    <tr>\n",
       "      <th>Queens</th>\n",
       "      <td>0.000000e+00</td>\n",
       "      <td>1.000000</td>\n",
       "      <td>NaN</td>\n",
       "      <td>NaN</td>\n",
       "      <td>NaN</td>\n",
       "      <td>NaN</td>\n",
       "      <td>NaN</td>\n",
       "    </tr>\n",
       "    <tr>\n",
       "      <th>Bronx</th>\n",
       "      <td>2.779319e-14</td>\n",
       "      <td>0.813617</td>\n",
       "      <td>1.000000e+00</td>\n",
       "      <td>NaN</td>\n",
       "      <td>NaN</td>\n",
       "      <td>NaN</td>\n",
       "      <td>NaN</td>\n",
       "    </tr>\n",
       "    <tr>\n",
       "      <th>Brooklyn</th>\n",
       "      <td>1.573421e-72</td>\n",
       "      <td>0.000018</td>\n",
       "      <td>4.702693e-01</td>\n",
       "      <td>1.000000e+00</td>\n",
       "      <td>NaN</td>\n",
       "      <td>NaN</td>\n",
       "      <td>NaN</td>\n",
       "    </tr>\n",
       "    <tr>\n",
       "      <th>Unknown</th>\n",
       "      <td>0.000000e+00</td>\n",
       "      <td>0.000004</td>\n",
       "      <td>3.649383e-01</td>\n",
       "      <td>1.091028e-06</td>\n",
       "      <td>1.000000e+00</td>\n",
       "      <td>NaN</td>\n",
       "      <td>NaN</td>\n",
       "    </tr>\n",
       "    <tr>\n",
       "      <th>EWR</th>\n",
       "      <td>0.000000e+00</td>\n",
       "      <td>0.000000</td>\n",
       "      <td>6.221103e-213</td>\n",
       "      <td>5.636790e-272</td>\n",
       "      <td>1.188925e-190</td>\n",
       "      <td>1.000000</td>\n",
       "      <td>NaN</td>\n",
       "    </tr>\n",
       "    <tr>\n",
       "      <th>Staten Island</th>\n",
       "      <td>2.201084e-24</td>\n",
       "      <td>0.000206</td>\n",
       "      <td>8.582298e-04</td>\n",
       "      <td>7.823863e-03</td>\n",
       "      <td>4.075494e-02</td>\n",
       "      <td>0.000046</td>\n",
       "      <td>1.0</td>\n",
       "    </tr>\n",
       "  </tbody>\n",
       "</table>\n",
       "</div>"
      ],
      "text/plain": [
       "                  Manhattan    Queens          Bronx       Brooklyn  \\\n",
       "Manhattan      1.000000e+00       NaN            NaN            NaN   \n",
       "Queens         0.000000e+00  1.000000            NaN            NaN   \n",
       "Bronx          2.779319e-14  0.813617   1.000000e+00            NaN   \n",
       "Brooklyn       1.573421e-72  0.000018   4.702693e-01   1.000000e+00   \n",
       "Unknown        0.000000e+00  0.000004   3.649383e-01   1.091028e-06   \n",
       "EWR            0.000000e+00  0.000000  6.221103e-213  5.636790e-272   \n",
       "Staten Island  2.201084e-24  0.000206   8.582298e-04   7.823863e-03   \n",
       "\n",
       "                     Unknown       EWR  Staten Island  \n",
       "Manhattan                NaN       NaN            NaN  \n",
       "Queens                   NaN       NaN            NaN  \n",
       "Bronx                    NaN       NaN            NaN  \n",
       "Brooklyn                 NaN       NaN            NaN  \n",
       "Unknown         1.000000e+00       NaN            NaN  \n",
       "EWR            1.188925e-190  1.000000            NaN  \n",
       "Staten Island   4.075494e-02  0.000046            1.0  "
      ]
     },
     "execution_count": 40,
     "metadata": {},
     "output_type": "execute_result"
    }
   ],
   "source": [
    "ttest_matrix_adj = pd.DataFrame(index=df_full.Borough.unique(), columns=df_full.Borough.unique())\n",
    "\n",
    "for col1 in df_full.Borough.unique():\n",
    "    for col2 in df_full.Borough.unique():\n",
    "        ttest_matrix_adj.loc[col1,col2] = stats.ttest_ind(df_full[df_full.Borough == col1]['ppm_adj'], df_full[df_full.Borough == col2]['ppm_adj']).pvalue\n",
    "        if col1==col2:\n",
    "            break\n",
    "\n",
    "ttest_matrix_adj = ttest_matrix_adj.apply(pd.to_numeric)\n",
    "ttest_matrix_adj    "
   ]
  },
  {
   "cell_type": "markdown",
   "metadata": {},
   "source": [
    "We refuse the null hypothese for all the boroughs."
   ]
  },
  {
   "cell_type": "markdown",
   "metadata": {},
   "source": [
    "## RQ 5"
   ]
  },
  {
   "cell_type": "code",
   "execution_count": 25,
   "metadata": {},
   "outputs": [],
   "source": [
    "yellow_cabs_data = pd.read_csv('Documents/yellow_tripdata_2018-01.csv')"
   ]
  },
  {
   "cell_type": "code",
   "execution_count": 27,
   "metadata": {},
   "outputs": [],
   "source": [
    "# to get the trip duration of january using 2 columns \n",
    "columns = ['tpep_pickup_datetime', 'tpep_dropoff_datetime']\n",
    "yellow_cabs_data = pd.read_csv('Documents/yellow_tripdata_2018-01.csv', usecols = ['tpep_pickup_datetime', 'tpep_dropoff_datetime','trip_distance'], parse_dates = columns)\n",
    "yellow_cabs_data['trip_duration']=yellow_cabs_data['tpep_dropoff_datetime']-yellow_cabs_data['tpep_pickup_datetime']"
   ]
  },
  {
   "cell_type": "code",
   "execution_count": 28,
   "metadata": {},
   "outputs": [],
   "source": [
    "# consider only 2018 for drop datetime\n",
    "trip_jan = yellow_cabs_data[yellow_cabs_data['tpep_pickup_datetime'].dt.year == 2018]"
   ]
  },
  {
   "cell_type": "code",
   "execution_count": 29,
   "metadata": {},
   "outputs": [],
   "source": [
    "# consider only 2018 for drop datetime\n",
    "\n",
    "trip_jan = trip_jan[trip_jan['tpep_dropoff_datetime'].dt.year == 2018]\n"
   ]
  },
  {
   "cell_type": "code",
   "execution_count": 30,
   "metadata": {},
   "outputs": [],
   "source": [
    "# consider only january for pickup datetime\n",
    "\n",
    "trip_jan = trip_jan[trip_jan['tpep_pickup_datetime'].dt.month == 1]"
   ]
  },
  {
   "cell_type": "code",
   "execution_count": 31,
   "metadata": {},
   "outputs": [],
   "source": [
    "# consider only january for drop datetime\n",
    "\n",
    "trip_jan = trip_jan[trip_jan['tpep_dropoff_datetime'].dt.month == 1]"
   ]
  },
  {
   "cell_type": "code",
   "execution_count": 32,
   "metadata": {},
   "outputs": [],
   "source": [
    "#Filtering data having trip_distance>0.01\n",
    "\n",
    "trip_jan=trip_jan[trip_jan['trip_distance']>0.01]"
   ]
  },
  {
   "cell_type": "code",
   "execution_count": 33,
   "metadata": {},
   "outputs": [],
   "source": [
    "# getting the trip duration in seconds:\n",
    "trip_jan['trip_duration_in_sec']=trip_jan['trip_duration'].dt.total_seconds()"
   ]
  },
  {
   "cell_type": "code",
   "execution_count": 34,
   "metadata": {},
   "outputs": [],
   "source": [
    "#Cleansing  data for trip_duration_in_sec having more than 0 seconds\n",
    "\n",
    "trip_jan=trip_jan[trip_jan['trip_duration_in_sec']>0]"
   ]
  },
  {
   "cell_type": "code",
   "execution_count": 35,
   "metadata": {},
   "outputs": [],
   "source": [
    "#filtering data for longer trips that is greater than 50 miles\n",
    "\n",
    "trip_jan50=trip_jan[trip_jan['trip_distance']>50]"
   ]
  },
  {
   "cell_type": "code",
   "execution_count": 36,
   "metadata": {},
   "outputs": [
    {
     "data": {
      "image/png": "[encoded data removed]",
      "text/plain": [
       "<Figure size 432x288 with 1 Axes>"
      ]
     },
     "metadata": {
      "needs_background": "light"
     },
     "output_type": "display_data"
    }
   ],
   "source": [
    "# To Scatter Plot:\n",
    "\n",
    "import matplotlib.pyplot as plt\n",
    "plt.scatter(trip_jan50['trip_duration_in_sec'], trip_jan50['trip_distance'])\n",
    "plt.xlabel(\"Trip duration\")\n",
    "plt.ylabel(\"Trip distance\")\n",
    "plt.show()"
   ]
  },
  {
   "cell_type": "code",
   "execution_count": 37,
   "metadata": {},
   "outputs": [
    {
     "name": "stdout",
     "output_type": "stream",
     "text": [
      "0.4162930640176363\n",
      "0.00050780662234491\n"
     ]
    }
   ],
   "source": [
    "#To get Perasson Coefficient\n",
    "from scipy.stats import pearsonr\n",
    "x = trip_jan50['trip_duration_in_sec']\n",
    "y = trip_jan50['trip_distance']\n",
    "\n",
    "r,p = pearsonr(x,y)\n",
    "print (r)\n",
    "print (p)"
   ]
  },
  {
   "cell_type": "code",
   "execution_count": 38,
   "metadata": {},
   "outputs": [
    {
     "data": {
      "text/plain": [
       "0            125.0\n",
       "1             54.0\n",
       "2            890.0\n",
       "3            126.0\n",
       "4            983.0\n",
       "5           1114.0\n",
       "6           1193.0\n",
       "7          85786.0\n",
       "8            456.0\n",
       "9            965.0\n",
       "10           478.0\n",
       "11           902.0\n",
       "12           248.0\n",
       "13           541.0\n",
       "14           471.0\n",
       "15           557.0\n",
       "16           480.0\n",
       "17           230.0\n",
       "18          1002.0\n",
       "19           494.0\n",
       "20          1345.0\n",
       "21           489.0\n",
       "22           980.0\n",
       "23           367.0\n",
       "24           344.0\n",
       "25           324.0\n",
       "26           397.0\n",
       "27           425.0\n",
       "28           585.0\n",
       "29           508.0\n",
       "            ...   \n",
       "8492046      841.0\n",
       "8492047      579.0\n",
       "8492048      312.0\n",
       "8492049      140.0\n",
       "8492050      428.0\n",
       "8492051      731.0\n",
       "8492052      445.0\n",
       "8492053      306.0\n",
       "8492054      678.0\n",
       "8492055      507.0\n",
       "8492056      483.0\n",
       "8492057     1329.0\n",
       "8492058      236.0\n",
       "8492059      702.0\n",
       "8492060      644.0\n",
       "8492061      430.0\n",
       "8492062      260.0\n",
       "8492063      506.0\n",
       "8492064     2024.0\n",
       "8492065      201.0\n",
       "8492066      923.0\n",
       "8492067      171.0\n",
       "8492068     1565.0\n",
       "8492069     1333.0\n",
       "8492070     1674.0\n",
       "8492071     1547.0\n",
       "8492072     1849.0\n",
       "8492073     2129.0\n",
       "8492074      591.0\n",
       "8492075        6.0\n",
       "Name: trip_duration, Length: 8492076, dtype: float64"
      ]
     },
     "execution_count": 38,
     "metadata": {},
     "output_type": "execute_result"
    }
   ],
   "source": [
    "# to get the trip duration of feburary using 2 columns \n",
    "columns = ['tpep_pickup_datetime', 'tpep_dropoff_datetime']\n",
    "yellow_cabs_data_feb = pd.read_csv('Documents/yellow_tripdata_2018-02.csv', usecols = ['tpep_pickup_datetime', 'tpep_dropoff_datetime','trip_distance'], parse_dates = columns)\n",
    "yellow_cabs_data_feb['trip_duration']=yellow_cabs_data_feb['tpep_dropoff_datetime']-yellow_cabs_data_feb['tpep_pickup_datetime']\n",
    "yellow_cabs_data_feb['trip_duration'].dt.total_seconds()"
   ]
  },
  {
   "cell_type": "code",
   "execution_count": 41,
   "metadata": {},
   "outputs": [],
   "source": [
    "# consider only 2018 for drop datetime\n",
    "trip_feb = yellow_cabs_data_feb[yellow_cabs_data_feb['tpep_pickup_datetime'].dt.year == 2018]"
   ]
  },
  {
   "cell_type": "code",
   "execution_count": 42,
   "metadata": {},
   "outputs": [],
   "source": [
    "# consider only 2018 for drop datetime\n",
    "\n",
    "trip_feb = trip_feb[trip_feb['tpep_dropoff_datetime'].dt.year == 2018]\n"
   ]
  },
  {
   "cell_type": "code",
   "execution_count": 43,
   "metadata": {},
   "outputs": [],
   "source": [
    "# consider only feburary for pickup datetime\n",
    "\n",
    "trip_feb = trip_feb[trip_feb['tpep_pickup_datetime'].dt.month == 2]"
   ]
  },
  {
   "cell_type": "code",
   "execution_count": 44,
   "metadata": {},
   "outputs": [],
   "source": [
    "# consider only feburary for drop datetime\n",
    "\n",
    "trip_feb = trip_feb[trip_feb['tpep_dropoff_datetime'].dt.month == 2]"
   ]
  },
  {
   "cell_type": "code",
   "execution_count": 45,
   "metadata": {},
   "outputs": [],
   "source": [
    "#Filtering data having trip_distance>0.01\n",
    "\n",
    "trip_feb=trip_feb[trip_feb['trip_distance']>0.01]"
   ]
  },
  {
   "cell_type": "code",
   "execution_count": 46,
   "metadata": {},
   "outputs": [],
   "source": [
    "# getting the trip duration in seconds:\n",
    "trip_feb['trip_duration_in_sec']=trip_feb['trip_duration'].dt.total_seconds()"
   ]
  },
  {
   "cell_type": "code",
   "execution_count": 47,
   "metadata": {},
   "outputs": [],
   "source": [
    "#filtering data for longer trips that is greater than 50 miles\n",
    "\n",
    "trip_feb50=trip_feb[trip_feb['trip_distance']>50]"
   ]
  },
  {
   "cell_type": "code",
   "execution_count": 48,
   "metadata": {},
   "outputs": [
    {
     "data": {
      "image/png": "[encoded data removed]",
      "text/plain": [
       "<Figure size 432x288 with 1 Axes>"
      ]
     },
     "metadata": {
      "needs_background": "light"
     },
     "output_type": "display_data"
    }
   ],
   "source": [
    "# To Scatter Plot:\n",
    "\n",
    "import matplotlib.pyplot as plt\n",
    "plt.scatter(trip_feb50['trip_duration_in_sec'], trip_feb50['trip_distance'])\n",
    "plt.xlabel(\"Trip duration\")\n",
    "plt.ylabel(\"Trip distance\")\n",
    "plt.show()"
   ]
  },
  {
   "cell_type": "code",
   "execution_count": 49,
   "metadata": {},
   "outputs": [
    {
     "name": "stdout",
     "output_type": "stream",
     "text": [
      "0.054673271680790655\n",
      "0.3518812496716909\n"
     ]
    }
   ],
   "source": [
    "#To get Perasson Coefficient\n",
    "from scipy.stats import pearsonr\n",
    "x = trip_feb50['trip_duration_in_sec']\n",
    "y = trip_feb50['trip_distance']\n",
    "\n",
    "r,p = pearsonr(x,y)\n",
    "print (r)\n",
    "print (p)"
   ]
  },
  {
   "cell_type": "code",
   "execution_count": 50,
   "metadata": {},
   "outputs": [
    {
     "data": {
      "text/plain": [
       "0          5096438.0\n",
       "1          5096598.0\n",
       "2          5100688.0\n",
       "3          5096395.0\n",
       "4          5100438.0\n",
       "5          5099252.0\n",
       "6          5098352.0\n",
       "7          5097772.0\n",
       "8          5095369.0\n",
       "9          5097387.0\n",
       "10         5097877.0\n",
       "11         5097629.0\n",
       "12         5097659.0\n",
       "13         5098247.0\n",
       "14         5097977.0\n",
       "15         5096269.0\n",
       "16         5097537.0\n",
       "17         5098900.0\n",
       "18         5099094.0\n",
       "19         5098879.0\n",
       "20         5096725.0\n",
       "21         5095692.0\n",
       "22         5100040.0\n",
       "23         5097898.0\n",
       "24         5095679.0\n",
       "25         5098235.0\n",
       "26         5098171.0\n",
       "27         5098000.0\n",
       "28         5098535.0\n",
       "29         5098190.0\n",
       "             ...    \n",
       "9430346          NaN\n",
       "9430347          NaN\n",
       "9430348          NaN\n",
       "9430349          NaN\n",
       "9430350          NaN\n",
       "9430351          NaN\n",
       "9430352          NaN\n",
       "9430353          NaN\n",
       "9430354          NaN\n",
       "9430355          NaN\n",
       "9430356          NaN\n",
       "9430357          NaN\n",
       "9430358          NaN\n",
       "9430359          NaN\n",
       "9430360          NaN\n",
       "9430361          NaN\n",
       "9430362          NaN\n",
       "9430363          NaN\n",
       "9430364          NaN\n",
       "9430365          NaN\n",
       "9430366          NaN\n",
       "9430367          NaN\n",
       "9430368          NaN\n",
       "9430369          NaN\n",
       "9430370          NaN\n",
       "9430371          NaN\n",
       "9430372          NaN\n",
       "9430373          NaN\n",
       "9430374          NaN\n",
       "9430375          NaN\n",
       "Name: trip_duration, Length: 9430376, dtype: float64"
      ]
     },
     "execution_count": 50,
     "metadata": {},
     "output_type": "execute_result"
    }
   ],
   "source": [
    "# to get the trip duration of march using 2 columns \n",
    "columns = ['tpep_pickup_datetime', 'tpep_dropoff_datetime']\n",
    "yellow_cabs_data_mar = pd.read_csv('Documents/yellow_tripdata_2018-03.csv', usecols = ['tpep_pickup_datetime', 'tpep_dropoff_datetime','trip_distance'], parse_dates = columns)\n",
    "yellow_cabs_data_mar['trip_duration']=yellow_cabs_data_mar['tpep_dropoff_datetime']-yellow_cabs_data['tpep_pickup_datetime']\n",
    "yellow_cabs_data_mar['trip_duration'].dt.total_seconds()"
   ]
  },
  {
   "cell_type": "code",
   "execution_count": 51,
   "metadata": {},
   "outputs": [],
   "source": [
    "# consider only 2018 for drop datetime\n",
    "trip_mar = yellow_cabs_data_mar[yellow_cabs_data_mar['tpep_pickup_datetime'].dt.year == 2018]"
   ]
  },
  {
   "cell_type": "code",
   "execution_count": 52,
   "metadata": {},
   "outputs": [],
   "source": [
    "# consider only 2018 for drop datetime\n",
    "trip_mar = trip_mar[trip_mar['tpep_dropoff_datetime'].dt.year == 2018]"
   ]
  },
  {
   "cell_type": "code",
   "execution_count": 53,
   "metadata": {},
   "outputs": [],
   "source": [
    "# consider only march for pickup datetime\n",
    "\n",
    "trip_mar = trip_mar[trip_mar['tpep_pickup_datetime'].dt.month == 3]"
   ]
  },
  {
   "cell_type": "code",
   "execution_count": 54,
   "metadata": {},
   "outputs": [],
   "source": [
    "# consider only mar for drop datetime\n",
    "\n",
    "trip_mar = trip_mar[trip_mar['tpep_dropoff_datetime'].dt.month == 3]"
   ]
  },
  {
   "cell_type": "code",
   "execution_count": 55,
   "metadata": {},
   "outputs": [],
   "source": [
    "#Filtering data having trip_distance>0.01\n",
    "\n",
    "trip_mar=trip_mar[trip_mar['trip_distance']>0.01]"
   ]
  },
  {
   "cell_type": "code",
   "execution_count": 56,
   "metadata": {},
   "outputs": [],
   "source": [
    "# getting the trip duration in seconds:\n",
    "trip_mar['trip_duration_in_sec']=trip_mar['trip_duration'].dt.total_seconds()"
   ]
  },
  {
   "cell_type": "code",
   "execution_count": 57,
   "metadata": {},
   "outputs": [],
   "source": [
    "#Cleansing  data for trip_duration_in_sec having more than 0 seconds\n",
    "\n",
    "trip_mar=trip_mar[trip_mar['trip_duration_in_sec']>0]"
   ]
  },
  {
   "cell_type": "code",
   "execution_count": 58,
   "metadata": {},
   "outputs": [],
   "source": [
    "#filtering data for longer trips that is greater than 50 miles\n",
    "\n",
    "trip_mar50=trip_mar[trip_mar['trip_distance']>50]"
   ]
  },
  {
   "cell_type": "code",
   "execution_count": 59,
   "metadata": {},
   "outputs": [
    {
     "data": {
      "image/png": "[encoded data removed]",
      "text/plain": [
       "<Figure size 432x288 with 1 Axes>"
      ]
     },
     "metadata": {
      "needs_background": "light"
     },
     "output_type": "display_data"
    }
   ],
   "source": [
    "# To Scatter Plot:\n",
    "\n",
    "import matplotlib.pyplot as plt\n",
    "plt.scatter(trip_mar50['trip_duration_in_sec'], trip_mar50['trip_distance'])\n",
    "plt.xlabel(\"Trip duration\")\n",
    "plt.ylabel(\"Trip distance\")\n",
    "plt.show()"
   ]
  },
  {
   "cell_type": "code",
   "execution_count": 60,
   "metadata": {},
   "outputs": [
    {
     "name": "stdout",
     "output_type": "stream",
     "text": [
      "-0.051436704273785765\n",
      "0.722778333400623\n"
     ]
    }
   ],
   "source": [
    "#To get Pearson Coefficient\n",
    "from scipy.stats import pearsonr\n",
    "x = trip_mar50['trip_duration_in_sec']\n",
    "y = trip_mar50['trip_distance']\n",
    "\n",
    "r,p = pearsonr(x,y)\n",
    "print (r)\n",
    "print (p)"
   ]
  },
  {
   "cell_type": "code",
   "execution_count": 61,
   "metadata": {},
   "outputs": [
    {
     "data": {
      "text/plain": [
       "0             6.0\n",
       "1          1265.0\n",
       "2           939.0\n",
       "3           316.0\n",
       "4             5.0\n",
       "5           761.0\n",
       "6           475.0\n",
       "7           303.0\n",
       "8           534.0\n",
       "9           250.0\n",
       "10          202.0\n",
       "11          356.0\n",
       "12          964.0\n",
       "13         1058.0\n",
       "14          130.0\n",
       "15          556.0\n",
       "16         2171.0\n",
       "17          962.0\n",
       "18          754.0\n",
       "19          370.0\n",
       "20         1387.0\n",
       "21          412.0\n",
       "22          297.0\n",
       "23          140.0\n",
       "24          555.0\n",
       "25          644.0\n",
       "26         1973.0\n",
       "27          863.0\n",
       "28           62.0\n",
       "29          836.0\n",
       "            ...  \n",
       "9305485     274.0\n",
       "9305486     435.0\n",
       "9305487     698.0\n",
       "9305488    1096.0\n",
       "9305489     477.0\n",
       "9305490    1694.0\n",
       "9305491    1591.0\n",
       "9305492    1703.0\n",
       "9305493    1315.0\n",
       "9305494     534.0\n",
       "9305495    1534.0\n",
       "9305496     250.0\n",
       "9305497     489.0\n",
       "9305498     605.0\n",
       "9305499     156.0\n",
       "9305500     706.0\n",
       "9305501    1284.0\n",
       "9305502    1222.0\n",
       "9305503    1128.0\n",
       "9305504     228.0\n",
       "9305505     412.0\n",
       "9305506     106.0\n",
       "9305507     271.0\n",
       "9305508    1015.0\n",
       "9305509     337.0\n",
       "9305510    1058.0\n",
       "9305511      95.0\n",
       "9305512     399.0\n",
       "9305513     956.0\n",
       "9305514    1084.0\n",
       "Name: trip_duration, Length: 9305515, dtype: float64"
      ]
     },
     "execution_count": 61,
     "metadata": {},
     "output_type": "execute_result"
    }
   ],
   "source": [
    "# to get the trip duration of april using 2 columns \n",
    "columns = ['tpep_pickup_datetime', 'tpep_dropoff_datetime']\n",
    "yellow_cabs_data_apr = pd.read_csv('Documents/yellow_tripdata_2018-04.csv', usecols = ['tpep_pickup_datetime', 'tpep_dropoff_datetime','trip_distance'], parse_dates = columns)\n",
    "yellow_cabs_data_apr['trip_duration']=yellow_cabs_data_apr['tpep_dropoff_datetime']-yellow_cabs_data_apr['tpep_pickup_datetime']\n",
    "yellow_cabs_data_apr['trip_duration'].dt.total_seconds()"
   ]
  },
  {
   "cell_type": "code",
   "execution_count": 62,
   "metadata": {},
   "outputs": [],
   "source": [
    "# consider only 2018 for drop datetime\n",
    "trip_apr = yellow_cabs_data_apr[yellow_cabs_data_apr['tpep_pickup_datetime'].dt.year == 2018]"
   ]
  },
  {
   "cell_type": "code",
   "execution_count": 63,
   "metadata": {},
   "outputs": [],
   "source": [
    "# consider only 2018 for drop datetime\n",
    "\n",
    "trip_apr = trip_apr[trip_apr['tpep_dropoff_datetime'].dt.year == 2018]"
   ]
  },
  {
   "cell_type": "code",
   "execution_count": 64,
   "metadata": {},
   "outputs": [],
   "source": [
    "# consider only april for pickup datetime\n",
    "\n",
    "trip_apr = trip_apr[trip_apr['tpep_pickup_datetime'].dt.month == 4]"
   ]
  },
  {
   "cell_type": "code",
   "execution_count": 65,
   "metadata": {},
   "outputs": [],
   "source": [
    "# consider only january for drop datetime\n",
    "\n",
    "trip_apr = trip_apr[trip_apr['tpep_dropoff_datetime'].dt.month == 4]"
   ]
  },
  {
   "cell_type": "code",
   "execution_count": 66,
   "metadata": {},
   "outputs": [],
   "source": [
    "#Filtering data having trip_distance>0.01\n",
    "\n",
    "trip_apr=trip_apr[trip_apr['trip_distance']>0.01]"
   ]
  },
  {
   "cell_type": "code",
   "execution_count": 67,
   "metadata": {},
   "outputs": [],
   "source": [
    "# getting the trip duration in seconds:\n",
    "trip_apr['trip_duration_in_sec']=trip_apr['trip_duration'].dt.total_seconds()"
   ]
  },
  {
   "cell_type": "code",
   "execution_count": 68,
   "metadata": {},
   "outputs": [
    {
     "name": "stderr",
     "output_type": "stream",
     "text": [
      "/Users/daniele/anaconda3/lib/python3.7/site-packages/ipykernel_launcher.py:3: UserWarning: Boolean Series key will be reindexed to match DataFrame index.\n",
      "  This is separate from the ipykernel package so we can avoid doing imports until\n"
     ]
    },
    {
     "ename": "IndexingError",
     "evalue": "Unalignable boolean Series provided as indexer (index of the boolean Series and of the indexed object do not match",
     "output_type": "error",
     "traceback": [
      "\u001b[0;31m---------------------------------------------------------------------------\u001b[0m",
      "\u001b[0;31mIndexingError\u001b[0m                             Traceback (most recent call last)",
      "\u001b[0;32m<ipython-input-68-cdc4a08e024c>\u001b[0m in \u001b[0;36m<module>\u001b[0;34m()\u001b[0m\n\u001b[1;32m      1\u001b[0m \u001b[0;31m#Cleansing  data for trip_duration_in_sec having more than 0 seconds\u001b[0m\u001b[0;34m\u001b[0m\u001b[0;34m\u001b[0m\u001b[0m\n\u001b[1;32m      2\u001b[0m \u001b[0;34m\u001b[0m\u001b[0m\n\u001b[0;32m----> 3\u001b[0;31m \u001b[0mtrip_apr\u001b[0m\u001b[0;34m=\u001b[0m\u001b[0mtrip_apr\u001b[0m\u001b[0;34m[\u001b[0m\u001b[0mtrip_jan\u001b[0m\u001b[0;34m[\u001b[0m\u001b[0;34m'trip_duration_in_sec'\u001b[0m\u001b[0;34m]\u001b[0m\u001b[0;34m>\u001b[0m\u001b[0;36m0\u001b[0m\u001b[0;34m]\u001b[0m\u001b[0;34m\u001b[0m\u001b[0m\n\u001b[0m",
      "\u001b[0;32m~/anaconda3/lib/python3.7/site-packages/pandas/core/frame.py\u001b[0m in \u001b[0;36m__getitem__\u001b[0;34m(self, key)\u001b[0m\n\u001b[1;32m   2680\u001b[0m         \u001b[0;32mif\u001b[0m \u001b[0misinstance\u001b[0m\u001b[0;34m(\u001b[0m\u001b[0mkey\u001b[0m\u001b[0;34m,\u001b[0m \u001b[0;34m(\u001b[0m\u001b[0mSeries\u001b[0m\u001b[0;34m,\u001b[0m \u001b[0mnp\u001b[0m\u001b[0;34m.\u001b[0m\u001b[0mndarray\u001b[0m\u001b[0;34m,\u001b[0m \u001b[0mIndex\u001b[0m\u001b[0;34m,\u001b[0m \u001b[0mlist\u001b[0m\u001b[0;34m)\u001b[0m\u001b[0;34m)\u001b[0m\u001b[0;34m:\u001b[0m\u001b[0;34m\u001b[0m\u001b[0m\n\u001b[1;32m   2681\u001b[0m             \u001b[0;31m# either boolean or fancy integer index\u001b[0m\u001b[0;34m\u001b[0m\u001b[0;34m\u001b[0m\u001b[0m\n\u001b[0;32m-> 2682\u001b[0;31m             \u001b[0;32mreturn\u001b[0m \u001b[0mself\u001b[0m\u001b[0;34m.\u001b[0m\u001b[0m_getitem_array\u001b[0m\u001b[0;34m(\u001b[0m\u001b[0mkey\u001b[0m\u001b[0;34m)\u001b[0m\u001b[0;34m\u001b[0m\u001b[0m\n\u001b[0m\u001b[1;32m   2683\u001b[0m         \u001b[0;32melif\u001b[0m \u001b[0misinstance\u001b[0m\u001b[0;34m(\u001b[0m\u001b[0mkey\u001b[0m\u001b[0;34m,\u001b[0m \u001b[0mDataFrame\u001b[0m\u001b[0;34m)\u001b[0m\u001b[0;34m:\u001b[0m\u001b[0;34m\u001b[0m\u001b[0m\n\u001b[1;32m   2684\u001b[0m             \u001b[0;32mreturn\u001b[0m \u001b[0mself\u001b[0m\u001b[0;34m.\u001b[0m\u001b[0m_getitem_frame\u001b[0m\u001b[0;34m(\u001b[0m\u001b[0mkey\u001b[0m\u001b[0;34m)\u001b[0m\u001b[0;34m\u001b[0m\u001b[0m\n",
      "\u001b[0;32m~/anaconda3/lib/python3.7/site-packages/pandas/core/frame.py\u001b[0m in \u001b[0;36m_getitem_array\u001b[0;34m(self, key)\u001b[0m\n\u001b[1;32m   2720\u001b[0m             \u001b[0;31m# check_bool_indexer will throw exception if Series key cannot\u001b[0m\u001b[0;34m\u001b[0m\u001b[0;34m\u001b[0m\u001b[0m\n\u001b[1;32m   2721\u001b[0m             \u001b[0;31m# be reindexed to match DataFrame rows\u001b[0m\u001b[0;34m\u001b[0m\u001b[0;34m\u001b[0m\u001b[0m\n\u001b[0;32m-> 2722\u001b[0;31m             \u001b[0mkey\u001b[0m \u001b[0;34m=\u001b[0m \u001b[0mcheck_bool_indexer\u001b[0m\u001b[0;34m(\u001b[0m\u001b[0mself\u001b[0m\u001b[0;34m.\u001b[0m\u001b[0mindex\u001b[0m\u001b[0;34m,\u001b[0m \u001b[0mkey\u001b[0m\u001b[0;34m)\u001b[0m\u001b[0;34m\u001b[0m\u001b[0m\n\u001b[0m\u001b[1;32m   2723\u001b[0m             \u001b[0mindexer\u001b[0m \u001b[0;34m=\u001b[0m \u001b[0mkey\u001b[0m\u001b[0;34m.\u001b[0m\u001b[0mnonzero\u001b[0m\u001b[0;34m(\u001b[0m\u001b[0;34m)\u001b[0m\u001b[0;34m[\u001b[0m\u001b[0;36m0\u001b[0m\u001b[0;34m]\u001b[0m\u001b[0;34m\u001b[0m\u001b[0m\n\u001b[1;32m   2724\u001b[0m             \u001b[0;32mreturn\u001b[0m \u001b[0mself\u001b[0m\u001b[0;34m.\u001b[0m\u001b[0m_take\u001b[0m\u001b[0;34m(\u001b[0m\u001b[0mindexer\u001b[0m\u001b[0;34m,\u001b[0m \u001b[0maxis\u001b[0m\u001b[0;34m=\u001b[0m\u001b[0;36m0\u001b[0m\u001b[0;34m)\u001b[0m\u001b[0;34m\u001b[0m\u001b[0m\n",
      "\u001b[0;32m~/anaconda3/lib/python3.7/site-packages/pandas/core/indexing.py\u001b[0m in \u001b[0;36mcheck_bool_indexer\u001b[0;34m(ax, key)\u001b[0m\n\u001b[1;32m   2354\u001b[0m         \u001b[0mmask\u001b[0m \u001b[0;34m=\u001b[0m \u001b[0misna\u001b[0m\u001b[0;34m(\u001b[0m\u001b[0mresult\u001b[0m\u001b[0;34m.\u001b[0m\u001b[0m_values\u001b[0m\u001b[0;34m)\u001b[0m\u001b[0;34m\u001b[0m\u001b[0m\n\u001b[1;32m   2355\u001b[0m         \u001b[0;32mif\u001b[0m \u001b[0mmask\u001b[0m\u001b[0;34m.\u001b[0m\u001b[0many\u001b[0m\u001b[0;34m(\u001b[0m\u001b[0;34m)\u001b[0m\u001b[0;34m:\u001b[0m\u001b[0;34m\u001b[0m\u001b[0m\n\u001b[0;32m-> 2356\u001b[0;31m             raise IndexingError('Unalignable boolean Series provided as '\n\u001b[0m\u001b[1;32m   2357\u001b[0m                                 \u001b[0;34m'indexer (index of the boolean Series and of '\u001b[0m\u001b[0;34m\u001b[0m\u001b[0m\n\u001b[1;32m   2358\u001b[0m                                 'the indexed object do not match')\n",
      "\u001b[0;31mIndexingError\u001b[0m: Unalignable boolean Series provided as indexer (index of the boolean Series and of the indexed object do not match"
     ]
    }
   ],
   "source": [
    "#Cleansing  data for trip_duration_in_sec having more than 0 seconds\n",
    "\n",
    "trip_apr=trip_apr[trip_jan['trip_duration_in_sec']>0]"
   ]
  },
  {
   "cell_type": "code",
   "execution_count": null,
   "metadata": {},
   "outputs": [],
   "source": []
  }
 ],
 "metadata": {
  "kernelspec": {
   "display_name": "Python 3",
   "language": "python",
   "name": "python3"
  },
  "language_info": {
   "codemirror_mode": {
    "name": "ipython",
    "version": 3
   },
   "file_extension": ".py",
   "mimetype": "text/x-python",
   "name": "python",
   "nbconvert_exporter": "python",
   "pygments_lexer": "ipython3",
   "version": "3.7.0"
  }
 },
 "nbformat": 4,
 "nbformat_minor": 2
}
